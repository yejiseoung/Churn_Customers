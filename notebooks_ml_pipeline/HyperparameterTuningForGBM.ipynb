{
 "cells": [
  {
   "cell_type": "markdown",
   "id": "2059f1ae",
   "metadata": {},
   "source": [
    "# Credit Card Customers_Hyperparameter Tuning"
   ]
  },
  {
   "cell_type": "markdown",
   "id": "a251b4f0",
   "metadata": {},
   "source": [
    "In the following notebooks, we will go through the implementation of each of the steps in the Machine Learning Pipeline. \n",
    "\n",
    "The steps will: \n",
    "\n",
    "   - 1. Cleaning, EDA, and Visualization\n",
    "   - 2. Feature Engineering and Feature Scaling\n",
    "   - 3. Oversampling \n",
    "   - __4. Hyperparameter Tuning for Gradient Boosting Model__\n",
    "   - 5. Building Model Pipeline\n",
    "   \n",
    "=========================================================================================="
   ]
  },
  {
   "cell_type": "markdown",
   "id": "f3094ad2",
   "metadata": {},
   "source": [
    "### Introduction\n",
    "\n",
    "In the notebook (Building_Model_Pipeline.ipynb), we found the GradientBoosingClassifer shows the best performance for the dataset. \n",
    "\n",
    "In this notebook, I will try to find the best hyperparameter by using Optuna. \n",
    "\n"
   ]
  },
  {
   "cell_type": "markdown",
   "id": "2a6b4ff6",
   "metadata": {},
   "source": [
    "### Import Packages"
   ]
  },
  {
   "cell_type": "code",
   "execution_count": 1,
   "id": "b987af08",
   "metadata": {},
   "outputs": [
    {
     "data": {
      "text/plain": [
       "'/Users/yejiseoung/Dropbox/My Mac (Yejis-MacBook-Pro.local)/Documents/Projects/CreditCard'"
      ]
     },
     "execution_count": 1,
     "metadata": {},
     "output_type": "execute_result"
    }
   ],
   "source": [
    "import numpy as np\n",
    "import pandas as pd\n",
    "import seaborn as sns\n",
    "import matplotlib.pyplot as plt\n",
    "\n",
    "import warnings\n",
    "warnings.filterwarnings('ignore')\n",
    "\n",
    "from collections import Counter\n",
    "\n",
    "pd.set_option('display.max_columns', 100)\n",
    "pd.set_option('display.max_rows', 100)\n",
    "\n",
    "from pathlib import Path\n",
    "import os\n",
    "os.getcwd()"
   ]
  },
  {
   "cell_type": "code",
   "execution_count": 2,
   "id": "3e70026f",
   "metadata": {},
   "outputs": [],
   "source": [
    "# set up path for data\n",
    "path = Path('/Users/yejiseoung/Dropbox/My Mac (Yejis-MacBook-Pro.local)/Documents/Projects/CreditCard/Data/')"
   ]
  },
  {
   "cell_type": "code",
   "execution_count": 3,
   "id": "f8fceb53",
   "metadata": {},
   "outputs": [],
   "source": [
    "# Data pre-processing \n",
    "from sklearn.preprocessing import StandardScaler\n",
    "from sklearn.model_selection import train_test_split\n",
    "\n",
    "\n",
    "# Modelling \n",
    "from sklearn.metrics import (\n",
    "    roc_auc_score,\n",
    "    precision_score, \n",
    "    accuracy_score, \n",
    "    recall_score,\n",
    ")\n",
    "\n",
    "from sklearn.ensemble import GradientBoostingClassifier\n",
    "\n",
    "\n",
    "# for feature engineering\n",
    "from feature_engine import encoding as ce\n",
    "\n",
    "# Evaluation & CV\n",
    "from sklearn.model_selection import RandomizedSearchCV\n",
    "from sklearn.model_selection import KFold, cross_val_score\n",
    "\n",
    "\n",
    "# pipeline\n",
    "from sklearn.pipeline import Pipeline\n",
    "\n",
    "# for oversampling\n",
    "from imblearn.over_sampling import ADASYN, SMOTE\n",
    "\n",
    "# for cross-validation\n",
    "from imblearn.pipeline import make_pipeline\n",
    "\n",
    "# for hyperparameter tuning\n",
    "import optuna"
   ]
  },
  {
   "cell_type": "markdown",
   "id": "9c532da4",
   "metadata": {},
   "source": [
    "###  Load Data"
   ]
  },
  {
   "cell_type": "code",
   "execution_count": 4,
   "id": "2c276a37",
   "metadata": {},
   "outputs": [],
   "source": [
    "df = pd.read_csv(path/'BankChurners.csv')"
   ]
  },
  {
   "cell_type": "code",
   "execution_count": 5,
   "id": "82561867",
   "metadata": {},
   "outputs": [
    {
     "data": {
      "text/plain": [
       "(10127, 20)"
      ]
     },
     "execution_count": 5,
     "metadata": {},
     "output_type": "execute_result"
    }
   ],
   "source": [
    "# drop unuseful columns \n",
    "df.drop(['CLIENTNUM',\n",
    "        'Naive_Bayes_Classifier_Attrition_Flag_Card_Category_Contacts_Count_12_mon_Dependent_count_Education_Level_Months_Inactive_12_mon_1',\n",
    "     'Naive_Bayes_Classifier_Attrition_Flag_Card_Category_Contacts_Count_12_mon_Dependent_count_Education_Level_Months_Inactive_12_mon_2'],\n",
    "        axis=1, inplace=True)\n",
    "\n",
    "df.shape"
   ]
  },
  {
   "cell_type": "code",
   "execution_count": 6,
   "id": "b7f2337e",
   "metadata": {},
   "outputs": [
    {
     "name": "stdout",
     "output_type": "stream",
     "text": [
      "The number of categorical variables: 5\n",
      "The number of numerical vairables: 14\n"
     ]
    }
   ],
   "source": [
    "# create lists for categorical and numerical variables\n",
    "cat_vars = [var for var in df.columns if df[var].dtype=='O' and var != 'Attrition_Flag']\n",
    "num_vars = [var for var in df.columns if df[var].dtype!='O']\n",
    "\n",
    "print('The number of categorical variables: {}'.format(len(cat_vars)))\n",
    "print('The number of numerical vairables: {}'.format(len(num_vars)))"
   ]
  },
  {
   "cell_type": "code",
   "execution_count": 7,
   "id": "55f129be",
   "metadata": {},
   "outputs": [
    {
     "data": {
      "text/html": [
       "<div>\n",
       "<style scoped>\n",
       "    .dataframe tbody tr th:only-of-type {\n",
       "        vertical-align: middle;\n",
       "    }\n",
       "\n",
       "    .dataframe tbody tr th {\n",
       "        vertical-align: top;\n",
       "    }\n",
       "\n",
       "    .dataframe thead th {\n",
       "        text-align: right;\n",
       "    }\n",
       "</style>\n",
       "<table border=\"1\" class=\"dataframe\">\n",
       "  <thead>\n",
       "    <tr style=\"text-align: right;\">\n",
       "      <th></th>\n",
       "      <th>Attrition_Flag</th>\n",
       "      <th>Customer_Age</th>\n",
       "      <th>Gender</th>\n",
       "      <th>Dependent_count</th>\n",
       "      <th>Education_Level</th>\n",
       "      <th>Marital_Status</th>\n",
       "      <th>Income_Category</th>\n",
       "      <th>Card_Category</th>\n",
       "      <th>Months_on_book</th>\n",
       "      <th>Total_Relationship_Count</th>\n",
       "      <th>Months_Inactive_12_mon</th>\n",
       "      <th>Contacts_Count_12_mon</th>\n",
       "      <th>Credit_Limit</th>\n",
       "      <th>Total_Revolving_Bal</th>\n",
       "      <th>Avg_Open_To_Buy</th>\n",
       "      <th>Total_Amt_Chng_Q4_Q1</th>\n",
       "      <th>Total_Trans_Amt</th>\n",
       "      <th>Total_Trans_Ct</th>\n",
       "      <th>Total_Ct_Chng_Q4_Q1</th>\n",
       "      <th>Avg_Utilization_Ratio</th>\n",
       "    </tr>\n",
       "  </thead>\n",
       "  <tbody>\n",
       "    <tr>\n",
       "      <th>0</th>\n",
       "      <td>Existing Customer</td>\n",
       "      <td>45</td>\n",
       "      <td>M</td>\n",
       "      <td>3</td>\n",
       "      <td>High School</td>\n",
       "      <td>Married</td>\n",
       "      <td>$60K - $80K</td>\n",
       "      <td>Blue</td>\n",
       "      <td>39</td>\n",
       "      <td>5</td>\n",
       "      <td>1</td>\n",
       "      <td>3</td>\n",
       "      <td>12691.0</td>\n",
       "      <td>777</td>\n",
       "      <td>11914.0</td>\n",
       "      <td>1.335</td>\n",
       "      <td>1144</td>\n",
       "      <td>42</td>\n",
       "      <td>1.625</td>\n",
       "      <td>0.061</td>\n",
       "    </tr>\n",
       "    <tr>\n",
       "      <th>1</th>\n",
       "      <td>Existing Customer</td>\n",
       "      <td>49</td>\n",
       "      <td>F</td>\n",
       "      <td>5</td>\n",
       "      <td>Graduate</td>\n",
       "      <td>Single</td>\n",
       "      <td>Less than $40K</td>\n",
       "      <td>Blue</td>\n",
       "      <td>44</td>\n",
       "      <td>6</td>\n",
       "      <td>1</td>\n",
       "      <td>2</td>\n",
       "      <td>8256.0</td>\n",
       "      <td>864</td>\n",
       "      <td>7392.0</td>\n",
       "      <td>1.541</td>\n",
       "      <td>1291</td>\n",
       "      <td>33</td>\n",
       "      <td>3.714</td>\n",
       "      <td>0.105</td>\n",
       "    </tr>\n",
       "  </tbody>\n",
       "</table>\n",
       "</div>"
      ],
      "text/plain": [
       "      Attrition_Flag  Customer_Age Gender  Dependent_count Education_Level  \\\n",
       "0  Existing Customer            45      M                3     High School   \n",
       "1  Existing Customer            49      F                5        Graduate   \n",
       "\n",
       "  Marital_Status Income_Category Card_Category  Months_on_book  \\\n",
       "0        Married     $60K - $80K          Blue              39   \n",
       "1         Single  Less than $40K          Blue              44   \n",
       "\n",
       "   Total_Relationship_Count  Months_Inactive_12_mon  Contacts_Count_12_mon  \\\n",
       "0                         5                       1                      3   \n",
       "1                         6                       1                      2   \n",
       "\n",
       "   Credit_Limit  Total_Revolving_Bal  Avg_Open_To_Buy  Total_Amt_Chng_Q4_Q1  \\\n",
       "0       12691.0                  777          11914.0                 1.335   \n",
       "1        8256.0                  864           7392.0                 1.541   \n",
       "\n",
       "   Total_Trans_Amt  Total_Trans_Ct  Total_Ct_Chng_Q4_Q1  Avg_Utilization_Ratio  \n",
       "0             1144              42                1.625                  0.061  \n",
       "1             1291              33                3.714                  0.105  "
      ]
     },
     "execution_count": 7,
     "metadata": {},
     "output_type": "execute_result"
    }
   ],
   "source": [
    "df.head(2)"
   ]
  },
  {
   "cell_type": "markdown",
   "id": "da1f097c",
   "metadata": {},
   "source": [
    "## Separate into train and test set"
   ]
  },
  {
   "cell_type": "code",
   "execution_count": 8,
   "id": "73919c3e",
   "metadata": {},
   "outputs": [
    {
     "data": {
      "text/plain": [
       "Existing Customer    8500\n",
       "Attrited Customer    1627\n",
       "Name: Attrition_Flag, dtype: int64"
      ]
     },
     "execution_count": 8,
     "metadata": {},
     "output_type": "execute_result"
    }
   ],
   "source": [
    "df['Attrition_Flag'].value_counts()"
   ]
  },
  {
   "cell_type": "code",
   "execution_count": 9,
   "id": "dc7c713e",
   "metadata": {},
   "outputs": [],
   "source": [
    "# change the string values of target to integer value\n",
    "churn_map = {'Existing Customer': 0,\n",
    "            'Attrited Customer': 1}\n",
    "df['Attrition_Flag'] = df['Attrition_Flag'].map(churn_map)"
   ]
  },
  {
   "cell_type": "code",
   "execution_count": 10,
   "id": "b28ec7b1",
   "metadata": {},
   "outputs": [
    {
     "data": {
      "text/plain": [
       "((8101, 19), (2026, 19))"
      ]
     },
     "execution_count": 10,
     "metadata": {},
     "output_type": "execute_result"
    }
   ],
   "source": [
    "X_train, X_test, y_train, y_test = train_test_split(\n",
    "    df.drop(['Attrition_Flag'], axis=1),\n",
    "    df['Attrition_Flag'],\n",
    "    test_size=0.2, \n",
    "    random_state=0)\n",
    "\n",
    "X_train.shape, X_test.shape"
   ]
  },
  {
   "cell_type": "markdown",
   "id": "d3f55486",
   "metadata": {},
   "source": [
    "## Data Preparation\n",
    "\n",
    "I will perform categorical encoding, feature scaling and oversampling here. "
   ]
  },
  {
   "cell_type": "code",
   "execution_count": 11,
   "id": "7b55c4ba",
   "metadata": {},
   "outputs": [],
   "source": [
    "# categorical encoding\n",
    "cat_encoding = ce.OrdinalEncoder(\n",
    "    encoding_method='arbitrary', variables=cat_vars)\n",
    "\n",
    "X_train = cat_encoding.fit_transform(X_train)\n",
    "X_test = cat_encoding.transform(X_test)\n",
    "\n",
    "# feature scaling\n",
    "scaler = StandardScaler()\n",
    "\n",
    "X_train = pd.DataFrame(\n",
    "    scaler.fit_transform(X_train),\n",
    "    columns=X_train.columns)\n",
    "\n",
    "X_test = pd.DataFrame(\n",
    "    scaler.transform(X_test),\n",
    "    columns=X_train.columns)\n",
    "\n",
    "\n",
    "# oversampling\n",
    "oversampling = ADASYN(\n",
    "    sampling_strategy='auto', # samples only the minority class\n",
    "        random_state=0,\n",
    "        n_neighbors=5,\n",
    "        n_jobs=1)\n",
    "\n",
    "X_resampled, y_resampled = oversampling.fit_resample(X_train, y_train)"
   ]
  },
  {
   "cell_type": "code",
   "execution_count": 12,
   "id": "f9b4e821",
   "metadata": {},
   "outputs": [
    {
     "data": {
      "text/plain": [
       "((13689, 19), (13689,))"
      ]
     },
     "execution_count": 12,
     "metadata": {},
     "output_type": "execute_result"
    }
   ],
   "source": [
    "# new resampled X_train and y_train\n",
    "X_resampled.shape, y_resampled.shape"
   ]
  },
  {
   "cell_type": "markdown",
   "id": "3d4f3e53",
   "metadata": {},
   "source": [
    "## Hyperparater tuning with Optuna"
   ]
  },
  {
   "cell_type": "code",
   "execution_count": 19,
   "id": "5dc930c2",
   "metadata": {},
   "outputs": [],
   "source": [
    "def objective(trial):\n",
    "    n_estimators = trial.suggest_int(\"n_estimators\", 100, 1000)\n",
    "    criterion = trial.suggest_categorical(\"criterion\", ['mse', 'friedman_mse'])\n",
    "    max_depth = trial.suggest_int(\"max_depth\", 1, 11)\n",
    "    min_samples_split = trial.suggest_float(\"min_samples_split\", 0.01, 1)\n",
    "    max_features = trial.suggest_categorical(\"features\", ['sqrt', 'log2'])\n",
    "    learning_rate = trial.suggest_float(\"learning_rate\", 0.0001, 0.1)\n",
    "    \n",
    "    model = GradientBoostingClassifier(\n",
    "        n_estimators=n_estimators,\n",
    "        criterion=criterion,\n",
    "        max_depth=max_depth,\n",
    "        min_samples_split=min_samples_split,\n",
    "        max_features=max_features,\n",
    "        learning_rate=learning_rate\n",
    "    )\n",
    "    \n",
    "    score = cross_val_score(model, X_resampled, y_resampled, cv=3, scoring='roc_auc')\n",
    "    accuracy = score.mean()\n",
    "    return accuracy"
   ]
  },
  {
   "cell_type": "code",
   "execution_count": 21,
   "id": "34762f0e",
   "metadata": {},
   "outputs": [
    {
     "name": "stderr",
     "output_type": "stream",
     "text": [
      "\u001b[32m[I 2022-03-02 09:34:22,769]\u001b[0m A new study created in memory with name: no-name-29eab686-5dd8-4ea2-975b-eeaa2ec25afa\u001b[0m\n",
      "\u001b[32m[I 2022-03-02 09:34:29,604]\u001b[0m Trial 0 finished with value: 0.9918070204898458 and parameters: {'n_estimators': 617, 'criterion': 'mse', 'max_depth': 5, 'min_samples_split': 0.7099803605986117, 'features': 'log2', 'learning_rate': 0.049744854977002914}. Best is trial 0 with value: 0.9918070204898458.\u001b[0m\n",
      "\u001b[32m[I 2022-03-02 09:34:30,958]\u001b[0m Trial 1 finished with value: 0.9580176485061993 and parameters: {'n_estimators': 180, 'criterion': 'friedman_mse', 'max_depth': 5, 'min_samples_split': 0.9488702774633049, 'features': 'log2', 'learning_rate': 0.05064986015555556}. Best is trial 0 with value: 0.9918070204898458.\u001b[0m\n",
      "\u001b[32m[I 2022-03-02 09:34:37,771]\u001b[0m Trial 2 finished with value: 0.9910296644150366 and parameters: {'n_estimators': 950, 'criterion': 'friedman_mse', 'max_depth': 1, 'min_samples_split': 0.8762109752127044, 'features': 'sqrt', 'learning_rate': 0.08480496206029714}. Best is trial 0 with value: 0.9918070204898458.\u001b[0m\n",
      "\u001b[32m[I 2022-03-02 09:34:44,832]\u001b[0m Trial 3 finished with value: 0.989098506474701 and parameters: {'n_estimators': 864, 'criterion': 'friedman_mse', 'max_depth': 11, 'min_samples_split': 0.9029586186008819, 'features': 'sqrt', 'learning_rate': 0.05562091655469097}. Best is trial 0 with value: 0.9918070204898458.\u001b[0m\n",
      "\u001b[32m[I 2022-03-02 09:34:53,041]\u001b[0m Trial 4 finished with value: 0.9775171946322083 and parameters: {'n_estimators': 957, 'criterion': 'friedman_mse', 'max_depth': 3, 'min_samples_split': 0.8583867998313778, 'features': 'sqrt', 'learning_rate': 0.01744995918802562}. Best is trial 0 with value: 0.9918070204898458.\u001b[0m\n",
      "\u001b[32m[I 2022-03-02 09:34:56,543]\u001b[0m Trial 5 finished with value: 0.9849125804238198 and parameters: {'n_estimators': 262, 'criterion': 'mse', 'max_depth': 6, 'min_samples_split': 0.5698209553703787, 'features': 'log2', 'learning_rate': 0.03607323856163638}. Best is trial 0 with value: 0.9918070204898458.\u001b[0m\n",
      "\u001b[32m[I 2022-03-02 09:35:05,502]\u001b[0m Trial 6 finished with value: 0.9925326937213222 and parameters: {'n_estimators': 710, 'criterion': 'friedman_mse', 'max_depth': 3, 'min_samples_split': 0.562192399180173, 'features': 'log2', 'learning_rate': 0.033055807008573405}. Best is trial 6 with value: 0.9925326937213222.\u001b[0m\n",
      "\u001b[32m[I 2022-03-02 09:35:21,647]\u001b[0m Trial 7 finished with value: 0.9978452032877717 and parameters: {'n_estimators': 649, 'criterion': 'mse', 'max_depth': 11, 'min_samples_split': 0.29165641522502106, 'features': 'log2', 'learning_rate': 0.05854347821735539}. Best is trial 7 with value: 0.9978452032877717.\u001b[0m\n",
      "\u001b[32m[I 2022-03-02 09:35:28,972]\u001b[0m Trial 8 finished with value: 0.9890115998843636 and parameters: {'n_estimators': 897, 'criterion': 'mse', 'max_depth': 11, 'min_samples_split': 0.8936205980994423, 'features': 'log2', 'learning_rate': 0.05118402544512888}. Best is trial 7 with value: 0.9978452032877717.\u001b[0m\n",
      "\u001b[32m[I 2022-03-02 09:35:34,218]\u001b[0m Trial 9 finished with value: 0.9818322637482447 and parameters: {'n_estimators': 485, 'criterion': 'mse', 'max_depth': 6, 'min_samples_split': 0.7122545682955657, 'features': 'log2', 'learning_rate': 0.02406911542629518}. Best is trial 7 with value: 0.9978452032877717.\u001b[0m\n",
      "\u001b[32m[I 2022-03-02 09:35:38,112]\u001b[0m Trial 10 finished with value: 0.9856164149321534 and parameters: {'n_estimators': 539, 'criterion': 'friedman_mse', 'max_depth': 1, 'min_samples_split': 0.3718446992712138, 'features': 'sqrt', 'learning_rate': 0.07699704895291193}. Best is trial 7 with value: 0.9978452032877717.\u001b[0m\n",
      "\u001b[32m[I 2022-03-02 09:35:53,776]\u001b[0m Trial 11 finished with value: 0.9980608366626179 and parameters: {'n_estimators': 570, 'criterion': 'mse', 'max_depth': 11, 'min_samples_split': 0.25306140292527085, 'features': 'sqrt', 'learning_rate': 0.08508600817618796}. Best is trial 11 with value: 0.9980608366626179.\u001b[0m\n",
      "\u001b[32m[I 2022-03-02 09:36:12,735]\u001b[0m Trial 12 finished with value: 0.9974526826597848 and parameters: {'n_estimators': 954, 'criterion': 'friedman_mse', 'max_depth': 4, 'min_samples_split': 0.20987292771069993, 'features': 'sqrt', 'learning_rate': 0.03861312549920434}. Best is trial 11 with value: 0.9980608366626179.\u001b[0m\n",
      "\u001b[32m[I 2022-03-02 09:36:15,467]\u001b[0m Trial 13 finished with value: 0.9911559575588433 and parameters: {'n_estimators': 141, 'criterion': 'mse', 'max_depth': 4, 'min_samples_split': 0.20565183952445829, 'features': 'sqrt', 'learning_rate': 0.05484693830522998}. Best is trial 11 with value: 0.9980608366626179.\u001b[0m\n",
      "\u001b[32m[I 2022-03-02 09:36:23,270]\u001b[0m Trial 14 finished with value: 0.9834162116078767 and parameters: {'n_estimators': 417, 'criterion': 'mse', 'max_depth': 9, 'min_samples_split': 0.3075138238105589, 'features': 'log2', 'learning_rate': 0.009601637209175272}. Best is trial 11 with value: 0.9980608366626179.\u001b[0m\n",
      "\u001b[32m[I 2022-03-02 09:36:50,483]\u001b[0m Trial 15 finished with value: 0.998131348199804 and parameters: {'n_estimators': 936, 'criterion': 'mse', 'max_depth': 8, 'min_samples_split': 0.18071937744830943, 'features': 'sqrt', 'learning_rate': 0.06289000470831986}. Best is trial 15 with value: 0.998131348199804.\u001b[0m\n",
      "\u001b[32m[I 2022-03-02 09:36:54,087]\u001b[0m Trial 16 finished with value: 0.9968631011780998 and parameters: {'n_estimators': 140, 'criterion': 'friedman_mse', 'max_depth': 7, 'min_samples_split': 0.20199099621230926, 'features': 'sqrt', 'learning_rate': 0.09760339918577136}. Best is trial 15 with value: 0.998131348199804.\u001b[0m\n",
      "\u001b[32m[I 2022-03-02 09:37:00,198]\u001b[0m Trial 17 finished with value: 0.9951600009888266 and parameters: {'n_estimators': 384, 'criterion': 'mse', 'max_depth': 3, 'min_samples_split': 0.2340094274956974, 'features': 'log2', 'learning_rate': 0.053913790214738536}. Best is trial 15 with value: 0.998131348199804.\u001b[0m\n",
      "\u001b[32m[I 2022-03-02 09:37:06,877]\u001b[0m Trial 18 finished with value: 0.9889691392584288 and parameters: {'n_estimators': 846, 'criterion': 'friedman_mse', 'max_depth': 6, 'min_samples_split': 0.9410909715997735, 'features': 'log2', 'learning_rate': 0.05863317292075688}. Best is trial 15 with value: 0.998131348199804.\u001b[0m\n",
      "\u001b[32m[I 2022-03-02 09:37:08,353]\u001b[0m Trial 19 finished with value: 0.9204025613171787 and parameters: {'n_estimators': 119, 'criterion': 'friedman_mse', 'max_depth': 2, 'min_samples_split': 0.13795313120860903, 'features': 'log2', 'learning_rate': 0.00513185636441106}. Best is trial 15 with value: 0.998131348199804.\u001b[0m\n",
      "\u001b[32m[I 2022-03-02 09:37:23,110]\u001b[0m Trial 20 finished with value: 0.9973789049206037 and parameters: {'n_estimators': 856, 'criterion': 'friedman_mse', 'max_depth': 11, 'min_samples_split': 0.495186611460432, 'features': 'log2', 'learning_rate': 0.07761355203741716}. Best is trial 15 with value: 0.998131348199804.\u001b[0m\n",
      "\u001b[32m[I 2022-03-02 09:37:30,852]\u001b[0m Trial 21 finished with value: 0.9964906901074939 and parameters: {'n_estimators': 464, 'criterion': 'friedman_mse', 'max_depth': 6, 'min_samples_split': 0.48084106567889606, 'features': 'log2', 'learning_rate': 0.07468476335197603}. Best is trial 15 with value: 0.998131348199804.\u001b[0m\n",
      "\u001b[32m[I 2022-03-02 09:37:41,739]\u001b[0m Trial 22 finished with value: 0.9968744368203177 and parameters: {'n_estimators': 805, 'criterion': 'mse', 'max_depth': 3, 'min_samples_split': 0.4851245754667762, 'features': 'sqrt', 'learning_rate': 0.08286029330940431}. Best is trial 15 with value: 0.998131348199804.\u001b[0m\n",
      "\u001b[32m[I 2022-03-02 09:37:45,798]\u001b[0m Trial 23 finished with value: 0.9937890927553975 and parameters: {'n_estimators': 265, 'criterion': 'mse', 'max_depth': 4, 'min_samples_split': 0.47116341128757744, 'features': 'sqrt', 'learning_rate': 0.07041967106883162}. Best is trial 15 with value: 0.998131348199804.\u001b[0m\n",
      "\u001b[32m[I 2022-03-02 09:37:59,975]\u001b[0m Trial 24 finished with value: 0.9969395687306886 and parameters: {'n_estimators': 843, 'criterion': 'friedman_mse', 'max_depth': 6, 'min_samples_split': 0.48511099238874933, 'features': 'log2', 'learning_rate': 0.05217847222774198}. Best is trial 15 with value: 0.998131348199804.\u001b[0m\n",
      "\u001b[32m[I 2022-03-02 09:38:15,355]\u001b[0m Trial 25 finished with value: 0.9980500774089872 and parameters: {'n_estimators': 503, 'criterion': 'mse', 'max_depth': 10, 'min_samples_split': 0.1678384659709812, 'features': 'log2', 'learning_rate': 0.04708460865062653}. Best is trial 15 with value: 0.998131348199804.\u001b[0m\n"
     ]
    },
    {
     "name": "stderr",
     "output_type": "stream",
     "text": [
      "\u001b[32m[I 2022-03-02 09:38:24,584]\u001b[0m Trial 26 finished with value: 0.9978477650148266 and parameters: {'n_estimators': 310, 'criterion': 'friedman_mse', 'max_depth': 10, 'min_samples_split': 0.19399784478179977, 'features': 'sqrt', 'learning_rate': 0.08171679676322756}. Best is trial 15 with value: 0.998131348199804.\u001b[0m\n",
      "\u001b[32m[I 2022-03-02 09:38:34,198]\u001b[0m Trial 27 finished with value: 0.9937855063375206 and parameters: {'n_estimators': 927, 'criterion': 'mse', 'max_depth': 3, 'min_samples_split': 0.7035853885676934, 'features': 'log2', 'learning_rate': 0.05075301213282573}. Best is trial 15 with value: 0.998131348199804.\u001b[0m\n",
      "\u001b[32m[I 2022-03-02 09:38:44,298]\u001b[0m Trial 28 finished with value: 0.9924194013423194 and parameters: {'n_estimators': 857, 'criterion': 'friedman_mse', 'max_depth': 10, 'min_samples_split': 0.6469010815833495, 'features': 'sqrt', 'learning_rate': 0.03137339801022523}. Best is trial 15 with value: 0.998131348199804.\u001b[0m\n",
      "\u001b[32m[I 2022-03-02 09:38:51,924]\u001b[0m Trial 29 finished with value: 0.984215726621711 and parameters: {'n_estimators': 911, 'criterion': 'friedman_mse', 'max_depth': 8, 'min_samples_split': 0.8795235824352484, 'features': 'log2', 'learning_rate': 0.03018589896963182}. Best is trial 15 with value: 0.998131348199804.\u001b[0m\n",
      "\u001b[32m[I 2022-03-02 09:38:56,445]\u001b[0m Trial 30 finished with value: 0.9524353890808691 and parameters: {'n_estimators': 342, 'criterion': 'mse', 'max_depth': 4, 'min_samples_split': 0.4392314318286087, 'features': 'sqrt', 'learning_rate': 0.006203823198805824}. Best is trial 15 with value: 0.998131348199804.\u001b[0m\n",
      "\u001b[32m[I 2022-03-02 09:38:58,254]\u001b[0m Trial 31 finished with value: 0.9148225113814332 and parameters: {'n_estimators': 255, 'criterion': 'mse', 'max_depth': 1, 'min_samples_split': 0.10727571483226728, 'features': 'sqrt', 'learning_rate': 0.013485936292604734}. Best is trial 15 with value: 0.998131348199804.\u001b[0m\n",
      "\u001b[32m[I 2022-03-02 09:39:10,577]\u001b[0m Trial 32 finished with value: 0.9973790330069564 and parameters: {'n_estimators': 703, 'criterion': 'mse', 'max_depth': 7, 'min_samples_split': 0.46911778963485373, 'features': 'sqrt', 'learning_rate': 0.07729588508048729}. Best is trial 15 with value: 0.998131348199804.\u001b[0m\n",
      "\u001b[32m[I 2022-03-02 09:39:30,479]\u001b[0m Trial 33 finished with value: 0.9980480280273434 and parameters: {'n_estimators': 766, 'criterion': 'friedman_mse', 'max_depth': 7, 'min_samples_split': 0.23857976524801625, 'features': 'sqrt', 'learning_rate': 0.08517454225625821}. Best is trial 15 with value: 0.998131348199804.\u001b[0m\n",
      "\u001b[32m[I 2022-03-02 09:39:45,928]\u001b[0m Trial 34 finished with value: 0.9978965659152225 and parameters: {'n_estimators': 742, 'criterion': 'friedman_mse', 'max_depth': 4, 'min_samples_split': 0.132523024544708, 'features': 'log2', 'learning_rate': 0.05518717645594013}. Best is trial 15 with value: 0.998131348199804.\u001b[0m\n",
      "\u001b[32m[I 2022-03-02 09:39:50,858]\u001b[0m Trial 35 finished with value: 0.9959813547258037 and parameters: {'n_estimators': 275, 'criterion': 'friedman_mse', 'max_depth': 5, 'min_samples_split': 0.42209695899449556, 'features': 'log2', 'learning_rate': 0.08755445445228534}. Best is trial 15 with value: 0.998131348199804.\u001b[0m\n",
      "\u001b[32m[I 2022-03-02 09:39:58,832]\u001b[0m Trial 36 finished with value: 0.9960023608876538 and parameters: {'n_estimators': 430, 'criterion': 'friedman_mse', 'max_depth': 5, 'min_samples_split': 0.3850765220358024, 'features': 'sqrt', 'learning_rate': 0.05029877725403875}. Best is trial 15 with value: 0.998131348199804.\u001b[0m\n",
      "\u001b[32m[I 2022-03-02 09:40:03,942]\u001b[0m Trial 37 finished with value: 0.9964634077143592 and parameters: {'n_estimators': 271, 'criterion': 'mse', 'max_depth': 10, 'min_samples_split': 0.4059239491852729, 'features': 'log2', 'learning_rate': 0.09338238736873569}. Best is trial 15 with value: 0.998131348199804.\u001b[0m\n",
      "\u001b[32m[I 2022-03-02 09:40:16,826]\u001b[0m Trial 38 finished with value: 0.9971814598078473 and parameters: {'n_estimators': 550, 'criterion': 'friedman_mse', 'max_depth': 9, 'min_samples_split': 0.3129255274563437, 'features': 'sqrt', 'learning_rate': 0.046987940753893315}. Best is trial 15 with value: 0.998131348199804.\u001b[0m\n",
      "\u001b[32m[I 2022-03-02 09:40:26,979]\u001b[0m Trial 39 finished with value: 0.9974133601494922 and parameters: {'n_estimators': 537, 'criterion': 'mse', 'max_depth': 7, 'min_samples_split': 0.4080334112054942, 'features': 'log2', 'learning_rate': 0.08099401056880957}. Best is trial 15 with value: 0.998131348199804.\u001b[0m\n",
      "\u001b[32m[I 2022-03-02 09:40:48,657]\u001b[0m Trial 40 finished with value: 0.9979318537054037 and parameters: {'n_estimators': 848, 'criterion': 'friedman_mse', 'max_depth': 5, 'min_samples_split': 0.0911420004327747, 'features': 'sqrt', 'learning_rate': 0.034474049043694076}. Best is trial 15 with value: 0.998131348199804.\u001b[0m\n",
      "\u001b[32m[I 2022-03-02 09:40:57,868]\u001b[0m Trial 41 finished with value: 0.9937826884377601 and parameters: {'n_estimators': 883, 'criterion': 'friedman_mse', 'max_depth': 9, 'min_samples_split': 0.7429771081350339, 'features': 'log2', 'learning_rate': 0.05343054239166015}. Best is trial 15 with value: 0.998131348199804.\u001b[0m\n",
      "\u001b[32m[I 2022-03-02 09:41:10,549]\u001b[0m Trial 42 finished with value: 0.9967481436765112 and parameters: {'n_estimators': 985, 'criterion': 'friedman_mse', 'max_depth': 11, 'min_samples_split': 0.5906193987329277, 'features': 'log2', 'learning_rate': 0.08413786452982545}. Best is trial 15 with value: 0.998131348199804.\u001b[0m\n",
      "\u001b[32m[I 2022-03-02 09:41:17,117]\u001b[0m Trial 43 finished with value: 0.9732400710981727 and parameters: {'n_estimators': 822, 'criterion': 'mse', 'max_depth': 11, 'min_samples_split': 0.8739686740637346, 'features': 'log2', 'learning_rate': 0.017549658469292514}. Best is trial 15 with value: 0.998131348199804.\u001b[0m\n",
      "\u001b[32m[I 2022-03-02 09:41:28,176]\u001b[0m Trial 44 finished with value: 0.9844449691715361 and parameters: {'n_estimators': 968, 'criterion': 'mse', 'max_depth': 9, 'min_samples_split': 0.6862288238861322, 'features': 'log2', 'learning_rate': 0.013337541428884018}. Best is trial 15 with value: 0.998131348199804.\u001b[0m\n",
      "\u001b[32m[I 2022-03-02 09:41:38,322]\u001b[0m Trial 45 finished with value: 0.997461840834006 and parameters: {'n_estimators': 492, 'criterion': 'friedman_mse', 'max_depth': 5, 'min_samples_split': 0.31899732470177566, 'features': 'log2', 'learning_rate': 0.09732258477174598}. Best is trial 15 with value: 0.998131348199804.\u001b[0m\n",
      "\u001b[32m[I 2022-03-02 09:41:44,332]\u001b[0m Trial 46 finished with value: 0.9882600532096326 and parameters: {'n_estimators': 864, 'criterion': 'mse', 'max_depth': 1, 'min_samples_split': 0.02622485546153308, 'features': 'log2', 'learning_rate': 0.06244507795848382}. Best is trial 15 with value: 0.998131348199804.\u001b[0m\n",
      "\u001b[32m[I 2022-03-02 09:41:50,604]\u001b[0m Trial 47 finished with value: 0.966916672014272 and parameters: {'n_estimators': 695, 'criterion': 'mse', 'max_depth': 2, 'min_samples_split': 0.7338003797518976, 'features': 'sqrt', 'learning_rate': 0.012124806411004208}. Best is trial 15 with value: 0.998131348199804.\u001b[0m\n",
      "\u001b[32m[I 2022-03-02 09:42:08,532]\u001b[0m Trial 48 finished with value: 0.9975812813579408 and parameters: {'n_estimators': 974, 'criterion': 'mse', 'max_depth': 4, 'min_samples_split': 0.2948754536572373, 'features': 'log2', 'learning_rate': 0.06141799592262705}. Best is trial 15 with value: 0.998131348199804.\u001b[0m\n",
      "\u001b[32m[I 2022-03-02 09:42:11,364]\u001b[0m Trial 49 finished with value: 0.960189864962401 and parameters: {'n_estimators': 392, 'criterion': 'friedman_mse', 'max_depth': 3, 'min_samples_split': 0.9657335660319785, 'features': 'log2', 'learning_rate': 0.02776391235655454}. Best is trial 15 with value: 0.998131348199804.\u001b[0m\n",
      "\u001b[32m[I 2022-03-02 09:42:13,910]\u001b[0m Trial 50 finished with value: 0.9825575206990749 and parameters: {'n_estimators': 358, 'criterion': 'mse', 'max_depth': 1, 'min_samples_split': 0.7817621226737966, 'features': 'sqrt', 'learning_rate': 0.09094026886637838}. Best is trial 15 with value: 0.998131348199804.\u001b[0m\n",
      "\u001b[32m[I 2022-03-02 09:42:16,744]\u001b[0m Trial 51 finished with value: 0.9854167283082239 and parameters: {'n_estimators': 280, 'criterion': 'mse', 'max_depth': 6, 'min_samples_split': 0.7742327231212766, 'features': 'sqrt', 'learning_rate': 0.06387160739553449}. Best is trial 15 with value: 0.998131348199804.\u001b[0m\n"
     ]
    },
    {
     "name": "stderr",
     "output_type": "stream",
     "text": [
      "\u001b[32m[I 2022-03-02 09:42:17,463]\u001b[0m Trial 52 finished with value: 0.874166622156659 and parameters: {'n_estimators': 101, 'criterion': 'mse', 'max_depth': 1, 'min_samples_split': 0.5037439442238232, 'features': 'log2', 'learning_rate': 0.0034683665266914687}. Best is trial 15 with value: 0.998131348199804.\u001b[0m\n",
      "\u001b[32m[I 2022-03-02 09:42:36,843]\u001b[0m Trial 53 finished with value: 0.9965451908505868 and parameters: {'n_estimators': 864, 'criterion': 'friedman_mse', 'max_depth': 5, 'min_samples_split': 0.21078949598096727, 'features': 'sqrt', 'learning_rate': 0.018817868415075645}. Best is trial 15 with value: 0.998131348199804.\u001b[0m\n",
      "\u001b[32m[I 2022-03-02 09:42:40,248]\u001b[0m Trial 54 finished with value: 0.9898584428055369 and parameters: {'n_estimators': 282, 'criterion': 'mse', 'max_depth': 11, 'min_samples_split': 0.6369023237600919, 'features': 'sqrt', 'learning_rate': 0.06753314411309945}. Best is trial 15 with value: 0.998131348199804.\u001b[0m\n",
      "\u001b[32m[I 2022-03-02 09:42:41,348]\u001b[0m Trial 55 finished with value: 0.9527027373206359 and parameters: {'n_estimators': 151, 'criterion': 'mse', 'max_depth': 1, 'min_samples_split': 0.8944658940649595, 'features': 'sqrt', 'learning_rate': 0.05704531599207795}. Best is trial 15 with value: 0.998131348199804.\u001b[0m\n",
      "\u001b[32m[I 2022-03-02 09:42:55,024]\u001b[0m Trial 56 finished with value: 0.970468282424772 and parameters: {'n_estimators': 947, 'criterion': 'friedman_mse', 'max_depth': 10, 'min_samples_split': 0.4437832873625457, 'features': 'sqrt', 'learning_rate': 0.0037467256793519044}. Best is trial 15 with value: 0.998131348199804.\u001b[0m\n",
      "\u001b[32m[I 2022-03-02 09:42:58,584]\u001b[0m Trial 57 finished with value: 0.9736323995966304 and parameters: {'n_estimators': 288, 'criterion': 'friedman_mse', 'max_depth': 2, 'min_samples_split': 0.1981358205052008, 'features': 'sqrt', 'learning_rate': 0.018263564107776784}. Best is trial 15 with value: 0.998131348199804.\u001b[0m\n",
      "\u001b[32m[I 2022-03-02 09:43:08,213]\u001b[0m Trial 58 finished with value: 0.9947901516452755 and parameters: {'n_estimators': 871, 'criterion': 'friedman_mse', 'max_depth': 9, 'min_samples_split': 0.6904930258013403, 'features': 'log2', 'learning_rate': 0.06327525379889856}. Best is trial 15 with value: 0.998131348199804.\u001b[0m\n",
      "\u001b[32m[I 2022-03-02 09:43:10,294]\u001b[0m Trial 59 finished with value: 0.9824441962984838 and parameters: {'n_estimators': 253, 'criterion': 'mse', 'max_depth': 11, 'min_samples_split': 0.8786345852000068, 'features': 'log2', 'learning_rate': 0.09251045667093069}. Best is trial 15 with value: 0.998131348199804.\u001b[0m\n",
      "\u001b[32m[I 2022-03-02 09:43:16,991]\u001b[0m Trial 60 finished with value: 0.9950235249799769 and parameters: {'n_estimators': 585, 'criterion': 'friedman_mse', 'max_depth': 8, 'min_samples_split': 0.6540655660246537, 'features': 'sqrt', 'learning_rate': 0.09269102693639421}. Best is trial 15 with value: 0.998131348199804.\u001b[0m\n",
      "\u001b[32m[I 2022-03-02 09:43:20,525]\u001b[0m Trial 61 finished with value: 0.9485105350384702 and parameters: {'n_estimators': 290, 'criterion': 'mse', 'max_depth': 3, 'min_samples_split': 0.4891992287533901, 'features': 'log2', 'learning_rate': 0.00911499310763648}. Best is trial 15 with value: 0.998131348199804.\u001b[0m\n",
      "\u001b[32m[I 2022-03-02 09:43:28,278]\u001b[0m Trial 62 finished with value: 0.9914412058664062 and parameters: {'n_estimators': 987, 'criterion': 'friedman_mse', 'max_depth': 2, 'min_samples_split': 0.9353851928209362, 'features': 'log2', 'learning_rate': 0.07492076811249411}. Best is trial 15 with value: 0.998131348199804.\u001b[0m\n",
      "\u001b[32m[I 2022-03-02 09:43:48,315]\u001b[0m Trial 63 finished with value: 0.997975403065337 and parameters: {'n_estimators': 510, 'criterion': 'friedman_mse', 'max_depth': 10, 'min_samples_split': 0.06253985081378405, 'features': 'sqrt', 'learning_rate': 0.022399150708658024}. Best is trial 15 with value: 0.998131348199804.\u001b[0m\n",
      "\u001b[32m[I 2022-03-02 09:43:53,580]\u001b[0m Trial 64 finished with value: 0.9833764087737614 and parameters: {'n_estimators': 532, 'criterion': 'mse', 'max_depth': 2, 'min_samples_split': 0.6141277797511775, 'features': 'sqrt', 'learning_rate': 0.0297659725969196}. Best is trial 15 with value: 0.998131348199804.\u001b[0m\n",
      "\u001b[32m[I 2022-03-02 09:44:06,375]\u001b[0m Trial 65 finished with value: 0.9970545902754534 and parameters: {'n_estimators': 789, 'criterion': 'mse', 'max_depth': 9, 'min_samples_split': 0.5081566028481252, 'features': 'sqrt', 'learning_rate': 0.06684642266866692}. Best is trial 15 with value: 0.998131348199804.\u001b[0m\n",
      "\u001b[32m[I 2022-03-02 09:44:08,939]\u001b[0m Trial 66 finished with value: 0.985407986414649 and parameters: {'n_estimators': 229, 'criterion': 'mse', 'max_depth': 7, 'min_samples_split': 0.7157437112837653, 'features': 'log2', 'learning_rate': 0.06577986431174686}. Best is trial 15 with value: 0.998131348199804.\u001b[0m\n",
      "\u001b[32m[I 2022-03-02 09:44:26,919]\u001b[0m Trial 67 finished with value: 0.9983726628883755 and parameters: {'n_estimators': 658, 'criterion': 'friedman_mse', 'max_depth': 5, 'min_samples_split': 0.017209668061883378, 'features': 'sqrt', 'learning_rate': 0.050497537295197764}. Best is trial 67 with value: 0.9983726628883755.\u001b[0m\n",
      "\u001b[32m[I 2022-03-02 09:44:28,928]\u001b[0m Trial 68 finished with value: 0.9746190807934131 and parameters: {'n_estimators': 281, 'criterion': 'mse', 'max_depth': 1, 'min_samples_split': 0.7750265651019557, 'features': 'sqrt', 'learning_rate': 0.0685889535858222}. Best is trial 67 with value: 0.9983726628883755.\u001b[0m\n",
      "\u001b[32m[I 2022-03-02 09:44:34,755]\u001b[0m Trial 69 finished with value: 0.9934417225667532 and parameters: {'n_estimators': 421, 'criterion': 'friedman_mse', 'max_depth': 11, 'min_samples_split': 0.5683920940132597, 'features': 'log2', 'learning_rate': 0.05521992495679798}. Best is trial 67 with value: 0.9983726628883755.\u001b[0m\n",
      "\u001b[32m[I 2022-03-02 09:44:45,719]\u001b[0m Trial 70 finished with value: 0.9966647594608742 and parameters: {'n_estimators': 941, 'criterion': 'mse', 'max_depth': 4, 'min_samples_split': 0.6031883473708063, 'features': 'log2', 'learning_rate': 0.09491154108195547}. Best is trial 67 with value: 0.9983726628883755.\u001b[0m\n",
      "\u001b[32m[I 2022-03-02 09:44:52,974]\u001b[0m Trial 71 finished with value: 0.9698109112408968 and parameters: {'n_estimators': 852, 'criterion': 'mse', 'max_depth': 11, 'min_samples_split': 0.8446990981008959, 'features': 'sqrt', 'learning_rate': 0.013257369105782908}. Best is trial 67 with value: 0.9983726628883755.\u001b[0m\n",
      "\u001b[32m[I 2022-03-02 09:45:02,449]\u001b[0m Trial 72 finished with value: 0.9962657704720739 and parameters: {'n_estimators': 711, 'criterion': 'mse', 'max_depth': 5, 'min_samples_split': 0.576063136975882, 'features': 'sqrt', 'learning_rate': 0.0770286121820995}. Best is trial 67 with value: 0.9983726628883755.\u001b[0m\n",
      "\u001b[32m[I 2022-03-02 09:47:39,769]\u001b[0m Trial 73 finished with value: 0.8754126782177503 and parameters: {'n_estimators': 175, 'criterion': 'friedman_mse', 'max_depth': 7, 'min_samples_split': 0.9344991829833494, 'features': 'log2', 'learning_rate': 0.0011722420853587298}. Best is trial 67 with value: 0.9983726628883755.\u001b[0m\n",
      "\u001b[32m[I 2022-03-02 09:47:47,259]\u001b[0m Trial 74 finished with value: 0.989943748316465 and parameters: {'n_estimators': 807, 'criterion': 'mse', 'max_depth': 9, 'min_samples_split': 0.9024589842381024, 'features': 'log2', 'learning_rate': 0.06684288725060505}. Best is trial 67 with value: 0.9983726628883755.\u001b[0m\n",
      "\u001b[32m[I 2022-03-02 09:47:54,652]\u001b[0m Trial 75 finished with value: 0.9914355700668853 and parameters: {'n_estimators': 613, 'criterion': 'mse', 'max_depth': 3, 'min_samples_split': 0.5793558804413644, 'features': 'log2', 'learning_rate': 0.03640163378803324}. Best is trial 67 with value: 0.9983726628883755.\u001b[0m\n",
      "\u001b[32m[I 2022-03-02 09:48:08,426]\u001b[0m Trial 76 finished with value: 0.9976815089289636 and parameters: {'n_estimators': 645, 'criterion': 'mse', 'max_depth': 9, 'min_samples_split': 0.37137284772053686, 'features': 'sqrt', 'learning_rate': 0.08393933466326603}. Best is trial 67 with value: 0.9983726628883755.\u001b[0m\n",
      "\u001b[32m[I 2022-03-02 09:48:17,413]\u001b[0m Trial 77 finished with value: 0.9935636607745663 and parameters: {'n_estimators': 803, 'criterion': 'mse', 'max_depth': 10, 'min_samples_split': 0.6687887272099092, 'features': 'sqrt', 'learning_rate': 0.04538014068328506}. Best is trial 67 with value: 0.9983726628883755.\u001b[0m\n"
     ]
    },
    {
     "name": "stderr",
     "output_type": "stream",
     "text": [
      "\u001b[32m[I 2022-03-02 09:48:26,734]\u001b[0m Trial 78 finished with value: 0.9937428535820566 and parameters: {'n_estimators': 782, 'criterion': 'friedman_mse', 'max_depth': 2, 'min_samples_split': 0.22194599622800337, 'features': 'sqrt', 'learning_rate': 0.03484940233508202}. Best is trial 67 with value: 0.9983726628883755.\u001b[0m\n",
      "\u001b[32m[I 2022-03-02 09:48:31,707]\u001b[0m Trial 79 finished with value: 0.9874128900725777 and parameters: {'n_estimators': 700, 'criterion': 'friedman_mse', 'max_depth': 1, 'min_samples_split': 0.2780274659341932, 'features': 'log2', 'learning_rate': 0.07136945245216535}. Best is trial 67 with value: 0.9983726628883755.\u001b[0m\n",
      "\u001b[32m[I 2022-03-02 09:48:35,926]\u001b[0m Trial 80 finished with value: 0.987178620133407 and parameters: {'n_estimators': 523, 'criterion': 'mse', 'max_depth': 10, 'min_samples_split': 0.9326278601221986, 'features': 'log2', 'learning_rate': 0.0728879253274146}. Best is trial 67 with value: 0.9983726628883755.\u001b[0m\n",
      "\u001b[32m[I 2022-03-02 09:48:38,681]\u001b[0m Trial 81 finished with value: 0.9818535581043886 and parameters: {'n_estimators': 366, 'criterion': 'friedman_mse', 'max_depth': 4, 'min_samples_split': 0.9675145479737571, 'features': 'sqrt', 'learning_rate': 0.07647206700753305}. Best is trial 67 with value: 0.9983726628883755.\u001b[0m\n",
      "\u001b[32m[I 2022-03-02 09:48:39,692]\u001b[0m Trial 82 finished with value: 0.9341154542204645 and parameters: {'n_estimators': 128, 'criterion': 'friedman_mse', 'max_depth': 10, 'min_samples_split': 0.8691260589537562, 'features': 'log2', 'learning_rate': 0.03739889687568297}. Best is trial 67 with value: 0.9983726628883755.\u001b[0m\n",
      "\u001b[32m[I 2022-03-02 09:48:45,560]\u001b[0m Trial 83 finished with value: 0.9469378907994676 and parameters: {'n_estimators': 792, 'criterion': 'friedman_mse', 'max_depth': 3, 'min_samples_split': 0.962536526715539, 'features': 'log2', 'learning_rate': 0.009131734852002452}. Best is trial 67 with value: 0.9983726628883755.\u001b[0m\n",
      "\u001b[32m[I 2022-03-02 09:49:15,310]\u001b[0m Trial 84 finished with value: 0.9982174862720251 and parameters: {'n_estimators': 899, 'criterion': 'friedman_mse', 'max_depth': 11, 'min_samples_split': 0.16623265903215395, 'features': 'log2', 'learning_rate': 0.0442186102923273}. Best is trial 67 with value: 0.9983726628883755.\u001b[0m\n",
      "\u001b[32m[I 2022-03-02 09:49:21,153]\u001b[0m Trial 85 finished with value: 0.9165394448968027 and parameters: {'n_estimators': 788, 'criterion': 'friedman_mse', 'max_depth': 7, 'min_samples_split': 0.9486548917527738, 'features': 'sqrt', 'learning_rate': 0.004265270582256037}. Best is trial 67 with value: 0.9983726628883755.\u001b[0m\n",
      "\u001b[32m[I 2022-03-02 09:49:39,620]\u001b[0m Trial 86 finished with value: 0.9966009084140309 and parameters: {'n_estimators': 1000, 'criterion': 'friedman_mse', 'max_depth': 4, 'min_samples_split': 0.2928269460126573, 'features': 'sqrt', 'learning_rate': 0.025409601230511124}. Best is trial 67 with value: 0.9983726628883755.\u001b[0m\n",
      "\u001b[32m[I 2022-03-02 09:49:43,208]\u001b[0m Trial 87 finished with value: 0.9921326159985234 and parameters: {'n_estimators': 211, 'criterion': 'mse', 'max_depth': 3, 'min_samples_split': 0.06612673056130239, 'features': 'log2', 'learning_rate': 0.04538563987207168}. Best is trial 67 with value: 0.9983726628883755.\u001b[0m\n",
      "\u001b[32m[I 2022-03-02 09:49:53,635]\u001b[0m Trial 88 finished with value: 0.9963714417130883 and parameters: {'n_estimators': 499, 'criterion': 'mse', 'max_depth': 5, 'min_samples_split': 0.25405881491301263, 'features': 'log2', 'learning_rate': 0.03462724160473791}. Best is trial 67 with value: 0.9983726628883755.\u001b[0m\n",
      "\u001b[32m[I 2022-03-02 09:50:12,836]\u001b[0m Trial 89 finished with value: 0.9980881190557525 and parameters: {'n_estimators': 744, 'criterion': 'mse', 'max_depth': 6, 'min_samples_split': 0.17428841006231324, 'features': 'log2', 'learning_rate': 0.07330276781107353}. Best is trial 67 with value: 0.9983726628883755.\u001b[0m\n",
      "\u001b[32m[I 2022-03-02 09:50:39,107]\u001b[0m Trial 90 finished with value: 0.9979378097208064 and parameters: {'n_estimators': 976, 'criterion': 'friedman_mse', 'max_depth': 10, 'min_samples_split': 0.2711500825366655, 'features': 'log2', 'learning_rate': 0.06587361416434746}. Best is trial 67 with value: 0.9983726628883755.\u001b[0m\n",
      "\u001b[32m[I 2022-03-02 09:50:57,148]\u001b[0m Trial 91 finished with value: 0.9971919628887725 and parameters: {'n_estimators': 924, 'criterion': 'mse', 'max_depth': 4, 'min_samples_split': 0.20954080985099532, 'features': 'log2', 'learning_rate': 0.03062373835343084}. Best is trial 67 with value: 0.9983726628883755.\u001b[0m\n",
      "\u001b[32m[I 2022-03-02 09:50:58,933]\u001b[0m Trial 92 finished with value: 0.9624904879872292 and parameters: {'n_estimators': 241, 'criterion': 'friedman_mse', 'max_depth': 1, 'min_samples_split': 0.4827497259561625, 'features': 'log2', 'learning_rate': 0.047965479949547356}. Best is trial 67 with value: 0.9983726628883755.\u001b[0m\n",
      "\u001b[32m[I 2022-03-02 09:51:04,270]\u001b[0m Trial 93 finished with value: 0.9957096195284553 and parameters: {'n_estimators': 296, 'criterion': 'mse', 'max_depth': 5, 'min_samples_split': 0.3957218214680937, 'features': 'log2', 'learning_rate': 0.07004148275802706}. Best is trial 67 with value: 0.9983726628883755.\u001b[0m\n",
      "\u001b[32m[I 2022-03-02 09:51:11,479]\u001b[0m Trial 94 finished with value: 0.9944151148044384 and parameters: {'n_estimators': 691, 'criterion': 'mse', 'max_depth': 11, 'min_samples_split': 0.7388116309672976, 'features': 'sqrt', 'learning_rate': 0.08305893500777144}. Best is trial 67 with value: 0.9983726628883755.\u001b[0m\n",
      "\u001b[32m[I 2022-03-02 09:51:32,504]\u001b[0m Trial 95 finished with value: 0.9978089548499449 and parameters: {'n_estimators': 989, 'criterion': 'mse', 'max_depth': 5, 'min_samples_split': 0.2660137532853317, 'features': 'log2', 'learning_rate': 0.05075735588530026}. Best is trial 67 with value: 0.9983726628883755.\u001b[0m\n",
      "\u001b[32m[I 2022-03-02 09:51:34,798]\u001b[0m Trial 96 finished with value: 0.885831702473847 and parameters: {'n_estimators': 323, 'criterion': 'mse', 'max_depth': 1, 'min_samples_split': 0.191465459698526, 'features': 'sqrt', 'learning_rate': 0.0046914905811475316}. Best is trial 67 with value: 0.9983726628883755.\u001b[0m\n",
      "\u001b[32m[I 2022-03-02 09:51:38,857]\u001b[0m Trial 97 finished with value: 0.972618403985125 and parameters: {'n_estimators': 506, 'criterion': 'mse', 'max_depth': 2, 'min_samples_split': 0.8689642980111184, 'features': 'log2', 'learning_rate': 0.028434288841328335}. Best is trial 67 with value: 0.9983726628883755.\u001b[0m\n",
      "\u001b[32m[I 2022-03-02 09:51:47,832]\u001b[0m Trial 98 finished with value: 0.9937946004685655 and parameters: {'n_estimators': 915, 'criterion': 'mse', 'max_depth': 2, 'min_samples_split': 0.6098204555836427, 'features': 'log2', 'learning_rate': 0.05684279871771888}. Best is trial 67 with value: 0.9983726628883755.\u001b[0m\n",
      "\u001b[32m[I 2022-03-02 09:52:20,423]\u001b[0m Trial 99 finished with value: 0.9983451243225353 and parameters: {'n_estimators': 974, 'criterion': 'friedman_mse', 'max_depth': 8, 'min_samples_split': 0.10185746930414916, 'features': 'sqrt', 'learning_rate': 0.03523293928736826}. Best is trial 67 with value: 0.9983726628883755.\u001b[0m\n"
     ]
    }
   ],
   "source": [
    "study = optuna.create_study(\n",
    "    direction='maximize',\n",
    "    sampler=optuna.samplers.RandomSampler()\n",
    ")\n",
    "\n",
    "study.optimize(objective, n_trials=100)"
   ]
  },
  {
   "cell_type": "code",
   "execution_count": 22,
   "id": "81ea96f9",
   "metadata": {},
   "outputs": [
    {
     "data": {
      "text/plain": [
       "{'n_estimators': 658,\n",
       " 'criterion': 'friedman_mse',\n",
       " 'max_depth': 5,\n",
       " 'min_samples_split': 0.017209668061883378,\n",
       " 'features': 'sqrt',\n",
       " 'learning_rate': 0.050497537295197764}"
      ]
     },
     "execution_count": 22,
     "metadata": {},
     "output_type": "execute_result"
    }
   ],
   "source": [
    "study.best_params"
   ]
  },
  {
   "cell_type": "code",
   "execution_count": 24,
   "id": "d52c3eac",
   "metadata": {},
   "outputs": [
    {
     "data": {
      "text/plain": [
       "0.9983726628883755"
      ]
     },
     "execution_count": 24,
     "metadata": {},
     "output_type": "execute_result"
    }
   ],
   "source": [
    "study.best_value"
   ]
  },
  {
   "cell_type": "code",
   "execution_count": 29,
   "id": "eff98865",
   "metadata": {},
   "outputs": [
    {
     "data": {
      "text/html": [
       "<div>\n",
       "<style scoped>\n",
       "    .dataframe tbody tr th:only-of-type {\n",
       "        vertical-align: middle;\n",
       "    }\n",
       "\n",
       "    .dataframe tbody tr th {\n",
       "        vertical-align: top;\n",
       "    }\n",
       "\n",
       "    .dataframe thead th {\n",
       "        text-align: right;\n",
       "    }\n",
       "</style>\n",
       "<table border=\"1\" class=\"dataframe\">\n",
       "  <thead>\n",
       "    <tr style=\"text-align: right;\">\n",
       "      <th></th>\n",
       "      <th>number</th>\n",
       "      <th>value</th>\n",
       "      <th>datetime_start</th>\n",
       "      <th>datetime_complete</th>\n",
       "      <th>duration</th>\n",
       "      <th>params_criterion</th>\n",
       "      <th>params_features</th>\n",
       "      <th>params_learning_rate</th>\n",
       "      <th>params_max_depth</th>\n",
       "      <th>params_min_samples_split</th>\n",
       "      <th>params_n_estimators</th>\n",
       "      <th>state</th>\n",
       "    </tr>\n",
       "  </thead>\n",
       "  <tbody>\n",
       "    <tr>\n",
       "      <th>67</th>\n",
       "      <td>67</td>\n",
       "      <td>0.998373</td>\n",
       "      <td>2022-03-02 09:44:08.940111</td>\n",
       "      <td>2022-03-02 09:44:26.918925</td>\n",
       "      <td>0 days 00:00:17.978814</td>\n",
       "      <td>friedman_mse</td>\n",
       "      <td>sqrt</td>\n",
       "      <td>0.050498</td>\n",
       "      <td>5</td>\n",
       "      <td>0.017210</td>\n",
       "      <td>658</td>\n",
       "      <td>COMPLETE</td>\n",
       "    </tr>\n",
       "    <tr>\n",
       "      <th>99</th>\n",
       "      <td>99</td>\n",
       "      <td>0.998345</td>\n",
       "      <td>2022-03-02 09:51:47.833389</td>\n",
       "      <td>2022-03-02 09:52:20.422881</td>\n",
       "      <td>0 days 00:00:32.589492</td>\n",
       "      <td>friedman_mse</td>\n",
       "      <td>sqrt</td>\n",
       "      <td>0.035233</td>\n",
       "      <td>8</td>\n",
       "      <td>0.101857</td>\n",
       "      <td>974</td>\n",
       "      <td>COMPLETE</td>\n",
       "    </tr>\n",
       "    <tr>\n",
       "      <th>84</th>\n",
       "      <td>84</td>\n",
       "      <td>0.998217</td>\n",
       "      <td>2022-03-02 09:48:45.561024</td>\n",
       "      <td>2022-03-02 09:49:15.310015</td>\n",
       "      <td>0 days 00:00:29.748991</td>\n",
       "      <td>friedman_mse</td>\n",
       "      <td>log2</td>\n",
       "      <td>0.044219</td>\n",
       "      <td>11</td>\n",
       "      <td>0.166233</td>\n",
       "      <td>899</td>\n",
       "      <td>COMPLETE</td>\n",
       "    </tr>\n",
       "    <tr>\n",
       "      <th>15</th>\n",
       "      <td>15</td>\n",
       "      <td>0.998131</td>\n",
       "      <td>2022-03-02 09:36:23.270543</td>\n",
       "      <td>2022-03-02 09:36:50.483685</td>\n",
       "      <td>0 days 00:00:27.213142</td>\n",
       "      <td>mse</td>\n",
       "      <td>sqrt</td>\n",
       "      <td>0.062890</td>\n",
       "      <td>8</td>\n",
       "      <td>0.180719</td>\n",
       "      <td>936</td>\n",
       "      <td>COMPLETE</td>\n",
       "    </tr>\n",
       "    <tr>\n",
       "      <th>89</th>\n",
       "      <td>89</td>\n",
       "      <td>0.998088</td>\n",
       "      <td>2022-03-02 09:49:53.635857</td>\n",
       "      <td>2022-03-02 09:50:12.836045</td>\n",
       "      <td>0 days 00:00:19.200188</td>\n",
       "      <td>mse</td>\n",
       "      <td>log2</td>\n",
       "      <td>0.073303</td>\n",
       "      <td>6</td>\n",
       "      <td>0.174288</td>\n",
       "      <td>744</td>\n",
       "      <td>COMPLETE</td>\n",
       "    </tr>\n",
       "    <tr>\n",
       "      <th>11</th>\n",
       "      <td>11</td>\n",
       "      <td>0.998061</td>\n",
       "      <td>2022-03-02 09:35:38.113061</td>\n",
       "      <td>2022-03-02 09:35:53.776718</td>\n",
       "      <td>0 days 00:00:15.663657</td>\n",
       "      <td>mse</td>\n",
       "      <td>sqrt</td>\n",
       "      <td>0.085086</td>\n",
       "      <td>11</td>\n",
       "      <td>0.253061</td>\n",
       "      <td>570</td>\n",
       "      <td>COMPLETE</td>\n",
       "    </tr>\n",
       "    <tr>\n",
       "      <th>25</th>\n",
       "      <td>25</td>\n",
       "      <td>0.998050</td>\n",
       "      <td>2022-03-02 09:37:59.976088</td>\n",
       "      <td>2022-03-02 09:38:15.355735</td>\n",
       "      <td>0 days 00:00:15.379647</td>\n",
       "      <td>mse</td>\n",
       "      <td>log2</td>\n",
       "      <td>0.047085</td>\n",
       "      <td>10</td>\n",
       "      <td>0.167838</td>\n",
       "      <td>503</td>\n",
       "      <td>COMPLETE</td>\n",
       "    </tr>\n",
       "    <tr>\n",
       "      <th>33</th>\n",
       "      <td>33</td>\n",
       "      <td>0.998048</td>\n",
       "      <td>2022-03-02 09:39:10.578324</td>\n",
       "      <td>2022-03-02 09:39:30.479177</td>\n",
       "      <td>0 days 00:00:19.900853</td>\n",
       "      <td>friedman_mse</td>\n",
       "      <td>sqrt</td>\n",
       "      <td>0.085175</td>\n",
       "      <td>7</td>\n",
       "      <td>0.238580</td>\n",
       "      <td>766</td>\n",
       "      <td>COMPLETE</td>\n",
       "    </tr>\n",
       "    <tr>\n",
       "      <th>63</th>\n",
       "      <td>63</td>\n",
       "      <td>0.997975</td>\n",
       "      <td>2022-03-02 09:43:28.278729</td>\n",
       "      <td>2022-03-02 09:43:48.314905</td>\n",
       "      <td>0 days 00:00:20.036176</td>\n",
       "      <td>friedman_mse</td>\n",
       "      <td>sqrt</td>\n",
       "      <td>0.022399</td>\n",
       "      <td>10</td>\n",
       "      <td>0.062540</td>\n",
       "      <td>510</td>\n",
       "      <td>COMPLETE</td>\n",
       "    </tr>\n",
       "    <tr>\n",
       "      <th>90</th>\n",
       "      <td>90</td>\n",
       "      <td>0.997938</td>\n",
       "      <td>2022-03-02 09:50:12.836737</td>\n",
       "      <td>2022-03-02 09:50:39.107006</td>\n",
       "      <td>0 days 00:00:26.270269</td>\n",
       "      <td>friedman_mse</td>\n",
       "      <td>log2</td>\n",
       "      <td>0.065874</td>\n",
       "      <td>10</td>\n",
       "      <td>0.271150</td>\n",
       "      <td>976</td>\n",
       "      <td>COMPLETE</td>\n",
       "    </tr>\n",
       "  </tbody>\n",
       "</table>\n",
       "</div>"
      ],
      "text/plain": [
       "    number     value             datetime_start          datetime_complete  \\\n",
       "67      67  0.998373 2022-03-02 09:44:08.940111 2022-03-02 09:44:26.918925   \n",
       "99      99  0.998345 2022-03-02 09:51:47.833389 2022-03-02 09:52:20.422881   \n",
       "84      84  0.998217 2022-03-02 09:48:45.561024 2022-03-02 09:49:15.310015   \n",
       "15      15  0.998131 2022-03-02 09:36:23.270543 2022-03-02 09:36:50.483685   \n",
       "89      89  0.998088 2022-03-02 09:49:53.635857 2022-03-02 09:50:12.836045   \n",
       "11      11  0.998061 2022-03-02 09:35:38.113061 2022-03-02 09:35:53.776718   \n",
       "25      25  0.998050 2022-03-02 09:37:59.976088 2022-03-02 09:38:15.355735   \n",
       "33      33  0.998048 2022-03-02 09:39:10.578324 2022-03-02 09:39:30.479177   \n",
       "63      63  0.997975 2022-03-02 09:43:28.278729 2022-03-02 09:43:48.314905   \n",
       "90      90  0.997938 2022-03-02 09:50:12.836737 2022-03-02 09:50:39.107006   \n",
       "\n",
       "                 duration params_criterion params_features  \\\n",
       "67 0 days 00:00:17.978814     friedman_mse            sqrt   \n",
       "99 0 days 00:00:32.589492     friedman_mse            sqrt   \n",
       "84 0 days 00:00:29.748991     friedman_mse            log2   \n",
       "15 0 days 00:00:27.213142              mse            sqrt   \n",
       "89 0 days 00:00:19.200188              mse            log2   \n",
       "11 0 days 00:00:15.663657              mse            sqrt   \n",
       "25 0 days 00:00:15.379647              mse            log2   \n",
       "33 0 days 00:00:19.900853     friedman_mse            sqrt   \n",
       "63 0 days 00:00:20.036176     friedman_mse            sqrt   \n",
       "90 0 days 00:00:26.270269     friedman_mse            log2   \n",
       "\n",
       "    params_learning_rate  params_max_depth  params_min_samples_split  \\\n",
       "67              0.050498                 5                  0.017210   \n",
       "99              0.035233                 8                  0.101857   \n",
       "84              0.044219                11                  0.166233   \n",
       "15              0.062890                 8                  0.180719   \n",
       "89              0.073303                 6                  0.174288   \n",
       "11              0.085086                11                  0.253061   \n",
       "25              0.047085                10                  0.167838   \n",
       "33              0.085175                 7                  0.238580   \n",
       "63              0.022399                10                  0.062540   \n",
       "90              0.065874                10                  0.271150   \n",
       "\n",
       "    params_n_estimators     state  \n",
       "67                  658  COMPLETE  \n",
       "99                  974  COMPLETE  \n",
       "84                  899  COMPLETE  \n",
       "15                  936  COMPLETE  \n",
       "89                  744  COMPLETE  \n",
       "11                  570  COMPLETE  \n",
       "25                  503  COMPLETE  \n",
       "33                  766  COMPLETE  \n",
       "63                  510  COMPLETE  \n",
       "90                  976  COMPLETE  "
      ]
     },
     "execution_count": 29,
     "metadata": {},
     "output_type": "execute_result"
    }
   ],
   "source": [
    "study.trials_dataframe().sort_values(by='value', ascending=False).head(10)"
   ]
  },
  {
   "cell_type": "markdown",
   "id": "18ca3fcf",
   "metadata": {},
   "source": [
    "## Conclusion\n",
    "\n",
    "We found the best parameters for Gradient Boosting Model by using Optuna. I will use the parameters when building the final model. "
   ]
  }
 ],
 "metadata": {
  "kernelspec": {
   "display_name": "Python 3",
   "language": "python",
   "name": "python3"
  },
  "language_info": {
   "codemirror_mode": {
    "name": "ipython",
    "version": 3
   },
   "file_extension": ".py",
   "mimetype": "text/x-python",
   "name": "python",
   "nbconvert_exporter": "python",
   "pygments_lexer": "ipython3",
   "version": "3.8.8"
  },
  "toc": {
   "base_numbering": 1,
   "nav_menu": {},
   "number_sections": true,
   "sideBar": true,
   "skip_h1_title": true,
   "title_cell": "Table of Contents",
   "title_sidebar": "Contents",
   "toc_cell": false,
   "toc_position": {},
   "toc_section_display": true,
   "toc_window_display": false
  },
  "varInspector": {
   "cols": {
    "lenName": 16,
    "lenType": 16,
    "lenVar": 40
   },
   "kernels_config": {
    "python": {
     "delete_cmd_postfix": "",
     "delete_cmd_prefix": "del ",
     "library": "var_list.py",
     "varRefreshCmd": "print(var_dic_list())"
    },
    "r": {
     "delete_cmd_postfix": ") ",
     "delete_cmd_prefix": "rm(",
     "library": "var_list.r",
     "varRefreshCmd": "cat(var_dic_list()) "
    }
   },
   "types_to_exclude": [
    "module",
    "function",
    "builtin_function_or_method",
    "instance",
    "_Feature"
   ],
   "window_display": false
  }
 },
 "nbformat": 4,
 "nbformat_minor": 5
}
