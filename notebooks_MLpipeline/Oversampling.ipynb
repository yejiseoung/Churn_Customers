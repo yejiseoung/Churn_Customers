{
 "cells": [
  {
   "cell_type": "markdown",
   "id": "d3782f7c",
   "metadata": {},
   "source": [
    "# Credit Card Customers_Over-Sampling"
   ]
  },
  {
   "cell_type": "markdown",
   "id": "e091e47d",
   "metadata": {},
   "source": [
    "In the following notebooks, we will go through the implementation of each of the steps in the Machine Learning Pipeline. \n",
    "\n",
    "The steps will: \n",
    "\n",
    "   - 1. Cleaning, EDA, and Visualization\n",
    "   - 2. Feature Engineering and Feature Scaling\n",
    "   - __3. Oversampling__ \n",
    "   - 4. Hyperparameter Tuning for Gradient Boosting Model\n",
    "   - 5. Building Model Pipeline\n",
    "   \n",
    "=========================================================================================="
   ]
  },
  {
   "cell_type": "markdown",
   "id": "4da4c179",
   "metadata": {},
   "source": [
    "### Overview\n",
    "\n",
    "We've explored data analysis, and found the best methods for feature engineering and feature scaling in the previous notebooks. \n",
    "\n",
    "In this notebook, I will use oversampling methods to make dataset balance so that it can help improve model performances. \n",
    "\n",
    "We've seen this dataset is an imbalanced data which have more instances of certain classes than of others. So, we need to deal with this very carefully. \n",
    "\n",
    "Even though there are a lot of sampling balancing methods (e.g., under-sampling, ensemble sampling), I would like to choose one of the oversampling methods, because we won't lose data by performing over-sampling. "
   ]
  },
  {
   "cell_type": "markdown",
   "id": "54f6a3fd",
   "metadata": {},
   "source": [
    "### Import Packages"
   ]
  },
  {
   "cell_type": "code",
   "execution_count": 1,
   "id": "c2eda6d2",
   "metadata": {},
   "outputs": [
    {
     "data": {
      "text/plain": [
       "'/Users/yejiseoung/Dropbox/My Mac (Yejis-MacBook-Pro.local)/Documents/Projects/CreditCard'"
      ]
     },
     "execution_count": 1,
     "metadata": {},
     "output_type": "execute_result"
    }
   ],
   "source": [
    "import numpy as np\n",
    "import pandas as pd\n",
    "import seaborn as sns\n",
    "import matplotlib.pyplot as plt\n",
    "\n",
    "import warnings\n",
    "warnings.filterwarnings('ignore')\n",
    "\n",
    "from collections import Counter\n",
    "\n",
    "pd.set_option('display.max_columns', 100)\n",
    "pd.set_option('display.max_rows', 100)\n",
    "\n",
    "from pathlib import Path\n",
    "import os\n",
    "os.getcwd()"
   ]
  },
  {
   "cell_type": "code",
   "execution_count": 2,
   "id": "7e9a9ba9",
   "metadata": {},
   "outputs": [],
   "source": [
    "# set up path for data\n",
    "path = Path('/Users/yejiseoung/Dropbox/My Mac (Yejis-MacBook-Pro.local)/Documents/Projects/CreditCard/Data/')"
   ]
  },
  {
   "cell_type": "code",
   "execution_count": 10,
   "id": "9922d7ff",
   "metadata": {},
   "outputs": [],
   "source": [
    "# Data pre-processing \n",
    "from sklearn.preprocessing import StandardScaler\n",
    "from sklearn.model_selection import train_test_split\n",
    "\n",
    "\n",
    "# Modelling \n",
    "from sklearn.metrics import (\n",
    "    roc_auc_score,\n",
    "    precision_score, \n",
    "    accuracy_score, \n",
    "    recall_score,\n",
    ")\n",
    "\n",
    "from sklearn.ensemble import RandomForestClassifier\n",
    "\n",
    "\n",
    "# for feature engineering\n",
    "from feature_engine import encoding as ce\n",
    "\n",
    "# Evaluation & CV\n",
    "from sklearn.model_selection import RandomizedSearchCV\n",
    "from sklearn.model_selection import KFold, cross_val_score\n",
    "\n",
    "\n",
    "# pipeline\n",
    "from sklearn.pipeline import Pipeline\n",
    "from sklearn.pipeline import make_pipeline\n",
    "\n",
    "\n",
    "# for oversampling\n",
    "# for the model \n",
    "from sklearn.model_selection import train_test_split, cross_validate\n",
    "from sklearn.pipeline import Pipeline\n",
    "\n",
    "# for feature engineering\n",
    "from feature_engine import encoding as ce\n",
    "\n",
    "# for oversampling\n",
    "from sklearn.svm import SVC\n",
    "from imblearn.over_sampling import (\n",
    "    RandomOverSampler,\n",
    "    SMOTE,\n",
    "    ADASYN,\n",
    "    BorderlineSMOTE,\n",
    "    SVMSMOTE\n",
    ")\n",
    "\n",
    "# for cross-validation\n",
    "from imblearn.pipeline import make_pipeline"
   ]
  },
  {
   "cell_type": "markdown",
   "id": "e376ff9d",
   "metadata": {},
   "source": [
    "### Load data"
   ]
  },
  {
   "cell_type": "code",
   "execution_count": 4,
   "id": "aa252447",
   "metadata": {},
   "outputs": [],
   "source": [
    "df = pd.read_csv(path/'BankChurners.csv')"
   ]
  },
  {
   "cell_type": "code",
   "execution_count": 5,
   "id": "a2ce2074",
   "metadata": {},
   "outputs": [],
   "source": [
    "# drop unuseful columns \n",
    "df.drop(['CLIENTNUM',\n",
    "        'Naive_Bayes_Classifier_Attrition_Flag_Card_Category_Contacts_Count_12_mon_Dependent_count_Education_Level_Months_Inactive_12_mon_1',\n",
    "     'Naive_Bayes_Classifier_Attrition_Flag_Card_Category_Contacts_Count_12_mon_Dependent_count_Education_Level_Months_Inactive_12_mon_2'],\n",
    "        axis=1, inplace=True)"
   ]
  },
  {
   "cell_type": "code",
   "execution_count": 6,
   "id": "1ef7710d",
   "metadata": {},
   "outputs": [
    {
     "data": {
      "text/plain": [
       "(10127, 20)"
      ]
     },
     "execution_count": 6,
     "metadata": {},
     "output_type": "execute_result"
    }
   ],
   "source": [
    "df.shape"
   ]
  },
  {
   "cell_type": "code",
   "execution_count": 7,
   "id": "a62b269e",
   "metadata": {},
   "outputs": [
    {
     "data": {
      "text/html": [
       "<div>\n",
       "<style scoped>\n",
       "    .dataframe tbody tr th:only-of-type {\n",
       "        vertical-align: middle;\n",
       "    }\n",
       "\n",
       "    .dataframe tbody tr th {\n",
       "        vertical-align: top;\n",
       "    }\n",
       "\n",
       "    .dataframe thead th {\n",
       "        text-align: right;\n",
       "    }\n",
       "</style>\n",
       "<table border=\"1\" class=\"dataframe\">\n",
       "  <thead>\n",
       "    <tr style=\"text-align: right;\">\n",
       "      <th></th>\n",
       "      <th>Attrition_Flag</th>\n",
       "      <th>Customer_Age</th>\n",
       "      <th>Gender</th>\n",
       "      <th>Dependent_count</th>\n",
       "      <th>Education_Level</th>\n",
       "      <th>Marital_Status</th>\n",
       "      <th>Income_Category</th>\n",
       "      <th>Card_Category</th>\n",
       "      <th>Months_on_book</th>\n",
       "      <th>Total_Relationship_Count</th>\n",
       "      <th>Months_Inactive_12_mon</th>\n",
       "      <th>Contacts_Count_12_mon</th>\n",
       "      <th>Credit_Limit</th>\n",
       "      <th>Total_Revolving_Bal</th>\n",
       "      <th>Avg_Open_To_Buy</th>\n",
       "      <th>Total_Amt_Chng_Q4_Q1</th>\n",
       "      <th>Total_Trans_Amt</th>\n",
       "      <th>Total_Trans_Ct</th>\n",
       "      <th>Total_Ct_Chng_Q4_Q1</th>\n",
       "      <th>Avg_Utilization_Ratio</th>\n",
       "    </tr>\n",
       "  </thead>\n",
       "  <tbody>\n",
       "    <tr>\n",
       "      <th>0</th>\n",
       "      <td>Existing Customer</td>\n",
       "      <td>45</td>\n",
       "      <td>M</td>\n",
       "      <td>3</td>\n",
       "      <td>High School</td>\n",
       "      <td>Married</td>\n",
       "      <td>$60K - $80K</td>\n",
       "      <td>Blue</td>\n",
       "      <td>39</td>\n",
       "      <td>5</td>\n",
       "      <td>1</td>\n",
       "      <td>3</td>\n",
       "      <td>12691.0</td>\n",
       "      <td>777</td>\n",
       "      <td>11914.0</td>\n",
       "      <td>1.335</td>\n",
       "      <td>1144</td>\n",
       "      <td>42</td>\n",
       "      <td>1.625</td>\n",
       "      <td>0.061</td>\n",
       "    </tr>\n",
       "    <tr>\n",
       "      <th>1</th>\n",
       "      <td>Existing Customer</td>\n",
       "      <td>49</td>\n",
       "      <td>F</td>\n",
       "      <td>5</td>\n",
       "      <td>Graduate</td>\n",
       "      <td>Single</td>\n",
       "      <td>Less than $40K</td>\n",
       "      <td>Blue</td>\n",
       "      <td>44</td>\n",
       "      <td>6</td>\n",
       "      <td>1</td>\n",
       "      <td>2</td>\n",
       "      <td>8256.0</td>\n",
       "      <td>864</td>\n",
       "      <td>7392.0</td>\n",
       "      <td>1.541</td>\n",
       "      <td>1291</td>\n",
       "      <td>33</td>\n",
       "      <td>3.714</td>\n",
       "      <td>0.105</td>\n",
       "    </tr>\n",
       "  </tbody>\n",
       "</table>\n",
       "</div>"
      ],
      "text/plain": [
       "      Attrition_Flag  Customer_Age Gender  Dependent_count Education_Level  \\\n",
       "0  Existing Customer            45      M                3     High School   \n",
       "1  Existing Customer            49      F                5        Graduate   \n",
       "\n",
       "  Marital_Status Income_Category Card_Category  Months_on_book  \\\n",
       "0        Married     $60K - $80K          Blue              39   \n",
       "1         Single  Less than $40K          Blue              44   \n",
       "\n",
       "   Total_Relationship_Count  Months_Inactive_12_mon  Contacts_Count_12_mon  \\\n",
       "0                         5                       1                      3   \n",
       "1                         6                       1                      2   \n",
       "\n",
       "   Credit_Limit  Total_Revolving_Bal  Avg_Open_To_Buy  Total_Amt_Chng_Q4_Q1  \\\n",
       "0       12691.0                  777          11914.0                 1.335   \n",
       "1        8256.0                  864           7392.0                 1.541   \n",
       "\n",
       "   Total_Trans_Amt  Total_Trans_Ct  Total_Ct_Chng_Q4_Q1  Avg_Utilization_Ratio  \n",
       "0             1144              42                1.625                  0.061  \n",
       "1             1291              33                3.714                  0.105  "
      ]
     },
     "execution_count": 7,
     "metadata": {},
     "output_type": "execute_result"
    }
   ],
   "source": [
    "df.head(2)"
   ]
  },
  {
   "cell_type": "code",
   "execution_count": 8,
   "id": "d1a94ee2",
   "metadata": {},
   "outputs": [
    {
     "name": "stdout",
     "output_type": "stream",
     "text": [
      "The number of categorical variables: 5\n",
      "The number of numerical vairables: 14\n"
     ]
    }
   ],
   "source": [
    "# create lists for categorical and numerical variables\n",
    "cat_vars = [var for var in df.columns if df[var].dtype=='O' and var != 'Attrition_Flag']\n",
    "num_vars = [var for var in df.columns if df[var].dtype!='O']\n",
    "\n",
    "print('The number of categorical variables: {}'.format(len(cat_vars)))\n",
    "print('The number of numerical vairables: {}'.format(len(num_vars)))"
   ]
  },
  {
   "cell_type": "code",
   "execution_count": 9,
   "id": "ffb6d76a",
   "metadata": {},
   "outputs": [],
   "source": [
    "def run_RFs(X_train, X_test, y_train, y_test):\n",
    "    rf = RandomForestClassifier(n_estimators=40, random_state=42, max_depth=3)\n",
    "    rf.fit(X_train, y_train)\n",
    "    \n",
    "    print(\"Train set\")\n",
    "    train_pred = rf.predict_proba(X_train)\n",
    "    print(\"Random Forests roc-auc: {}\".format(roc_auc_score(y_train, train_pred[:,1])))\n",
    "    \n",
    "    print(\"Test set\")\n",
    "    test_pred = rf.predict_proba(X_test)\n",
    "    print(\"Random Forests roc-auc: {}\".format(roc_auc_score(y_test, test_pred[:, 1])))\n",
    "    \n",
    "    return roc_auc_score(y_train, train_pred[:,1]), roc_auc_score(y_test, test_pred[:, 1])"
   ]
  },
  {
   "cell_type": "markdown",
   "id": "280e6608",
   "metadata": {},
   "source": [
    "### Over-sampling methods"
   ]
  },
  {
   "cell_type": "markdown",
   "id": "3faec015",
   "metadata": {},
   "source": [
    "All oversampling methods create new synthetic data from the minority label so that it helps balance data distribution. \n",
    "\n",
    "We will try to compare 5 other methods based on the model performances, and choose one of them.  \n",
    "\n",
    "- RandomOverSampler\n",
    "- SMOTE\n",
    "- ADASYN\n",
    "- BorderlineSMOTE\n",
    "- SVMSMOTE"
   ]
  },
  {
   "cell_type": "markdown",
   "id": "e5a0d1f4",
   "metadata": {},
   "source": [
    "First, we need to create oversampler dictionary. "
   ]
  },
  {
   "cell_type": "code",
   "execution_count": 11,
   "id": "19e92cf1",
   "metadata": {},
   "outputs": [],
   "source": [
    "oversampler_dict = {\n",
    "    \n",
    "    'random': RandomOverSampler(\n",
    "        sampling_strategy='auto',\n",
    "        random_state=0),\n",
    "    \n",
    "    'smote': SMOTE(\n",
    "        sampling_strategy='auto', # samples only the minority class\n",
    "        random_state=0,\n",
    "        k_neighbors=5,\n",
    "        n_jobs=1),\n",
    "    \n",
    "    'adasyn': ADASYN(\n",
    "        sampling_strategy='auto', # samples only the minority class\n",
    "        random_state=0,\n",
    "        n_neighbors=5,\n",
    "        n_jobs=1),\n",
    "    \n",
    "    'border1': BorderlineSMOTE(\n",
    "        sampling_strategy='auto', # samples only the minority class\n",
    "        random_state=0,\n",
    "        k_neighbors=5,\n",
    "        m_neighbors=10,\n",
    "        kind='borderline-1',\n",
    "        n_jobs=1),\n",
    "    \n",
    "    'svm': SVMSMOTE(\n",
    "        sampling_strategy='auto', # samples only the minority class\n",
    "        random_state=0,\n",
    "        k_neighbors=5,\n",
    "        m_neighbors=10,\n",
    "        n_jobs=1,\n",
    "        svm_estimator=SVC(kernel='linear')),\n",
    "}\n"
   ]
  },
  {
   "cell_type": "code",
   "execution_count": 14,
   "id": "df2a7338",
   "metadata": {},
   "outputs": [
    {
     "name": "stdout",
     "output_type": "stream",
     "text": [
      "Train set\n",
      "Random Forests roc-auc: 0.9391798249529026\n",
      "Test set\n",
      "Random Forests roc-auc: 0.921798576202566\n",
      "\n",
      "random\n",
      "Train set\n",
      "Random Forests roc-auc: 0.9387144570499972\n",
      "Test set\n",
      "Random Forests roc-auc: 0.9208194091824945\n",
      "\n",
      "smote\n",
      "Train set\n",
      "Random Forests roc-auc: 0.9530338342495762\n",
      "Test set\n",
      "Random Forests roc-auc: 0.9265718976237999\n",
      "\n",
      "adasyn\n",
      "Train set\n",
      "Random Forests roc-auc: 0.9469218906792373\n",
      "Test set\n",
      "Random Forests roc-auc: 0.9354352911019258\n",
      "\n",
      "border1\n",
      "Train set\n",
      "Random Forests roc-auc: 0.9504508228798011\n",
      "Test set\n",
      "Random Forests roc-auc: 0.9337248116587787\n",
      "\n",
      "svm\n",
      "Train set\n",
      "Random Forests roc-auc: 0.9494488578115512\n",
      "Test set\n",
      "Random Forests roc-auc: 0.9264738866805013\n",
      "\n",
      "\n"
     ]
    }
   ],
   "source": [
    "# to save the results\n",
    "results_dict_over = {}\n",
    "shapes_dict_over = {}\n",
    "\n",
    "# separate train and test\n",
    "X_train, X_test, y_train, y_test = train_test_split(\n",
    "    df.drop(['Attrition_Flag'], axis=1),\n",
    "    df['Attrition_Flag'],\n",
    "    test_size=0.2,\n",
    "    random_state=0\n",
    ")\n",
    "\n",
    "# integer encoding\n",
    "ordinal_encoding = ce.OrdinalEncoder(\n",
    "    encoding_method='arbitrary',\n",
    "    variables=cat_vars\n",
    ")\n",
    "\n",
    "ordinal_encoding.fit(X_train)\n",
    "X_train = ordinal_encoding.transform(X_train)\n",
    "X_test = ordinal_encoding.transform(X_test)\n",
    "\n",
    "\n",
    "# StandardScaler\n",
    "standard_scaler = StandardScaler().fit(X_train)\n",
    "X_train = standard_scaler.transform(X_train)\n",
    "X_test = standard_scaler.transform(X_test)\n",
    "\n",
    "roc = run_RFs(X_train, X_test, y_train, y_test)\n",
    "\n",
    "# store results\n",
    "results_dict_over['full_data'] = roc\n",
    "shapes_dict_over['full_data'] = len(X_train)\n",
    "\n",
    "print()\n",
    "\n",
    "for oversampler in oversampler_dict.keys():\n",
    "    \n",
    "    print(oversampler)\n",
    "    \n",
    "    # resample\n",
    "    X_resampled, y_resampled = oversampler_dict[oversampler].fit_resample(X_train, y_train)\n",
    "    \n",
    "    # evaluate performance\n",
    "    roc = run_RFs(X_resampled, X_test, y_resampled, y_test)\n",
    "    \n",
    "    # store results\n",
    "    results_dict_over[oversampler] = roc\n",
    "    shapes_dict_over[oversampler] = len(X_resampled)\n",
    "    print()\n",
    "    \n",
    "print()"
   ]
  },
  {
   "cell_type": "code",
   "execution_count": 18,
   "id": "e00b3f59",
   "metadata": {},
   "outputs": [],
   "source": [
    "results_dict_over_df = pd.DataFrame(results_dict_over, index=['Train', 'Test']).T"
   ]
  },
  {
   "cell_type": "code",
   "execution_count": 27,
   "id": "31cf2794",
   "metadata": {},
   "outputs": [
    {
     "data": {
      "image/png": "[encoded data removed]",
      "text/plain": [
       "<Figure size 576x720 with 1 Axes>"
      ]
     },
     "metadata": {},
     "output_type": "display_data"
    }
   ],
   "source": [
    "import matplotlib\n",
    "\n",
    "fig = plt.figure(figsize=(8, 10))\n",
    "gs = fig.add_gridspec(4, 2)\n",
    "gs.update(wspace=0.1, hspace=0.5)\n",
    "ax0 = fig.add_subplot(gs[0, :])\n",
    "\n",
    "colors = ['#DADADA', '#DADADA']\n",
    "colormap = matplotlib.colors.LinearSegmentedColormap.from_list(\"\", colors)\n",
    "\n",
    "# change background color\n",
    "background_color='#fbfbfb'\n",
    "fig.patch.set_facecolor(background_color) # figure background color\n",
    "ax0.set_facecolor(background_color)\n",
    "\n",
    "\n",
    "# overall\n",
    "#df_models = round(pd.concat([svc_df, dtree_df, rfc_df, tu_rfc_df, log_df, knn_df], axis=1), 3)\n",
    "\n",
    "sns.heatmap(results_dict_over_df, cmap=colormap, annot=True, fmt=\".1%\", linewidths=2.5, cbar=False, ax=ax0)\n",
    "\n",
    "ax0.tick_params(axis=u'both', which=u'both', length=0)\n",
    "ax0.text(0, -1.5, 'Comparison between oversampling methods', fontfamily='serif', fontsize=15, fontweight='bold')\n",
    "ax0.text(0, -0.7, 'BorderlineSMOTE shows the best performance.',\n",
    "        fontfamily='serif', fontsize=10)\n",
    "\n",
    "\n",
    "from matplotlib.patches import Rectangle\n",
    "#rect = ax0.add_patch(Rectangle((0, 2), 5, 1, fill=True,color='#51C4D3', edgecolor='white', lw=0,alpha=0.5))\n",
    "rect = ax0.add_patch(Rectangle((0, 4), 5, 1, fill=True,color='#51C4D3', edgecolor='white', lw=0,alpha=0.5))\n",
    "\n",
    "\n",
    "plt.show()"
   ]
  },
  {
   "cell_type": "markdown",
   "id": "05fffb94",
   "metadata": {},
   "source": [
    "### Oversampling with Cross Validation"
   ]
  },
  {
   "cell_type": "code",
   "execution_count": 30,
   "id": "aa288010",
   "metadata": {},
   "outputs": [],
   "source": [
    "# function to train random forests and evaluate the performance\n",
    "# with cross-validation\n",
    "\n",
    "def run_model(X_train, y_train, oversampler=None):\n",
    "    \n",
    "    # set up the classifier\n",
    "    rf = RandomForestClassifier(\n",
    "            n_estimators=40, random_state=39, max_depth=3, n_jobs=1\n",
    "        )\n",
    "    \n",
    "    \n",
    "    # without sampling:\n",
    "    if not oversampler:\n",
    "\n",
    "        model = rf\n",
    "    \n",
    "    # set up a pipeline with sampling:\n",
    "    else:\n",
    "        \n",
    "        # important to scale before the re-sampler\n",
    "        # as the many of methods require the variables in \n",
    "        # a similar scale\n",
    "        model = make_pipeline(\n",
    "            oversampler,\n",
    "            rf,\n",
    "        )\n",
    "        \n",
    "          \n",
    "    # When we make a pipeline and then run the training of the model\n",
    "    # with cross-validation, the procedure works as follows:\n",
    "    \n",
    "    # 1) take 2 of the 3 fold as train set\n",
    "    # 2) resample the 2 fold (aka, the train set)\n",
    "    # 3) train the model on the resampled data from point 2\n",
    "    # 4) evaluate performance on the 3rd fold, that was not resampled\n",
    "    \n",
    "    # this way, we make sure that we are not evaluating the performance\n",
    "    # of our classifier on the over-sampled data\n",
    "    \n",
    "    cv_results = cross_validate(\n",
    "        model, # the random forest or the pipeline\n",
    "        X_train, # the data that will be used in the cross-validation\n",
    "        y_train, # the target\n",
    "        scoring=\"roc_auc\", # the metric that we want to evaluate\n",
    "        cv=3, # the cross-validation fold\n",
    "    )\n",
    "\n",
    "    #print(\n",
    "    #    'Random Forests average precision: {0} +/- {1}'.format(\n",
    "    #    cv_results['test_score'].mean(), cv_results['test_score'].std()\n",
    "    #    )\n",
    "    #)\n",
    "    \n",
    "    print('RF roc-auc: {}'.format(cv_results['test_score']))\n",
    "\n",
    "    return cv_results['test_score'] "
   ]
  },
  {
   "cell_type": "code",
   "execution_count": 31,
   "id": "3c26ac82",
   "metadata": {},
   "outputs": [
    {
     "name": "stdout",
     "output_type": "stream",
     "text": [
      "RF roc-auc: [0.93687829 0.9267348  0.9385802 ]\n",
      "\n",
      "random\n",
      "RF roc-auc: [0.92964698 0.93171677 0.93426115]\n",
      "\n",
      "smote\n",
      "RF roc-auc: [0.93244793 0.93014007 0.93701761]\n",
      "\n",
      "adasyn\n",
      "RF roc-auc: [0.93771712 0.94160314 0.94486988]\n",
      "\n",
      "border1\n",
      "RF roc-auc: [0.93677777 0.93749112 0.94873607]\n",
      "\n",
      "svm\n",
      "RF roc-auc: [0.92750191 0.93016929 0.93396445]\n",
      "\n",
      "\n"
     ]
    }
   ],
   "source": [
    "# now we train several models, with the different oversamplers \n",
    "# and with cross-validation\n",
    "\n",
    "# to save the results\n",
    "roc_dict = {}\n",
    "\n",
    "\n",
    "# separate dataset into train and test\n",
    "X_train, X_test, y_train, y_test = train_test_split(\n",
    "    df.drop('Attrition_Flag', axis=1),\n",
    "    df['Attrition_Flag'],\n",
    "    test_size=0.2,\n",
    "    random_state=0\n",
    ")\n",
    "\n",
    "# integer encoding\n",
    "ordinal_encoding = ce.OrdinalEncoder(\n",
    "    encoding_method='arbitrary',\n",
    "    variables=cat_vars)\n",
    "\n",
    "ordinal_encoding.fit(X_train)\n",
    "X_train = ordinal_encoding.transform(X_train)\n",
    "X_test = ordinal_encoding.transform(X_test)\n",
    "\n",
    "\n",
    "# StandardScaler\n",
    "standard_scaler = StandardScaler().fit(X_train)\n",
    "X_train = standard_scaler.transform(X_train)\n",
    "X_test = standard_scaler.transform(X_test)\n",
    "\n",
    "# train model on data with re-sampling with cross-validation\n",
    "test_score = run_model(X_train, y_train)\n",
    "\n",
    "# store results\n",
    "\n",
    "roc_dict['full_data'] = test_score\n",
    "\n",
    "print()\n",
    "\n",
    "\n",
    "for oversampler in oversampler_dict.keys():\n",
    "    \n",
    "    print(oversampler)\n",
    "    \n",
    "    # resample, train and evaluate performance\n",
    "    # with cross-validation\n",
    "    test_score = run_model(X_train, y_train, oversampler_dict[oversampler])\n",
    "    \n",
    "    # store results\n",
    "    roc_dict[oversampler] = test_score\n",
    "\n",
    "    print()\n",
    "    \n",
    "print()"
   ]
  },
  {
   "cell_type": "code",
   "execution_count": 38,
   "id": "a61c09b1",
   "metadata": {},
   "outputs": [],
   "source": [
    "roc_dict_df = pd.DataFrame(roc_dict, index=['fold1', 'fold2', 'fold3']).T\n",
    "\n",
    "# calculate the average of test scores\n",
    "roc_dict_df['mean'] = (roc_dict_df['fold1']+roc_dict_df['fold2']+roc_dict_df['fold3'])/3"
   ]
  },
  {
   "cell_type": "code",
   "execution_count": 42,
   "id": "3b9b53a2",
   "metadata": {},
   "outputs": [
    {
     "data": {
      "image/png": "[encoded data removed]",
      "text/plain": [
       "<Figure size 576x720 with 1 Axes>"
      ]
     },
     "metadata": {},
     "output_type": "display_data"
    }
   ],
   "source": [
    "import matplotlib\n",
    "\n",
    "fig = plt.figure(figsize=(8, 10))\n",
    "gs = fig.add_gridspec(4, 2)\n",
    "gs.update(wspace=0.1, hspace=0.5)\n",
    "ax0 = fig.add_subplot(gs[0, :])\n",
    "\n",
    "colors = ['#DADADA', '#DADADA']\n",
    "colormap = matplotlib.colors.LinearSegmentedColormap.from_list(\"\", colors)\n",
    "\n",
    "# change background color\n",
    "background_color='#fbfbfb'\n",
    "fig.patch.set_facecolor(background_color) # figure background color\n",
    "ax0.set_facecolor(background_color)\n",
    "\n",
    "\n",
    "# overall\n",
    "#df_models = round(pd.concat([svc_df, dtree_df, rfc_df, tu_rfc_df, log_df, knn_df], axis=1), 3)\n",
    "\n",
    "sns.heatmap(roc_dict_df, cmap=colormap, annot=True, fmt=\".1%\", linewidths=2.5, cbar=False, ax=ax0)\n",
    "\n",
    "ax0.tick_params(axis=u'both', which=u'both', length=0)\n",
    "ax0.text(0, -1.5, 'Comparison between oversampling methods', fontfamily='serif', fontsize=15, fontweight='bold')\n",
    "ax0.text(0, -0.7, 'ADASYN and BorderlineSMOTE show the best performance.',\n",
    "        fontfamily='serif', fontsize=10)\n",
    "\n",
    "\n",
    "from matplotlib.patches import Rectangle\n",
    "rect = ax0.add_patch(Rectangle((0, 3), 5, 1, fill=True,color='#51C4D3', edgecolor='white', lw=0,alpha=0.5))\n",
    "rect = ax0.add_patch(Rectangle((0, 4), 5, 1, fill=True,color='#51C4D3', edgecolor='white', lw=0,alpha=0.5))\n",
    "\n",
    "\n",
    "plt.show()"
   ]
  },
  {
   "cell_type": "markdown",
   "id": "02c0fff0",
   "metadata": {},
   "source": [
    "### Conclusions\n",
    "\n",
    "I compared 5 different oversampling methods, and I found ADASYN and BorderlineSMOTE show the best performances. \n",
    "\n",
    "I will use ADASYN to balance data when building pipeline for models. "
   ]
  }
 ],
 "metadata": {
  "kernelspec": {
   "display_name": "Python 3",
   "language": "python",
   "name": "python3"
  },
  "language_info": {
   "codemirror_mode": {
    "name": "ipython",
    "version": 3
   },
   "file_extension": ".py",
   "mimetype": "text/x-python",
   "name": "python",
   "nbconvert_exporter": "python",
   "pygments_lexer": "ipython3",
   "version": "3.8.8"
  },
  "toc": {
   "base_numbering": 1,
   "nav_menu": {},
   "number_sections": true,
   "sideBar": true,
   "skip_h1_title": true,
   "title_cell": "Table of Contents",
   "title_sidebar": "Contents",
   "toc_cell": false,
   "toc_position": {
    "height": "calc(100% - 180px)",
    "left": "10px",
    "top": "150px",
    "width": "211.82066345214844px"
   },
   "toc_section_display": true,
   "toc_window_display": false
  },
  "varInspector": {
   "cols": {
    "lenName": 16,
    "lenType": 16,
    "lenVar": 40
   },
   "kernels_config": {
    "python": {
     "delete_cmd_postfix": "",
     "delete_cmd_prefix": "del ",
     "library": "var_list.py",
     "varRefreshCmd": "print(var_dic_list())"
    },
    "r": {
     "delete_cmd_postfix": ") ",
     "delete_cmd_prefix": "rm(",
     "library": "var_list.r",
     "varRefreshCmd": "cat(var_dic_list()) "
    }
   },
   "types_to_exclude": [
    "module",
    "function",
    "builtin_function_or_method",
    "instance",
    "_Feature"
   ],
   "window_display": false
  }
 },
 "nbformat": 4,
 "nbformat_minor": 5
}
