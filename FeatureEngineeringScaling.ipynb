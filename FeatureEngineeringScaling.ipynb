{
 "cells": [
  {
   "cell_type": "markdown",
   "id": "868ecafe",
   "metadata": {},
   "source": [
    "# Credit Card Customers_Feature Engineering and Scaling"
   ]
  },
  {
   "cell_type": "markdown",
   "id": "3fb44a48",
   "metadata": {},
   "source": [
    "### Overview\n",
    "\n",
    "In the previous notebook (Cleaning, EDA, and Visualization), we explored data analysis, and created some visualizations to see the relationships between variables. \n",
    "\n",
    "In this notebook, I will figure out which methods of feature engineering, feature selection, sample balancing technique are best for this dataset. "
   ]
  },
  {
   "cell_type": "markdown",
   "id": "3fa15289",
   "metadata": {},
   "source": [
    "### Import Packages"
   ]
  },
  {
   "cell_type": "code",
   "execution_count": 73,
   "id": "bbd4f46b",
   "metadata": {},
   "outputs": [
    {
     "data": {
      "text/plain": [
       "'/Users/yejiseoung/Dropbox/My Mac (Yejis-MacBook-Pro.local)/Documents/Projects/CreditCard'"
      ]
     },
     "execution_count": 73,
     "metadata": {},
     "output_type": "execute_result"
    }
   ],
   "source": [
    "import numpy as np\n",
    "from numpy import where\n",
    "import pandas as pd\n",
    "import matplotlib.pyplot as plt\n",
    "import seaborn as sns\n",
    "import scipy.stats as stats\n",
    "%matplotlib inline\n",
    "\n",
    "pd.set_option('display.max_rows', 500)\n",
    "pd.set_option('display.max_columns', 500)\n",
    "\n",
    "import warnings\n",
    "warnings.filterwarnings('ignore')\n",
    "\n",
    "import sys\n",
    "from pathlib import Path\n",
    "import os\n",
    "os.getcwd()"
   ]
  },
  {
   "cell_type": "code",
   "execution_count": 2,
   "id": "3da12b8e",
   "metadata": {},
   "outputs": [],
   "source": [
    "# set up path for data\n",
    "path = Path('/Users/yejiseoung/Dropbox/My Mac (Yejis-MacBook-Pro.local)/Documents/Projects/CreditCard/Data/')"
   ]
  },
  {
   "cell_type": "code",
   "execution_count": 131,
   "id": "e9755822",
   "metadata": {},
   "outputs": [],
   "source": [
    "# Data pre-processing \n",
    "from sklearn.preprocessing import (\n",
    "    StandardScaler, \n",
    "    RobustScaler,\n",
    "    MinMaxScaler,\n",
    "    MaxAbsScaler,\n",
    "    RobustScaler,\n",
    ")\n",
    "from sklearn.model_selection import train_test_split\n",
    "\n",
    "\n",
    "# Modelling \n",
    "from sklearn.metrics import (\n",
    "    roc_auc_score,\n",
    "    plot_roc_curve,\n",
    "    precision_recall_curve,\n",
    "    plot_precision_recall_curve,\n",
    "    auc,\n",
    "    precision_score, \n",
    "    accuracy_score, \n",
    "    recall_score,\n",
    "    classification_report, \n",
    "    confusion_matrix\n",
    ")\n",
    "\n",
    "from yellowbrick.classifier import ROCAUC, PrecisionRecallCurve\n",
    "\n",
    "from sklearn.linear_model import LogisticRegression\n",
    "from sklearn import svm\n",
    "from sklearn.svm import SVC\n",
    "from sklearn.neighbors import KNeighborsClassifier\n",
    "from sklearn.tree import DecisionTreeClassifier\n",
    "from sklearn.ensemble import (\n",
    "    RandomForestClassifier, \n",
    "    AdaBoostClassifier, \n",
    "    GradientBoostingClassifier)\n",
    "\n",
    "import xgboost as xgb\n",
    "\n",
    "# for feature engineering\n",
    "from feature_engine import encoding as ce\n",
    "\n",
    "# Evaluation & CV\n",
    "from sklearn.model_selection import RandomizedSearchCV\n",
    "from sklearn.model_selection import KFold, cross_val_score\n",
    "\n",
    "\n",
    "# pipeline\n",
    "from sklearn.pipeline import Pipeline\n",
    "from sklearn.pipeline import make_pipeline\n",
    "from sklearn.impute import SimpleImputer\n",
    "from sklearn.preprocessing import StandardScaler, OneHotEncoder\n",
    "from sklearn.compose import ColumnTransformer\n"
   ]
  },
  {
   "cell_type": "markdown",
   "id": "0135efe4",
   "metadata": {},
   "source": [
    "### Load data"
   ]
  },
  {
   "cell_type": "code",
   "execution_count": 8,
   "id": "96d03239",
   "metadata": {},
   "outputs": [],
   "source": [
    "df = pd.read_csv(path/'BankChurners.csv')"
   ]
  },
  {
   "cell_type": "code",
   "execution_count": 9,
   "id": "e018e817",
   "metadata": {},
   "outputs": [],
   "source": [
    "# drop unuseful columns \n",
    "df.drop(['CLIENTNUM',\n",
    "        'Naive_Bayes_Classifier_Attrition_Flag_Card_Category_Contacts_Count_12_mon_Dependent_count_Education_Level_Months_Inactive_12_mon_1',\n",
    "     'Naive_Bayes_Classifier_Attrition_Flag_Card_Category_Contacts_Count_12_mon_Dependent_count_Education_Level_Months_Inactive_12_mon_2'],\n",
    "        axis=1, inplace=True)"
   ]
  },
  {
   "cell_type": "code",
   "execution_count": 10,
   "id": "4b7d6080",
   "metadata": {},
   "outputs": [
    {
     "data": {
      "text/plain": [
       "(10127, 20)"
      ]
     },
     "execution_count": 10,
     "metadata": {},
     "output_type": "execute_result"
    }
   ],
   "source": [
    "df.shape"
   ]
  },
  {
   "cell_type": "code",
   "execution_count": 11,
   "id": "6d2dec70",
   "metadata": {},
   "outputs": [
    {
     "data": {
      "text/html": [
       "<div>\n",
       "<style scoped>\n",
       "    .dataframe tbody tr th:only-of-type {\n",
       "        vertical-align: middle;\n",
       "    }\n",
       "\n",
       "    .dataframe tbody tr th {\n",
       "        vertical-align: top;\n",
       "    }\n",
       "\n",
       "    .dataframe thead th {\n",
       "        text-align: right;\n",
       "    }\n",
       "</style>\n",
       "<table border=\"1\" class=\"dataframe\">\n",
       "  <thead>\n",
       "    <tr style=\"text-align: right;\">\n",
       "      <th></th>\n",
       "      <th>Attrition_Flag</th>\n",
       "      <th>Customer_Age</th>\n",
       "      <th>Gender</th>\n",
       "      <th>Dependent_count</th>\n",
       "      <th>Education_Level</th>\n",
       "      <th>Marital_Status</th>\n",
       "      <th>Income_Category</th>\n",
       "      <th>Card_Category</th>\n",
       "      <th>Months_on_book</th>\n",
       "      <th>Total_Relationship_Count</th>\n",
       "      <th>Months_Inactive_12_mon</th>\n",
       "      <th>Contacts_Count_12_mon</th>\n",
       "      <th>Credit_Limit</th>\n",
       "      <th>Total_Revolving_Bal</th>\n",
       "      <th>Avg_Open_To_Buy</th>\n",
       "      <th>Total_Amt_Chng_Q4_Q1</th>\n",
       "      <th>Total_Trans_Amt</th>\n",
       "      <th>Total_Trans_Ct</th>\n",
       "      <th>Total_Ct_Chng_Q4_Q1</th>\n",
       "      <th>Avg_Utilization_Ratio</th>\n",
       "    </tr>\n",
       "  </thead>\n",
       "  <tbody>\n",
       "    <tr>\n",
       "      <th>0</th>\n",
       "      <td>Existing Customer</td>\n",
       "      <td>45</td>\n",
       "      <td>M</td>\n",
       "      <td>3</td>\n",
       "      <td>High School</td>\n",
       "      <td>Married</td>\n",
       "      <td>$60K - $80K</td>\n",
       "      <td>Blue</td>\n",
       "      <td>39</td>\n",
       "      <td>5</td>\n",
       "      <td>1</td>\n",
       "      <td>3</td>\n",
       "      <td>12691.0</td>\n",
       "      <td>777</td>\n",
       "      <td>11914.0</td>\n",
       "      <td>1.335</td>\n",
       "      <td>1144</td>\n",
       "      <td>42</td>\n",
       "      <td>1.625</td>\n",
       "      <td>0.061</td>\n",
       "    </tr>\n",
       "    <tr>\n",
       "      <th>1</th>\n",
       "      <td>Existing Customer</td>\n",
       "      <td>49</td>\n",
       "      <td>F</td>\n",
       "      <td>5</td>\n",
       "      <td>Graduate</td>\n",
       "      <td>Single</td>\n",
       "      <td>Less than $40K</td>\n",
       "      <td>Blue</td>\n",
       "      <td>44</td>\n",
       "      <td>6</td>\n",
       "      <td>1</td>\n",
       "      <td>2</td>\n",
       "      <td>8256.0</td>\n",
       "      <td>864</td>\n",
       "      <td>7392.0</td>\n",
       "      <td>1.541</td>\n",
       "      <td>1291</td>\n",
       "      <td>33</td>\n",
       "      <td>3.714</td>\n",
       "      <td>0.105</td>\n",
       "    </tr>\n",
       "  </tbody>\n",
       "</table>\n",
       "</div>"
      ],
      "text/plain": [
       "      Attrition_Flag  Customer_Age Gender  Dependent_count Education_Level  \\\n",
       "0  Existing Customer            45      M                3     High School   \n",
       "1  Existing Customer            49      F                5        Graduate   \n",
       "\n",
       "  Marital_Status Income_Category Card_Category  Months_on_book  \\\n",
       "0        Married     $60K - $80K          Blue              39   \n",
       "1         Single  Less than $40K          Blue              44   \n",
       "\n",
       "   Total_Relationship_Count  Months_Inactive_12_mon  Contacts_Count_12_mon  \\\n",
       "0                         5                       1                      3   \n",
       "1                         6                       1                      2   \n",
       "\n",
       "   Credit_Limit  Total_Revolving_Bal  Avg_Open_To_Buy  Total_Amt_Chng_Q4_Q1  \\\n",
       "0       12691.0                  777          11914.0                 1.335   \n",
       "1        8256.0                  864           7392.0                 1.541   \n",
       "\n",
       "   Total_Trans_Amt  Total_Trans_Ct  Total_Ct_Chng_Q4_Q1  Avg_Utilization_Ratio  \n",
       "0             1144              42                1.625                  0.061  \n",
       "1             1291              33                3.714                  0.105  "
      ]
     },
     "execution_count": 11,
     "metadata": {},
     "output_type": "execute_result"
    }
   ],
   "source": [
    "df.head(2)"
   ]
  },
  {
   "cell_type": "code",
   "execution_count": 13,
   "id": "1e451e84",
   "metadata": {},
   "outputs": [
    {
     "name": "stdout",
     "output_type": "stream",
     "text": [
      "The number of categorical variables: 5\n",
      "The number of numerical vairables: 14\n"
     ]
    }
   ],
   "source": [
    "# create lists for categorical and numerical variables\n",
    "cat_vars = [var for var in df.columns if df[var].dtype=='O' and var != 'Attrition_Flag']\n",
    "num_vars = [var for var in df.columns if df[var].dtype!='O']\n",
    "\n",
    "print('The number of categorical variables: {}'.format(len(cat_vars)))\n",
    "print('The number of numerical vairables: {}'.format(len(num_vars)))"
   ]
  },
  {
   "cell_type": "markdown",
   "id": "084cd4d7",
   "metadata": {},
   "source": [
    "## Feature Engineering"
   ]
  },
  {
   "cell_type": "markdown",
   "id": "a5bf5824",
   "metadata": {},
   "source": [
    "### Separate train and test set\n",
    "\n",
    "Before we perform feature engineering techniques, we need to separate train and test set, because some methods should learn parameters from ONLY train to avoid over-fitting. "
   ]
  },
  {
   "cell_type": "code",
   "execution_count": 17,
   "id": "ef3e24d9",
   "metadata": {},
   "outputs": [
    {
     "data": {
      "text/plain": [
       "((8101, 19), (2026, 19))"
      ]
     },
     "execution_count": 17,
     "metadata": {},
     "output_type": "execute_result"
    }
   ],
   "source": [
    "X_train, X_test, y_train, y_test = train_test_split(\n",
    "    df.drop(['Attrition_Flag'], axis=1), #predictors\n",
    "    df['Attrition_Flag'], # target\n",
    "    test_size=0.2, # the percentage of test size\n",
    "    random_state=0, # for reproducibility\n",
    ")\n",
    "\n",
    "X_train.shape, X_test.shape    "
   ]
  },
  {
   "cell_type": "markdown",
   "id": "a2f42e22",
   "metadata": {},
   "source": [
    "### Create function for evaluating model performances"
   ]
  },
  {
   "cell_type": "markdown",
   "id": "452bd339",
   "metadata": {},
   "source": [
    "We would like to create function to evaluate model performances and this would help compare perfoamcnes. \n",
    "\n",
    "I will use Random Forests for comparison and ROC-AUC score."
   ]
  },
  {
   "cell_type": "code",
   "execution_count": 40,
   "id": "0e99c838",
   "metadata": {},
   "outputs": [],
   "source": [
    "def run_RFs(X_train, X_test, y_train, y_test):\n",
    "    rf = RandomForestClassifier(n_estimators=40, random_state=42, max_depth=3)\n",
    "    rf.fit(X_train, y_train)\n",
    "    \n",
    "    print(\"Train set\")\n",
    "    train_pred = rf.predict_proba(X_train)\n",
    "    print(\"Random Forests roc-auc: {}\".format(roc_auc_score(y_train, train_pred[:,1])))\n",
    "    \n",
    "    print(\"Test set\")\n",
    "    test_pred = rf.predict_proba(X_test)\n",
    "    print(\"Random Forests roc-auc: {}\".format(roc_auc_score(y_test, test_pred[:, 1])))\n",
    "    \n",
    "    return roc_auc_score(y_train, train_pred[:,1]), roc_auc_score(y_test, test_pred[:, 1])"
   ]
  },
  {
   "cell_type": "markdown",
   "id": "40b5f8dc",
   "metadata": {
    "heading_collapsed": true
   },
   "source": [
    "### Categorical encoding for Categorical variables\n",
    "\n",
    "In this section, I will compare the performance of the different feature cateogrical encoding techniques, and choose the best one for this dataset. "
   ]
  },
  {
   "cell_type": "code",
   "execution_count": 18,
   "id": "4bcd4e78",
   "metadata": {
    "hidden": true
   },
   "outputs": [
    {
     "name": "stdout",
     "output_type": "stream",
     "text": [
      "Gender has 2 labels\n",
      "['M' 'F']\n",
      "\n",
      "Education_Level has 7 labels\n",
      "['Graduate' 'Uneducated' 'Unknown' 'High School' 'College' 'Post-Graduate'\n",
      " 'Doctorate']\n",
      "\n",
      "Marital_Status has 4 labels\n",
      "['Married' 'Single' 'Divorced' 'Unknown']\n",
      "\n",
      "Income_Category has 6 labels\n",
      "['$120K +' 'Unknown' 'Less than $40K' '$40K - $60K' '$80K - $120K'\n",
      " '$60K - $80K']\n",
      "\n",
      "Card_Category has 4 labels\n",
      "['Blue' 'Gold' 'Silver' 'Platinum']\n",
      "\n"
     ]
    }
   ],
   "source": [
    "# How many labels are in each category?\n",
    "for cat in cat_vars:\n",
    "    print(cat, \"has {} labels\".format(X_train[cat].nunique()))\n",
    "    print(X_train[cat].unique())\n",
    "    print()"
   ]
  },
  {
   "cell_type": "markdown",
   "id": "4e2cbae3",
   "metadata": {
    "hidden": true
   },
   "source": [
    "#### One Hoe Encoding (OHE)\n",
    "\n",
    "One hot encoding, consists in encoding each categorical variable with different boolean variables (dummy variables) which take values 0 or 1, indicating if a category is present in an observation."
   ]
  },
  {
   "cell_type": "code",
   "execution_count": 20,
   "id": "a2126402",
   "metadata": {
    "hidden": true
   },
   "outputs": [],
   "source": [
    "X_train_ohe = X_train.copy()\n",
    "X_test_ohe = X_test.copy()"
   ]
  },
  {
   "cell_type": "code",
   "execution_count": 22,
   "id": "50acebcb",
   "metadata": {
    "hidden": true
   },
   "outputs": [
    {
     "data": {
      "text/plain": [
       "OneHotEncoder(drop_last=True,\n",
       "              variables=['Gender', 'Education_Level', 'Marital_Status',\n",
       "                         'Income_Category', 'Card_Category'])"
      ]
     },
     "execution_count": 22,
     "metadata": {},
     "output_type": "execute_result"
    }
   ],
   "source": [
    "ohe_enc = ce.OneHotEncoder(\n",
    "    top_categories=None,\n",
    "    variables=cat_vars,\n",
    "    drop_last=True\n",
    ")\n",
    "\n",
    "ohe_enc.fit(X_train_ohe)\n"
   ]
  },
  {
   "cell_type": "code",
   "execution_count": 23,
   "id": "a050f310",
   "metadata": {
    "hidden": true
   },
   "outputs": [],
   "source": [
    "X_train_ohe = ohe_enc.transform(X_train_ohe)\n",
    "X_test_ohe = ohe_enc.transform(X_test_ohe)"
   ]
  },
  {
   "cell_type": "code",
   "execution_count": 25,
   "id": "ef3699e4",
   "metadata": {
    "hidden": true
   },
   "outputs": [
    {
     "data": {
      "text/html": [
       "<div>\n",
       "<style scoped>\n",
       "    .dataframe tbody tr th:only-of-type {\n",
       "        vertical-align: middle;\n",
       "    }\n",
       "\n",
       "    .dataframe tbody tr th {\n",
       "        vertical-align: top;\n",
       "    }\n",
       "\n",
       "    .dataframe thead th {\n",
       "        text-align: right;\n",
       "    }\n",
       "</style>\n",
       "<table border=\"1\" class=\"dataframe\">\n",
       "  <thead>\n",
       "    <tr style=\"text-align: right;\">\n",
       "      <th></th>\n",
       "      <th>Customer_Age</th>\n",
       "      <th>Dependent_count</th>\n",
       "      <th>Months_on_book</th>\n",
       "      <th>Total_Relationship_Count</th>\n",
       "      <th>Months_Inactive_12_mon</th>\n",
       "      <th>Contacts_Count_12_mon</th>\n",
       "      <th>Credit_Limit</th>\n",
       "      <th>Total_Revolving_Bal</th>\n",
       "      <th>Avg_Open_To_Buy</th>\n",
       "      <th>Total_Amt_Chng_Q4_Q1</th>\n",
       "      <th>Total_Trans_Amt</th>\n",
       "      <th>Total_Trans_Ct</th>\n",
       "      <th>Total_Ct_Chng_Q4_Q1</th>\n",
       "      <th>Avg_Utilization_Ratio</th>\n",
       "      <th>Gender_M</th>\n",
       "      <th>Education_Level_Graduate</th>\n",
       "      <th>Education_Level_Uneducated</th>\n",
       "      <th>Education_Level_Unknown</th>\n",
       "      <th>Education_Level_High School</th>\n",
       "      <th>Education_Level_College</th>\n",
       "      <th>Education_Level_Post-Graduate</th>\n",
       "      <th>Marital_Status_Married</th>\n",
       "      <th>Marital_Status_Single</th>\n",
       "      <th>Marital_Status_Divorced</th>\n",
       "      <th>Income_Category_$120K +</th>\n",
       "      <th>Income_Category_Unknown</th>\n",
       "      <th>Income_Category_Less than $40K</th>\n",
       "      <th>Income_Category_$40K - $60K</th>\n",
       "      <th>Income_Category_$80K - $120K</th>\n",
       "      <th>Card_Category_Blue</th>\n",
       "      <th>Card_Category_Gold</th>\n",
       "      <th>Card_Category_Silver</th>\n",
       "    </tr>\n",
       "  </thead>\n",
       "  <tbody>\n",
       "    <tr>\n",
       "      <th>147</th>\n",
       "      <td>55</td>\n",
       "      <td>2</td>\n",
       "      <td>50</td>\n",
       "      <td>3</td>\n",
       "      <td>2</td>\n",
       "      <td>0</td>\n",
       "      <td>10916.0</td>\n",
       "      <td>1536</td>\n",
       "      <td>9380.0</td>\n",
       "      <td>1.317</td>\n",
       "      <td>1592</td>\n",
       "      <td>34</td>\n",
       "      <td>1.000</td>\n",
       "      <td>0.141</td>\n",
       "      <td>1</td>\n",
       "      <td>1</td>\n",
       "      <td>0</td>\n",
       "      <td>0</td>\n",
       "      <td>0</td>\n",
       "      <td>0</td>\n",
       "      <td>0</td>\n",
       "      <td>1</td>\n",
       "      <td>0</td>\n",
       "      <td>0</td>\n",
       "      <td>1</td>\n",
       "      <td>0</td>\n",
       "      <td>0</td>\n",
       "      <td>0</td>\n",
       "      <td>0</td>\n",
       "      <td>1</td>\n",
       "      <td>0</td>\n",
       "      <td>0</td>\n",
       "    </tr>\n",
       "    <tr>\n",
       "      <th>1985</th>\n",
       "      <td>32</td>\n",
       "      <td>0</td>\n",
       "      <td>27</td>\n",
       "      <td>6</td>\n",
       "      <td>3</td>\n",
       "      <td>3</td>\n",
       "      <td>9238.0</td>\n",
       "      <td>0</td>\n",
       "      <td>9238.0</td>\n",
       "      <td>0.809</td>\n",
       "      <td>2522</td>\n",
       "      <td>68</td>\n",
       "      <td>0.478</td>\n",
       "      <td>0.000</td>\n",
       "      <td>1</td>\n",
       "      <td>1</td>\n",
       "      <td>0</td>\n",
       "      <td>0</td>\n",
       "      <td>0</td>\n",
       "      <td>0</td>\n",
       "      <td>0</td>\n",
       "      <td>0</td>\n",
       "      <td>1</td>\n",
       "      <td>0</td>\n",
       "      <td>0</td>\n",
       "      <td>1</td>\n",
       "      <td>0</td>\n",
       "      <td>0</td>\n",
       "      <td>0</td>\n",
       "      <td>1</td>\n",
       "      <td>0</td>\n",
       "      <td>0</td>\n",
       "    </tr>\n",
       "  </tbody>\n",
       "</table>\n",
       "</div>"
      ],
      "text/plain": [
       "      Customer_Age  Dependent_count  Months_on_book  Total_Relationship_Count  \\\n",
       "147             55                2              50                         3   \n",
       "1985            32                0              27                         6   \n",
       "\n",
       "      Months_Inactive_12_mon  Contacts_Count_12_mon  Credit_Limit  \\\n",
       "147                        2                      0       10916.0   \n",
       "1985                       3                      3        9238.0   \n",
       "\n",
       "      Total_Revolving_Bal  Avg_Open_To_Buy  Total_Amt_Chng_Q4_Q1  \\\n",
       "147                  1536           9380.0                 1.317   \n",
       "1985                    0           9238.0                 0.809   \n",
       "\n",
       "      Total_Trans_Amt  Total_Trans_Ct  Total_Ct_Chng_Q4_Q1  \\\n",
       "147              1592              34                1.000   \n",
       "1985             2522              68                0.478   \n",
       "\n",
       "      Avg_Utilization_Ratio  Gender_M  Education_Level_Graduate  \\\n",
       "147                   0.141         1                         1   \n",
       "1985                  0.000         1                         1   \n",
       "\n",
       "      Education_Level_Uneducated  Education_Level_Unknown  \\\n",
       "147                            0                        0   \n",
       "1985                           0                        0   \n",
       "\n",
       "      Education_Level_High School  Education_Level_College  \\\n",
       "147                             0                        0   \n",
       "1985                            0                        0   \n",
       "\n",
       "      Education_Level_Post-Graduate  Marital_Status_Married  \\\n",
       "147                               0                       1   \n",
       "1985                              0                       0   \n",
       "\n",
       "      Marital_Status_Single  Marital_Status_Divorced  Income_Category_$120K +  \\\n",
       "147                       0                        0                        1   \n",
       "1985                      1                        0                        0   \n",
       "\n",
       "      Income_Category_Unknown  Income_Category_Less than $40K  \\\n",
       "147                         0                               0   \n",
       "1985                        1                               0   \n",
       "\n",
       "      Income_Category_$40K - $60K  Income_Category_$80K - $120K  \\\n",
       "147                             0                             0   \n",
       "1985                            0                             0   \n",
       "\n",
       "      Card_Category_Blue  Card_Category_Gold  Card_Category_Silver  \n",
       "147                    1                   0                     0  \n",
       "1985                   1                   0                     0  "
      ]
     },
     "execution_count": 25,
     "metadata": {},
     "output_type": "execute_result"
    }
   ],
   "source": [
    "X_train_ohe.head(2)"
   ]
  },
  {
   "cell_type": "markdown",
   "id": "d0b7e0a4",
   "metadata": {
    "hidden": true
   },
   "source": [
    "#### Integer Encoding\n",
    "\n",
    "Integer encoding consist in replacing the categories by digits from 1 to n, where n is the number of distinct categories of the variable.\n",
    "\n",
    "The numbers are assigned arbitrarily. This encoding method allows for quick benchmarking of machine learning models."
   ]
  },
  {
   "cell_type": "code",
   "execution_count": 26,
   "id": "da08c0ba",
   "metadata": {
    "hidden": true
   },
   "outputs": [],
   "source": [
    "X_train_ing = X_train.copy()\n",
    "X_test_ing = X_test.copy()"
   ]
  },
  {
   "cell_type": "code",
   "execution_count": 28,
   "id": "29dca99b",
   "metadata": {
    "hidden": true
   },
   "outputs": [
    {
     "data": {
      "text/plain": [
       "OrdinalEncoder(encoding_method='arbitrary',\n",
       "               variables=['Gender', 'Education_Level', 'Marital_Status',\n",
       "                          'Income_Category', 'Card_Category'])"
      ]
     },
     "execution_count": 28,
     "metadata": {},
     "output_type": "execute_result"
    }
   ],
   "source": [
    "ordinal_enc = ce.OrdinalEncoder(\n",
    "    encoding_method='arbitrary',\n",
    "    variables=cat_vars)\n",
    "\n",
    "ordinal_enc.fit(X_train_ing)"
   ]
  },
  {
   "cell_type": "code",
   "execution_count": 29,
   "id": "0ec3e5ab",
   "metadata": {
    "hidden": true
   },
   "outputs": [],
   "source": [
    "X_train_ing = ordinal_enc.transform(X_train_ing)\n",
    "X_test_ing = ordinal_enc.transform(X_test_ing)"
   ]
  },
  {
   "cell_type": "code",
   "execution_count": 30,
   "id": "e111f5c0",
   "metadata": {
    "hidden": true
   },
   "outputs": [
    {
     "data": {
      "text/html": [
       "<div>\n",
       "<style scoped>\n",
       "    .dataframe tbody tr th:only-of-type {\n",
       "        vertical-align: middle;\n",
       "    }\n",
       "\n",
       "    .dataframe tbody tr th {\n",
       "        vertical-align: top;\n",
       "    }\n",
       "\n",
       "    .dataframe thead th {\n",
       "        text-align: right;\n",
       "    }\n",
       "</style>\n",
       "<table border=\"1\" class=\"dataframe\">\n",
       "  <thead>\n",
       "    <tr style=\"text-align: right;\">\n",
       "      <th></th>\n",
       "      <th>Customer_Age</th>\n",
       "      <th>Gender</th>\n",
       "      <th>Dependent_count</th>\n",
       "      <th>Education_Level</th>\n",
       "      <th>Marital_Status</th>\n",
       "      <th>Income_Category</th>\n",
       "      <th>Card_Category</th>\n",
       "      <th>Months_on_book</th>\n",
       "      <th>Total_Relationship_Count</th>\n",
       "      <th>Months_Inactive_12_mon</th>\n",
       "      <th>Contacts_Count_12_mon</th>\n",
       "      <th>Credit_Limit</th>\n",
       "      <th>Total_Revolving_Bal</th>\n",
       "      <th>Avg_Open_To_Buy</th>\n",
       "      <th>Total_Amt_Chng_Q4_Q1</th>\n",
       "      <th>Total_Trans_Amt</th>\n",
       "      <th>Total_Trans_Ct</th>\n",
       "      <th>Total_Ct_Chng_Q4_Q1</th>\n",
       "      <th>Avg_Utilization_Ratio</th>\n",
       "    </tr>\n",
       "  </thead>\n",
       "  <tbody>\n",
       "    <tr>\n",
       "      <th>147</th>\n",
       "      <td>55</td>\n",
       "      <td>0</td>\n",
       "      <td>2</td>\n",
       "      <td>0</td>\n",
       "      <td>0</td>\n",
       "      <td>0</td>\n",
       "      <td>0</td>\n",
       "      <td>50</td>\n",
       "      <td>3</td>\n",
       "      <td>2</td>\n",
       "      <td>0</td>\n",
       "      <td>10916.0</td>\n",
       "      <td>1536</td>\n",
       "      <td>9380.0</td>\n",
       "      <td>1.317</td>\n",
       "      <td>1592</td>\n",
       "      <td>34</td>\n",
       "      <td>1.000</td>\n",
       "      <td>0.141</td>\n",
       "    </tr>\n",
       "    <tr>\n",
       "      <th>1985</th>\n",
       "      <td>32</td>\n",
       "      <td>0</td>\n",
       "      <td>0</td>\n",
       "      <td>0</td>\n",
       "      <td>1</td>\n",
       "      <td>1</td>\n",
       "      <td>0</td>\n",
       "      <td>27</td>\n",
       "      <td>6</td>\n",
       "      <td>3</td>\n",
       "      <td>3</td>\n",
       "      <td>9238.0</td>\n",
       "      <td>0</td>\n",
       "      <td>9238.0</td>\n",
       "      <td>0.809</td>\n",
       "      <td>2522</td>\n",
       "      <td>68</td>\n",
       "      <td>0.478</td>\n",
       "      <td>0.000</td>\n",
       "    </tr>\n",
       "  </tbody>\n",
       "</table>\n",
       "</div>"
      ],
      "text/plain": [
       "      Customer_Age  Gender  Dependent_count  Education_Level  Marital_Status  \\\n",
       "147             55       0                2                0               0   \n",
       "1985            32       0                0                0               1   \n",
       "\n",
       "      Income_Category  Card_Category  Months_on_book  \\\n",
       "147                 0              0              50   \n",
       "1985                1              0              27   \n",
       "\n",
       "      Total_Relationship_Count  Months_Inactive_12_mon  Contacts_Count_12_mon  \\\n",
       "147                          3                       2                      0   \n",
       "1985                         6                       3                      3   \n",
       "\n",
       "      Credit_Limit  Total_Revolving_Bal  Avg_Open_To_Buy  \\\n",
       "147        10916.0                 1536           9380.0   \n",
       "1985        9238.0                    0           9238.0   \n",
       "\n",
       "      Total_Amt_Chng_Q4_Q1  Total_Trans_Amt  Total_Trans_Ct  \\\n",
       "147                  1.317             1592              34   \n",
       "1985                 0.809             2522              68   \n",
       "\n",
       "      Total_Ct_Chng_Q4_Q1  Avg_Utilization_Ratio  \n",
       "147                 1.000                  0.141  \n",
       "1985                0.478                  0.000  "
      ]
     },
     "execution_count": 30,
     "metadata": {},
     "output_type": "execute_result"
    }
   ],
   "source": [
    "X_train_ing.head(2)"
   ]
  },
  {
   "cell_type": "markdown",
   "id": "80afa06c",
   "metadata": {
    "hidden": true
   },
   "source": [
    "#### Count Encoding \n",
    "\n",
    "In count encoding we replace the categories by the count of the observations that show that category in the dataset. Similarly, we can replace the category by the frequency- or percentage- of observations in the dataset. That is, if 10 of our 100 observations show the color blue, we would replace blue by 10 if doing count encoding, or by 0.1 if replacing by the frequency. These techniques capture the representation of each label in a dataset, but the encoding may not necessarily be predictive of the outcome. These are however, very popular encoding methods in Kaggle competitions.\n",
    "\n",
    "The assumption of thie technique is that the number of observations shown by each variable is somewhat informative of the predictive power of the category."
   ]
  },
  {
   "cell_type": "code",
   "execution_count": 31,
   "id": "5f0d997d",
   "metadata": {
    "hidden": true
   },
   "outputs": [],
   "source": [
    "X_train_cont = X_train.copy()\n",
    "X_test_cont = X_test.copy()"
   ]
  },
  {
   "cell_type": "code",
   "execution_count": 33,
   "id": "ed45645c",
   "metadata": {
    "hidden": true
   },
   "outputs": [
    {
     "data": {
      "text/plain": [
       "CountFrequencyEncoder(variables=['Gender', 'Education_Level', 'Marital_Status',\n",
       "                                 'Income_Category', 'Card_Category'])"
      ]
     },
     "execution_count": 33,
     "metadata": {},
     "output_type": "execute_result"
    }
   ],
   "source": [
    "count_enc = ce.CountFrequencyEncoder(\n",
    "    encoding_method='count', # to do frequency -> encoding_method='frequency'\n",
    "    variables=cat_vars)\n",
    "\n",
    "count_enc.fit(X_train_cont)"
   ]
  },
  {
   "cell_type": "code",
   "execution_count": 34,
   "id": "dce82a82",
   "metadata": {
    "hidden": true
   },
   "outputs": [],
   "source": [
    "X_train_cont = count_enc.transform(X_train_cont)\n",
    "X_test_cont = count_enc.transform(X_test_cont)"
   ]
  },
  {
   "cell_type": "code",
   "execution_count": 35,
   "id": "91a44cd4",
   "metadata": {
    "hidden": true
   },
   "outputs": [
    {
     "data": {
      "text/html": [
       "<div>\n",
       "<style scoped>\n",
       "    .dataframe tbody tr th:only-of-type {\n",
       "        vertical-align: middle;\n",
       "    }\n",
       "\n",
       "    .dataframe tbody tr th {\n",
       "        vertical-align: top;\n",
       "    }\n",
       "\n",
       "    .dataframe thead th {\n",
       "        text-align: right;\n",
       "    }\n",
       "</style>\n",
       "<table border=\"1\" class=\"dataframe\">\n",
       "  <thead>\n",
       "    <tr style=\"text-align: right;\">\n",
       "      <th></th>\n",
       "      <th>Customer_Age</th>\n",
       "      <th>Gender</th>\n",
       "      <th>Dependent_count</th>\n",
       "      <th>Education_Level</th>\n",
       "      <th>Marital_Status</th>\n",
       "      <th>Income_Category</th>\n",
       "      <th>Card_Category</th>\n",
       "      <th>Months_on_book</th>\n",
       "      <th>Total_Relationship_Count</th>\n",
       "      <th>Months_Inactive_12_mon</th>\n",
       "      <th>Contacts_Count_12_mon</th>\n",
       "      <th>Credit_Limit</th>\n",
       "      <th>Total_Revolving_Bal</th>\n",
       "      <th>Avg_Open_To_Buy</th>\n",
       "      <th>Total_Amt_Chng_Q4_Q1</th>\n",
       "      <th>Total_Trans_Amt</th>\n",
       "      <th>Total_Trans_Ct</th>\n",
       "      <th>Total_Ct_Chng_Q4_Q1</th>\n",
       "      <th>Avg_Utilization_Ratio</th>\n",
       "    </tr>\n",
       "  </thead>\n",
       "  <tbody>\n",
       "    <tr>\n",
       "      <th>147</th>\n",
       "      <td>55</td>\n",
       "      <td>3840</td>\n",
       "      <td>2</td>\n",
       "      <td>2507</td>\n",
       "      <td>3761</td>\n",
       "      <td>580</td>\n",
       "      <td>7553</td>\n",
       "      <td>50</td>\n",
       "      <td>3</td>\n",
       "      <td>2</td>\n",
       "      <td>0</td>\n",
       "      <td>10916.0</td>\n",
       "      <td>1536</td>\n",
       "      <td>9380.0</td>\n",
       "      <td>1.317</td>\n",
       "      <td>1592</td>\n",
       "      <td>34</td>\n",
       "      <td>1.000</td>\n",
       "      <td>0.141</td>\n",
       "    </tr>\n",
       "    <tr>\n",
       "      <th>1985</th>\n",
       "      <td>32</td>\n",
       "      <td>3840</td>\n",
       "      <td>0</td>\n",
       "      <td>2507</td>\n",
       "      <td>3148</td>\n",
       "      <td>894</td>\n",
       "      <td>7553</td>\n",
       "      <td>27</td>\n",
       "      <td>6</td>\n",
       "      <td>3</td>\n",
       "      <td>3</td>\n",
       "      <td>9238.0</td>\n",
       "      <td>0</td>\n",
       "      <td>9238.0</td>\n",
       "      <td>0.809</td>\n",
       "      <td>2522</td>\n",
       "      <td>68</td>\n",
       "      <td>0.478</td>\n",
       "      <td>0.000</td>\n",
       "    </tr>\n",
       "  </tbody>\n",
       "</table>\n",
       "</div>"
      ],
      "text/plain": [
       "      Customer_Age  Gender  Dependent_count  Education_Level  Marital_Status  \\\n",
       "147             55    3840                2             2507            3761   \n",
       "1985            32    3840                0             2507            3148   \n",
       "\n",
       "      Income_Category  Card_Category  Months_on_book  \\\n",
       "147               580           7553              50   \n",
       "1985              894           7553              27   \n",
       "\n",
       "      Total_Relationship_Count  Months_Inactive_12_mon  Contacts_Count_12_mon  \\\n",
       "147                          3                       2                      0   \n",
       "1985                         6                       3                      3   \n",
       "\n",
       "      Credit_Limit  Total_Revolving_Bal  Avg_Open_To_Buy  \\\n",
       "147        10916.0                 1536           9380.0   \n",
       "1985        9238.0                    0           9238.0   \n",
       "\n",
       "      Total_Amt_Chng_Q4_Q1  Total_Trans_Amt  Total_Trans_Ct  \\\n",
       "147                  1.317             1592              34   \n",
       "1985                 0.809             2522              68   \n",
       "\n",
       "      Total_Ct_Chng_Q4_Q1  Avg_Utilization_Ratio  \n",
       "147                 1.000                  0.141  \n",
       "1985                0.478                  0.000  "
      ]
     },
     "execution_count": 35,
     "metadata": {},
     "output_type": "execute_result"
    }
   ],
   "source": [
    "X_train_cont.head(2)"
   ]
  },
  {
   "cell_type": "markdown",
   "id": "bbde3fac",
   "metadata": {
    "hidden": true
   },
   "source": [
    "#### Evaluate model performances"
   ]
  },
  {
   "cell_type": "code",
   "execution_count": 64,
   "id": "e0f96819",
   "metadata": {
    "hidden": true
   },
   "outputs": [
    {
     "name": "stdout",
     "output_type": "stream",
     "text": [
      "Train set\n",
      "Random Forests roc-auc: 0.9239812688912319\n",
      "Test set\n",
      "Random Forests roc-auc: 0.9070432171715173\n",
      "Train set\n",
      "Random Forests roc-auc: 0.9391887735047696\n",
      "Test set\n",
      "Random Forests roc-auc: 0.92178726724757\n",
      "Train set\n",
      "Random Forests roc-auc: 0.9391599703534477\n",
      "Test set\n",
      "Random Forests roc-auc: 0.9217966913767334\n"
     ]
    }
   ],
   "source": [
    "cat_encoding = {\"OHE\": run_RFs(X_train_ohe, X_test_ohe, y_train, y_test),\n",
    "               \"Integer\": run_RFs(X_train_ing, X_test_ing, y_train, y_test),\n",
    "               \"Counts\": run_RFs(X_train_cont, X_test_cont, y_train, y_test)}"
   ]
  },
  {
   "cell_type": "code",
   "execution_count": 65,
   "id": "bb546694",
   "metadata": {
    "hidden": true
   },
   "outputs": [
    {
     "data": {
      "text/html": [
       "<div>\n",
       "<style scoped>\n",
       "    .dataframe tbody tr th:only-of-type {\n",
       "        vertical-align: middle;\n",
       "    }\n",
       "\n",
       "    .dataframe tbody tr th {\n",
       "        vertical-align: top;\n",
       "    }\n",
       "\n",
       "    .dataframe thead th {\n",
       "        text-align: right;\n",
       "    }\n",
       "</style>\n",
       "<table border=\"1\" class=\"dataframe\">\n",
       "  <thead>\n",
       "    <tr style=\"text-align: right;\">\n",
       "      <th></th>\n",
       "      <th>Train</th>\n",
       "      <th>Test</th>\n",
       "    </tr>\n",
       "  </thead>\n",
       "  <tbody>\n",
       "    <tr>\n",
       "      <th>OHE</th>\n",
       "      <td>0.923981</td>\n",
       "      <td>0.907043</td>\n",
       "    </tr>\n",
       "    <tr>\n",
       "      <th>Integer</th>\n",
       "      <td>0.939189</td>\n",
       "      <td>0.921787</td>\n",
       "    </tr>\n",
       "    <tr>\n",
       "      <th>Counts</th>\n",
       "      <td>0.939160</td>\n",
       "      <td>0.921797</td>\n",
       "    </tr>\n",
       "  </tbody>\n",
       "</table>\n",
       "</div>"
      ],
      "text/plain": [
       "            Train      Test\n",
       "OHE      0.923981  0.907043\n",
       "Integer  0.939189  0.921787\n",
       "Counts   0.939160  0.921797"
      ]
     },
     "execution_count": 65,
     "metadata": {},
     "output_type": "execute_result"
    }
   ],
   "source": [
    "cat_encoding = pd.DataFrame(cat_encoding, \n",
    "                           index=['Train', 'Test']).T\n",
    "\n",
    "cat_encoding"
   ]
  },
  {
   "cell_type": "code",
   "execution_count": 70,
   "id": "9257fdfa",
   "metadata": {
    "hidden": true
   },
   "outputs": [
    {
     "data": {
      "image/png": "[encoded data removed]",
      "text/plain": [
       "<Figure size 360x576 with 1 Axes>"
      ]
     },
     "metadata": {},
     "output_type": "display_data"
    }
   ],
   "source": [
    "import matplotlib\n",
    "\n",
    "fig = plt.figure(figsize=(5, 8))\n",
    "gs = fig.add_gridspec(4, 2)\n",
    "gs.update(wspace=0.1, hspace=0.5)\n",
    "ax0 = fig.add_subplot(gs[0, :])\n",
    "\n",
    "colors = ['#DADADA', '#DADADA']\n",
    "colormap = matplotlib.colors.LinearSegmentedColormap.from_list(\"\", colors)\n",
    "\n",
    "# change background color\n",
    "background_color='#fbfbfb'\n",
    "fig.patch.set_facecolor(background_color) # figure background color\n",
    "ax0.set_facecolor(background_color)\n",
    "\n",
    "\n",
    "# overall\n",
    "#df_models = round(pd.concat([svc_df, dtree_df, rfc_df, tu_rfc_df, log_df, knn_df], axis=1), 3)\n",
    "\n",
    "sns.heatmap(cat_encoding, cmap=colormap, annot=True, fmt=\".1%\", linewidths=2.5, cbar=False, ax=ax0)\n",
    "\n",
    "ax0.tick_params(axis=u'both', which=u'both', length=0)\n",
    "ax0.text(0, -1.5, 'Comparison between Categorical Encoding Methods', fontfamily='serif', fontsize=15, fontweight='bold')\n",
    "ax0.text(0, -0.7, 'Integer and Counts Encoding methods have better performances than One-Hot-encoding.\\nI will choose Integer Encoding for further analysis.',\n",
    "        fontfamily='serif', fontsize=10)\n",
    "\n",
    "\n",
    "from matplotlib.patches import Rectangle\n",
    "rect = ax0.add_patch(Rectangle((0, 1), 5, 1, fill=True,color='#51C4D3', edgecolor='white', lw=0,alpha=0.5))\n",
    "\n",
    "plt.show()"
   ]
  },
  {
   "cell_type": "markdown",
   "id": "8406b71d",
   "metadata": {
    "hidden": true
   },
   "source": [
    "#### Conclusion\n",
    "\n",
    "I performed one-hot-encoding, label encoding and count encoding for cateogrical variables to explore which technique is good for this dataset.\n",
    "\n",
    "Given the results above, label encoding or count encoding is the best for this. I will use Integer Encoding method in the further analysis. "
   ]
  },
  {
   "cell_type": "markdown",
   "id": "fadc3d51",
   "metadata": {
    "heading_collapsed": true
   },
   "source": [
    "### Variable Transformations for Numerical variables\n",
    "\n",
    "In the previous notebook (Cleaning_EDA_and_Visualization.ipynb), we found that some numerical variables do not have gaussian distributions, so using transformation methods might help improve model performances because it helps improve value spread. \n",
    "\n",
    "Based on the previous analysis, there are 5 continuous variables which are skewed distributions: `Credit_Limit`, `Total_Revolving_Bal`, `Avg_Open_To_Buy`, `Total_Trans_Amt`, `Avg_Utilization_Ratio`."
   ]
  },
  {
   "cell_type": "code",
   "execution_count": 72,
   "id": "31cf168f",
   "metadata": {
    "hidden": true
   },
   "outputs": [],
   "source": [
    "# create skewed variable list\n",
    "skewed = ['Credit_Limit', 'Total_Revolving_Bal', 'Avg_Open_To_Buy', \n",
    "          'Total_Trans_Amt', 'Avg_Utilization_Ratio']"
   ]
  },
  {
   "cell_type": "markdown",
   "id": "325c3d55",
   "metadata": {
    "hidden": true
   },
   "source": [
    "#### yeo-johnson transformation"
   ]
  },
  {
   "cell_type": "code",
   "execution_count": 76,
   "id": "2b135983",
   "metadata": {
    "hidden": true
   },
   "outputs": [],
   "source": [
    "use_cols = skewed + ['Attrition_Flag']"
   ]
  },
  {
   "cell_type": "code",
   "execution_count": 83,
   "id": "5d1b31cf",
   "metadata": {
    "hidden": true
   },
   "outputs": [
    {
     "data": {
      "image/png": "[encoded data removed]",
      "text/plain": [
       "<Figure size 720x720 with 6 Axes>"
      ]
     },
     "metadata": {
      "needs_background": "light"
     },
     "output_type": "display_data"
    }
   ],
   "source": [
    "# temporary copy of the data\n",
    "transformed = df[use_cols]\n",
    "\n",
    "for var in skewed:\n",
    "    \n",
    "    # transform the variable - yeo-johnson\n",
    "    transformed[var], param = stats.yeojohnson(df[var])\n",
    "    \n",
    "# plot the histogram of the transformed variables\n",
    "transformed[skewed].hist(bins=50, figsize=(10,10))\n",
    "plt.show()"
   ]
  },
  {
   "cell_type": "markdown",
   "id": "7d85877c",
   "metadata": {
    "hidden": true
   },
   "source": [
    "We can say some variables (credit_limit, and Avg_Open_To_Buy) improved its distribution. To determin if this is the case, we can compare the model performances between original and transformed data. "
   ]
  },
  {
   "cell_type": "code",
   "execution_count": 78,
   "id": "b75faec7",
   "metadata": {
    "hidden": true
   },
   "outputs": [
    {
     "data": {
      "text/html": [
       "<div>\n",
       "<style scoped>\n",
       "    .dataframe tbody tr th:only-of-type {\n",
       "        vertical-align: middle;\n",
       "    }\n",
       "\n",
       "    .dataframe tbody tr th {\n",
       "        vertical-align: top;\n",
       "    }\n",
       "\n",
       "    .dataframe thead th {\n",
       "        text-align: right;\n",
       "    }\n",
       "</style>\n",
       "<table border=\"1\" class=\"dataframe\">\n",
       "  <thead>\n",
       "    <tr style=\"text-align: right;\">\n",
       "      <th></th>\n",
       "      <th>Credit_Limit</th>\n",
       "      <th>Total_Revolving_Bal</th>\n",
       "      <th>Avg_Open_To_Buy</th>\n",
       "      <th>Total_Trans_Amt</th>\n",
       "      <th>Avg_Utilization_Ratio</th>\n",
       "      <th>Attrition_Flag</th>\n",
       "    </tr>\n",
       "  </thead>\n",
       "  <tbody>\n",
       "    <tr>\n",
       "      <th>0</th>\n",
       "      <td>12691.0</td>\n",
       "      <td>777</td>\n",
       "      <td>11914.0</td>\n",
       "      <td>1144</td>\n",
       "      <td>0.061</td>\n",
       "      <td>Existing Customer</td>\n",
       "    </tr>\n",
       "    <tr>\n",
       "      <th>1</th>\n",
       "      <td>8256.0</td>\n",
       "      <td>864</td>\n",
       "      <td>7392.0</td>\n",
       "      <td>1291</td>\n",
       "      <td>0.105</td>\n",
       "      <td>Existing Customer</td>\n",
       "    </tr>\n",
       "  </tbody>\n",
       "</table>\n",
       "</div>"
      ],
      "text/plain": [
       "   Credit_Limit  Total_Revolving_Bal  Avg_Open_To_Buy  Total_Trans_Amt  \\\n",
       "0       12691.0                  777          11914.0             1144   \n",
       "1        8256.0                  864           7392.0             1291   \n",
       "\n",
       "   Avg_Utilization_Ratio     Attrition_Flag  \n",
       "0                  0.061  Existing Customer  \n",
       "1                  0.105  Existing Customer  "
      ]
     },
     "execution_count": 78,
     "metadata": {},
     "output_type": "execute_result"
    }
   ],
   "source": [
    "# create original data with skewed variables\n",
    "original = df[use_cols]\n",
    "original.head(2)"
   ]
  },
  {
   "cell_type": "code",
   "execution_count": 79,
   "id": "0cbc8332",
   "metadata": {
    "hidden": true
   },
   "outputs": [],
   "source": [
    "# separate train and test set for original data\n",
    "X_train_original, X_test_original, y_train_original, y_test_original = train_test_split(\n",
    "    original.drop(['Attrition_Flag'], axis=1),\n",
    "    original['Attrition_Flag'],\n",
    "    test_size=0.2,\n",
    "    random_state=0)"
   ]
  },
  {
   "cell_type": "code",
   "execution_count": 84,
   "id": "e842597a",
   "metadata": {
    "hidden": true
   },
   "outputs": [],
   "source": [
    "# separate train and test set for transformed data\n",
    "X_train_transform, X_test_transform, y_train_transform, y_test_transform = train_test_split(\n",
    "    transformed.drop(['Attrition_Flag'], axis=1),\n",
    "    transformed['Attrition_Flag'],\n",
    "    test_size=0.2,\n",
    "    random_state=0)"
   ]
  },
  {
   "cell_type": "code",
   "execution_count": 85,
   "id": "ad2ab1c4",
   "metadata": {
    "hidden": true
   },
   "outputs": [
    {
     "name": "stdout",
     "output_type": "stream",
     "text": [
      "Train set\n",
      "Random Forests roc-auc: 0.8980773365172281\n",
      "Test set\n",
      "Random Forests roc-auc: 0.8772959534674198\n"
     ]
    },
    {
     "data": {
      "text/plain": [
       "(0.8980773365172281, 0.8772959534674198)"
      ]
     },
     "execution_count": 85,
     "metadata": {},
     "output_type": "execute_result"
    }
   ],
   "source": [
    "run_RFs(X_train_original, X_test_original, y_train_original, y_test_original)"
   ]
  },
  {
   "cell_type": "code",
   "execution_count": 86,
   "id": "4a818c1c",
   "metadata": {
    "hidden": true
   },
   "outputs": [
    {
     "name": "stdout",
     "output_type": "stream",
     "text": [
      "Train set\n",
      "Random Forests roc-auc: 0.8980975826158273\n",
      "Test set\n",
      "Random Forests roc-auc: 0.8772959534674198\n"
     ]
    },
    {
     "data": {
      "text/plain": [
       "(0.8980975826158273, 0.8772959534674198)"
      ]
     },
     "execution_count": 86,
     "metadata": {},
     "output_type": "execute_result"
    }
   ],
   "source": [
    "run_RFs(X_train_transform, X_test_transform, y_train_transform, y_test_transform)"
   ]
  },
  {
   "cell_type": "markdown",
   "id": "1b8fc97e",
   "metadata": {
    "hidden": true
   },
   "source": [
    "It shows any improved performance after transforming variables with yeo-johnson"
   ]
  },
  {
   "cell_type": "markdown",
   "id": "bab02e37",
   "metadata": {
    "hidden": true
   },
   "source": [
    "#### log transformation"
   ]
  },
  {
   "cell_type": "code",
   "execution_count": 87,
   "id": "590b6530",
   "metadata": {
    "hidden": true
   },
   "outputs": [
    {
     "data": {
      "image/png": "[encoded data removed]",
      "text/plain": [
       "<Figure size 720x720 with 6 Axes>"
      ]
     },
     "metadata": {
      "needs_background": "light"
     },
     "output_type": "display_data"
    }
   ],
   "source": [
    "# temporary copy of the data\n",
    "transformed = df[use_cols]\n",
    "\n",
    "for var in skewed:\n",
    "    \n",
    "    # transform the variable - log\n",
    "    transformed[var] = np.log1p(transformed[var])\n",
    "    \n",
    "# plot the histogram of the transformed variables\n",
    "transformed[skewed].hist(bins=50, figsize=(10,10))\n",
    "plt.show()"
   ]
  },
  {
   "cell_type": "code",
   "execution_count": 88,
   "id": "6ae12081",
   "metadata": {
    "hidden": true
   },
   "outputs": [],
   "source": [
    "# separate train and test set for transformed data\n",
    "X_train_transform, X_test_transform, y_train_transform, y_test_transform = train_test_split(\n",
    "    transformed.drop(['Attrition_Flag'], axis=1),\n",
    "    transformed['Attrition_Flag'],\n",
    "    test_size=0.2,\n",
    "    random_state=0)"
   ]
  },
  {
   "cell_type": "code",
   "execution_count": 89,
   "id": "af77ecf2",
   "metadata": {
    "hidden": true
   },
   "outputs": [
    {
     "name": "stdout",
     "output_type": "stream",
     "text": [
      "Train set\n",
      "Random Forests roc-auc: 0.8980773365172281\n",
      "Test set\n",
      "Random Forests roc-auc: 0.8772959534674198\n"
     ]
    },
    {
     "data": {
      "text/plain": [
       "(0.8980773365172281, 0.8772959534674198)"
      ]
     },
     "execution_count": 89,
     "metadata": {},
     "output_type": "execute_result"
    }
   ],
   "source": [
    "run_RFs(X_train_original, X_test_original, y_train_original, y_test_original)"
   ]
  },
  {
   "cell_type": "code",
   "execution_count": 90,
   "id": "9cd83dfb",
   "metadata": {
    "hidden": true
   },
   "outputs": [
    {
     "name": "stdout",
     "output_type": "stream",
     "text": [
      "Train set\n",
      "Random Forests roc-auc: 0.8981006027520824\n",
      "Test set\n",
      "Random Forests roc-auc: 0.8772959534674198\n"
     ]
    },
    {
     "data": {
      "text/plain": [
       "(0.8981006027520824, 0.8772959534674198)"
      ]
     },
     "execution_count": 90,
     "metadata": {},
     "output_type": "execute_result"
    }
   ],
   "source": [
    "run_RFs(X_train_transform, X_test_transform, y_train_transform, y_test_transform)"
   ]
  },
  {
   "cell_type": "markdown",
   "id": "7bc753eb",
   "metadata": {
    "hidden": true
   },
   "source": [
    "#### Conclusions\n",
    "\n",
    "Given the comparison between original dataset and transformed dataset, variable transformations did not improve model performances. Therefore, I would not use transformation methods unless I use linear models. "
   ]
  },
  {
   "cell_type": "markdown",
   "id": "6c2afa12",
   "metadata": {},
   "source": [
    "### Feature Scaling"
   ]
  },
  {
   "cell_type": "markdown",
   "id": "e985244d",
   "metadata": {},
   "source": [
    "Feature scaling is important because similar scales help machine learning models decrease the time to learn data. Also, some machine learning models (e.g. linear models, SVM) are sensitive to the scale of the variable.\n",
    "\n",
    "I will perform several feature scaling techniques, and explore which feature scaling method is the best for this dataset.\n",
    "\n"
   ]
  },
  {
   "cell_type": "code",
   "execution_count": 93,
   "id": "30de6334",
   "metadata": {},
   "outputs": [
    {
     "data": {
      "text/plain": [
       "['Customer_Age',\n",
       " 'Dependent_count',\n",
       " 'Months_on_book',\n",
       " 'Total_Relationship_Count',\n",
       " 'Months_Inactive_12_mon',\n",
       " 'Contacts_Count_12_mon',\n",
       " 'Credit_Limit',\n",
       " 'Total_Revolving_Bal',\n",
       " 'Avg_Open_To_Buy',\n",
       " 'Total_Amt_Chng_Q4_Q1',\n",
       " 'Total_Trans_Amt',\n",
       " 'Total_Trans_Ct',\n",
       " 'Total_Ct_Chng_Q4_Q1',\n",
       " 'Avg_Utilization_Ratio']"
      ]
     },
     "execution_count": 93,
     "metadata": {},
     "output_type": "execute_result"
    }
   ],
   "source": [
    "num_vars "
   ]
  },
  {
   "cell_type": "code",
   "execution_count": 94,
   "id": "063674e8",
   "metadata": {},
   "outputs": [
    {
     "data": {
      "text/html": [
       "<div>\n",
       "<style scoped>\n",
       "    .dataframe tbody tr th:only-of-type {\n",
       "        vertical-align: middle;\n",
       "    }\n",
       "\n",
       "    .dataframe tbody tr th {\n",
       "        vertical-align: top;\n",
       "    }\n",
       "\n",
       "    .dataframe thead th {\n",
       "        text-align: right;\n",
       "    }\n",
       "</style>\n",
       "<table border=\"1\" class=\"dataframe\">\n",
       "  <thead>\n",
       "    <tr style=\"text-align: right;\">\n",
       "      <th></th>\n",
       "      <th>Customer_Age</th>\n",
       "      <th>Dependent_count</th>\n",
       "      <th>Months_on_book</th>\n",
       "      <th>Total_Relationship_Count</th>\n",
       "      <th>Months_Inactive_12_mon</th>\n",
       "      <th>Contacts_Count_12_mon</th>\n",
       "      <th>Credit_Limit</th>\n",
       "      <th>Total_Revolving_Bal</th>\n",
       "      <th>Avg_Open_To_Buy</th>\n",
       "      <th>Total_Amt_Chng_Q4_Q1</th>\n",
       "      <th>Total_Trans_Amt</th>\n",
       "      <th>Total_Trans_Ct</th>\n",
       "      <th>Total_Ct_Chng_Q4_Q1</th>\n",
       "      <th>Avg_Utilization_Ratio</th>\n",
       "      <th>Attrition_Flag</th>\n",
       "    </tr>\n",
       "  </thead>\n",
       "  <tbody>\n",
       "    <tr>\n",
       "      <th>0</th>\n",
       "      <td>45</td>\n",
       "      <td>3</td>\n",
       "      <td>39</td>\n",
       "      <td>5</td>\n",
       "      <td>1</td>\n",
       "      <td>3</td>\n",
       "      <td>12691.0</td>\n",
       "      <td>777</td>\n",
       "      <td>11914.0</td>\n",
       "      <td>1.335</td>\n",
       "      <td>1144</td>\n",
       "      <td>42</td>\n",
       "      <td>1.625</td>\n",
       "      <td>0.061</td>\n",
       "      <td>Existing Customer</td>\n",
       "    </tr>\n",
       "    <tr>\n",
       "      <th>1</th>\n",
       "      <td>49</td>\n",
       "      <td>5</td>\n",
       "      <td>44</td>\n",
       "      <td>6</td>\n",
       "      <td>1</td>\n",
       "      <td>2</td>\n",
       "      <td>8256.0</td>\n",
       "      <td>864</td>\n",
       "      <td>7392.0</td>\n",
       "      <td>1.541</td>\n",
       "      <td>1291</td>\n",
       "      <td>33</td>\n",
       "      <td>3.714</td>\n",
       "      <td>0.105</td>\n",
       "      <td>Existing Customer</td>\n",
       "    </tr>\n",
       "  </tbody>\n",
       "</table>\n",
       "</div>"
      ],
      "text/plain": [
       "   Customer_Age  Dependent_count  Months_on_book  Total_Relationship_Count  \\\n",
       "0            45                3              39                         5   \n",
       "1            49                5              44                         6   \n",
       "\n",
       "   Months_Inactive_12_mon  Contacts_Count_12_mon  Credit_Limit  \\\n",
       "0                       1                      3       12691.0   \n",
       "1                       1                      2        8256.0   \n",
       "\n",
       "   Total_Revolving_Bal  Avg_Open_To_Buy  Total_Amt_Chng_Q4_Q1  \\\n",
       "0                  777          11914.0                 1.335   \n",
       "1                  864           7392.0                 1.541   \n",
       "\n",
       "   Total_Trans_Amt  Total_Trans_Ct  Total_Ct_Chng_Q4_Q1  \\\n",
       "0             1144              42                1.625   \n",
       "1             1291              33                3.714   \n",
       "\n",
       "   Avg_Utilization_Ratio     Attrition_Flag  \n",
       "0                  0.061  Existing Customer  \n",
       "1                  0.105  Existing Customer  "
      ]
     },
     "execution_count": 94,
     "metadata": {},
     "output_type": "execute_result"
    }
   ],
   "source": [
    "# numeric features and target list\n",
    "use_cols = num_vars + ['Attrition_Flag']\n",
    "\n",
    "# copy data\n",
    "tmp = df[use_cols]\n",
    "tmp.head(2)"
   ]
  },
  {
   "cell_type": "code",
   "execution_count": 95,
   "id": "4c8e9ea7",
   "metadata": {},
   "outputs": [
    {
     "data": {
      "text/plain": [
       "((8101, 14), (2026, 14))"
      ]
     },
     "execution_count": 95,
     "metadata": {},
     "output_type": "execute_result"
    }
   ],
   "source": [
    "X_train, X_test, y_train, y_test = train_test_split(\n",
    "    tmp.drop(['Attrition_Flag'], axis=1), #predictors\n",
    "    tmp['Attrition_Flag'], # target\n",
    "    test_size=0.2, # the percentage of test size\n",
    "    random_state=0, # for reproducibility\n",
    ")\n",
    "\n",
    "X_train.shape, X_test.shape    "
   ]
  },
  {
   "cell_type": "markdown",
   "id": "53e0cca8",
   "metadata": {
    "heading_collapsed": true
   },
   "source": [
    "#### Standardization\n",
    "\n",
    "Standardization involves centering the variable at zero, and standardizing the variance to 1. The procedure involves subtracting the mean of each observation and then dividing by the standard deviation.\n",
    "\n",
    "The shape of a standardized distribution will be identical to the original distribution of the variable. If the original distribution is normal, then the standardized distribution will be normal. But, if the original distribution is skewed, then the standarized distribution of the varialbe will also be skewed. Thus, standardizing a variable does not normalize the distribution of the data."
   ]
  },
  {
   "cell_type": "code",
   "execution_count": 96,
   "id": "9c092ed4",
   "metadata": {
    "hidden": true
   },
   "outputs": [],
   "source": [
    "# copy dataset\n",
    "X_train_stand = X_train.copy()\n",
    "X_test_stand = X_test.copy()\n",
    "\n",
    "# set up the scaler\n",
    "standard_scaler = StandardScaler()\n",
    "\n",
    "# fit the scaler to the train set, it will learn the parameters\n",
    "standard_scaler.fit(X_train_stand)\n",
    "\n",
    "# transform train and test set\n",
    "X_train_stand = standard_scaler.transform(X_train_stand)\n",
    "X_test_stand = standard_scaler.transform(X_test_stand)"
   ]
  },
  {
   "cell_type": "code",
   "execution_count": 97,
   "id": "8407aab2",
   "metadata": {
    "hidden": true
   },
   "outputs": [],
   "source": [
    "# transform the returned Numpy arrays to dataframes \n",
    "X_train_stand = pd.DataFrame(X_train_stand, columns=X_train.columns)\n",
    "X_test_stand = pd.DataFrame(X_test_stand, columns=X_test.columns)"
   ]
  },
  {
   "cell_type": "markdown",
   "id": "8707b7c3",
   "metadata": {
    "heading_collapsed": true
   },
   "source": [
    "#### Mean normalization\n",
    "\n",
    "Mean normalization involves centering the variable at zero, and re-scaling to the value range. The procedure involves subtracting the mean of each observation and then dividing by difference between the minimum and maximum value.\n",
    "\n",
    "Like standardization, this technique will not normalize the distribution of the data."
   ]
  },
  {
   "cell_type": "code",
   "execution_count": 98,
   "id": "a2f0f888",
   "metadata": {
    "hidden": true
   },
   "outputs": [],
   "source": [
    "# copy dataset\n",
    "X_train_mean = X_train.copy()\n",
    "X_test_mean = X_test.copy()\n",
    "\n",
    "# set up the StandardScaler so that it removes the mean\n",
    "# but does not divide by the standard deviation\n",
    "scaler_mean = StandardScaler(with_mean=True, with_std=False)\n",
    "\n",
    "# set up the robustscaler so that it does NOT remove the median\n",
    "# but normalizes by max()-min(), importnat for this to set up\n",
    "# the quantile range to 0 and 100, which represent the min and max values\n",
    "scaler_minmax = RobustScaler(with_centering=False,\n",
    "                            with_scaling=True,\n",
    "                            quantile_range=(0,100))\n",
    "\n",
    "# fit the scalers to the train set, it will learn the parameters\n",
    "scaler_mean.fit(X_train_mean)\n",
    "scaler_minmax.fit(X_train_mean)\n",
    "\n",
    "# transform train and test sets\n",
    "X_train_mean = scaler_minmax.transform(scaler_mean.transform(X_train_mean))\n",
    "X_test_mean = scaler_minmax.transform(scaler_mean.transform(X_test_mean))"
   ]
  },
  {
   "cell_type": "code",
   "execution_count": 99,
   "id": "5cec8a21",
   "metadata": {
    "hidden": true
   },
   "outputs": [],
   "source": [
    "# create dataframe\n",
    "X_train_mean = pd.DataFrame(X_train_mean, columns=X_train.columns)\n",
    "X_test_mean = pd.DataFrame(X_test_mean, columns=X_test.columns)"
   ]
  },
  {
   "cell_type": "markdown",
   "id": "e78ddbab",
   "metadata": {
    "heading_collapsed": true
   },
   "source": [
    "#### MinMaxScaling\n",
    "\n",
    "Minimum and maximum scaling squeezes the vales between 0 and 1. The result of the transformation is a distribution which values vary within the range of 0 to 1. But the mean is not centered at zero and the standard deviation varies across variables. The shpae of a min-max scaled distribution will be similar to the original variable. This scaling technique is also sensitive to outliers."
   ]
  },
  {
   "cell_type": "code",
   "execution_count": 100,
   "id": "d90b1de5",
   "metadata": {
    "hidden": true
   },
   "outputs": [],
   "source": [
    "# copy dataset\n",
    "X_train_minmax = X_train.copy()\n",
    "X_test_minmax = X_test.copy()\n",
    "\n",
    "# set up scaler\n",
    "scaler_minmax = MinMaxScaler()\n",
    "\n",
    "\n",
    "# fit the scalers to the train set, it will learn the parameters\n",
    "scaler_minmax.fit(X_train_minmax)\n",
    "\n",
    "\n",
    "# transform train and test sets\n",
    "X_train_minmax = scaler_minmax.transform(scaler_minmax.transform(X_train_minmax))\n",
    "X_test_minmax = scaler_minmax.transform(scaler_minmax.transform(X_test_minmax))"
   ]
  },
  {
   "cell_type": "code",
   "execution_count": 101,
   "id": "388b69bc",
   "metadata": {
    "hidden": true
   },
   "outputs": [],
   "source": [
    "# create dataframe\n",
    "\n",
    "X_train_minmax = pd.DataFrame(X_train_minmax, columns=X_train.columns)\n",
    "X_test_minmax = pd.DataFrame(X_test_minmax, columns=X_test.columns)"
   ]
  },
  {
   "cell_type": "markdown",
   "id": "42df9203",
   "metadata": {
    "heading_collapsed": true
   },
   "source": [
    "#### MaxAbsScaling\n",
    "\n",
    "Maximum Absolute Scaling transforms the data to its absolute maximum value. The result is distributed which values vary within the range of -1 to 1. But the mean is not centered as zero and the standard deviation varies across variables.\n",
    "\n",
    "This may not preserve the shape of the original distribution and it is sensitive outliers."
   ]
  },
  {
   "cell_type": "code",
   "execution_count": 102,
   "id": "788d0b66",
   "metadata": {
    "hidden": true
   },
   "outputs": [],
   "source": [
    "# copy dataset\n",
    "X_train_maxabs = X_train.copy()\n",
    "X_test_maxabs = X_test.copy()\n",
    "\n",
    "# set up the scale\n",
    "scaler_maxabs = MaxAbsScaler()\n",
    "\n",
    "# fit the train set\n",
    "scaler_maxabs.fit(X_train_maxabs)\n",
    "\n",
    "# transform\n",
    "X_train_maxabs = scaler_maxabs.transform(X_train)\n",
    "X_test_maxabs = scaler_maxabs.transform(X_test)"
   ]
  },
  {
   "cell_type": "code",
   "execution_count": 103,
   "id": "30d683ce",
   "metadata": {
    "hidden": true
   },
   "outputs": [],
   "source": [
    "# create dataframe\n",
    "X_train_maxabs = pd.DataFrame(X_train_maxabs, columns=X_train.columns)\n",
    "X_test_maxabs = pd.DataFrame(X_test_maxabs, columns=X_test.columns)"
   ]
  },
  {
   "cell_type": "markdown",
   "id": "2e4464fe",
   "metadata": {
    "heading_collapsed": true
   },
   "source": [
    "#### RobustScaling\n",
    "\n",
    "RobustScaling removes the median from the observations and then scaled to the inter-quantile range (IQR). This produces more robust estimates for the center and range of the variable, and is recommended if the data shows outliers (and our dataset has outliers).\n",
    "\n",
    "It may not preserve the shape of the original distribution, and the minimum and maximum values vary, but is robust outliers."
   ]
  },
  {
   "cell_type": "code",
   "execution_count": 104,
   "id": "869573c1",
   "metadata": {
    "hidden": true
   },
   "outputs": [],
   "source": [
    "# copy dataset\n",
    "X_train_robust = X_train.copy()\n",
    "X_test_robust = X_test.copy()\n",
    "\n",
    "# set up the scaler\n",
    "scaler_robust = RobustScaler()\n",
    "\n",
    "# fit training set\n",
    "scaler_robust.fit(X_train_robust)\n",
    "\n",
    "# transform\n",
    "X_train_robust = scaler_robust.transform(X_train_robust)\n",
    "X_test_robust = scaler_robust.transform(X_test_robust)\n",
    "\n",
    "# save as dataframe\n",
    "X_train_robust = pd.DataFrame(X_train_robust, columns=X_train.columns)\n",
    "X_test_robust = pd.DataFrame(X_test_robust, columns=X_test.columns)"
   ]
  },
  {
   "cell_type": "markdown",
   "id": "3319fe03",
   "metadata": {},
   "source": [
    "#### Evaluate model performances based on different feature scaling methods"
   ]
  },
  {
   "cell_type": "code",
   "execution_count": 116,
   "id": "75a5c115",
   "metadata": {
    "scrolled": true
   },
   "outputs": [
    {
     "name": "stdout",
     "output_type": "stream",
     "text": [
      "Train set\n",
      "Random Forests roc-auc: 0.9406386626210265\n",
      "Test set\n",
      "Random Forests roc-auc: 0.9238426698180955\n",
      "Train set\n",
      "Random Forests roc-auc: 0.9406363136261613\n",
      "Test set\n",
      "Random Forests roc-auc: 0.9238332456889321\n",
      "Train set\n",
      "Random Forests roc-auc: 0.940634859486483\n",
      "Test set\n",
      "Random Forests roc-auc: 0.9238426698180954\n",
      "Train set\n",
      "Random Forests roc-auc: 0.9355919590102634\n",
      "Test set\n",
      "Random Forests roc-auc: 0.9158293327905035\n",
      "Train set\n",
      "Random Forests roc-auc: 0.9406368729106531\n",
      "Test set\n",
      "Random Forests roc-auc: 0.9238389001664301\n",
      "Train set\n",
      "Random Forests roc-auc: 0.9406360899123646\n",
      "Test set\n",
      "Random Forests roc-auc: 0.9238445546439281\n"
     ]
    }
   ],
   "source": [
    "feature_scaling = {\"Original\": run_RFs(X_train, X_test, y_train, y_test),\n",
    "                   \"Standardization\": run_RFs(X_train_stand, X_test_stand, y_train, y_test),\n",
    "                   \"MeanNormalization\": run_RFs(X_train_mean, X_test_mean, y_train, y_test),\n",
    "                   \"MinMaxScaling\": run_RFs(X_train_minmax, X_test_minmax, y_train, y_test),\n",
    "                   \"MaxAbsScaling\": run_RFs(X_train_maxabs, X_test_maxabs, y_train, y_test),\n",
    "                   \"RobustScaling\": run_RFs(X_train_robust, X_test_robust, y_train, y_test)\n",
    "                  }"
   ]
  },
  {
   "cell_type": "code",
   "execution_count": 117,
   "id": "65252e53",
   "metadata": {},
   "outputs": [],
   "source": [
    "feature_scaling = pd.DataFrame(feature_scaling, index=['Train', 'Test']).T"
   ]
  },
  {
   "cell_type": "code",
   "execution_count": 130,
   "id": "571deeb2",
   "metadata": {},
   "outputs": [
    {
     "data": {
      "image/png": "[encoded data removed]",
      "text/plain": [
       "<Figure size 504x720 with 1 Axes>"
      ]
     },
     "metadata": {},
     "output_type": "display_data"
    }
   ],
   "source": [
    "import matplotlib\n",
    "\n",
    "fig = plt.figure(figsize=(7, 10))\n",
    "gs = fig.add_gridspec(4, 2)\n",
    "gs.update(wspace=0.1, hspace=0.5)\n",
    "ax0 = fig.add_subplot(gs[0, :])\n",
    "\n",
    "colors = ['#DADADA', '#DADADA']\n",
    "colormap = matplotlib.colors.LinearSegmentedColormap.from_list(\"\", colors)\n",
    "\n",
    "# change background color\n",
    "background_color='#fbfbfb'\n",
    "fig.patch.set_facecolor(background_color) # figure background color\n",
    "ax0.set_facecolor(background_color)\n",
    "\n",
    "\n",
    "# overall\n",
    "\n",
    "sns.heatmap(feature_scaling, cmap=colormap, annot=True, fmt=\".1%\", linewidths=2.5, cbar=False, ax=ax0)\n",
    "\n",
    "ax0.tick_params(axis=u'both', which=u'both', length=0)\n",
    "ax0.text(0, -1.9, 'Comparison between Feature Scaling methods', fontfamily='serif', fontsize=15, fontweight='bold')\n",
    "ax0.text(0, -0.7, 'Except for MinMaxScaling, all methods show similar performances \\nso that I will use Standardization for feature scaling.',\n",
    "        fontfamily='serif', fontsize=10)\n",
    "\n",
    "\n",
    "from matplotlib.patches import Rectangle\n",
    "rect = ax0.add_patch(Rectangle((0, 1), 5, 1, fill=True,color='#51C4D3', edgecolor='white', lw=0,alpha=0.5))\n",
    "\n",
    "plt.show()"
   ]
  },
  {
   "cell_type": "markdown",
   "id": "4facb5ec",
   "metadata": {},
   "source": [
    "#### Conclusion\n",
    "\n",
    "I tried to compare several feature scaling methods and 5 methods show similar performances except for MinMaxScaling. \n",
    "\n",
    "Therefore, I will use Standardization for feature scaling. "
   ]
  },
  {
   "cell_type": "markdown",
   "id": "63fd35d8",
   "metadata": {},
   "source": [
    "## Conclusions\n",
    "\n",
    "In this notebook, we've tried to find the best methods for feature engineering and feature scaling. Since numerical variable transformations did not improve the model performances at all, I won't use it when building models later. \n",
    "\n",
    "Based on the results above, I will perform:\n",
    "\n",
    "- Integer Encoding for categorical variables\n",
    "- StandardScaler for feature scaling\n",
    "\n",
    "In the next notebook, I will try some over-sampling methods to improve model performances because we have imbalanced dataset. "
   ]
  }
 ],
 "metadata": {
  "kernelspec": {
   "display_name": "Python 3",
   "language": "python",
   "name": "python3"
  },
  "language_info": {
   "codemirror_mode": {
    "name": "ipython",
    "version": 3
   },
   "file_extension": ".py",
   "mimetype": "text/x-python",
   "name": "python",
   "nbconvert_exporter": "python",
   "pygments_lexer": "ipython3",
   "version": "3.8.8"
  },
  "toc": {
   "base_numbering": 1,
   "nav_menu": {},
   "number_sections": true,
   "sideBar": true,
   "skip_h1_title": true,
   "title_cell": "Table of Contents",
   "title_sidebar": "Contents",
   "toc_cell": false,
   "toc_position": {},
   "toc_section_display": true,
   "toc_window_display": false
  },
  "varInspector": {
   "cols": {
    "lenName": 16,
    "lenType": 16,
    "lenVar": 40
   },
   "kernels_config": {
    "python": {
     "delete_cmd_postfix": "",
     "delete_cmd_prefix": "del ",
     "library": "var_list.py",
     "varRefreshCmd": "print(var_dic_list())"
    },
    "r": {
     "delete_cmd_postfix": ") ",
     "delete_cmd_prefix": "rm(",
     "library": "var_list.r",
     "varRefreshCmd": "cat(var_dic_list()) "
    }
   },
   "types_to_exclude": [
    "module",
    "function",
    "builtin_function_or_method",
    "instance",
    "_Feature"
   ],
   "window_display": false
  }
 },
 "nbformat": 4,
 "nbformat_minor": 5
}
