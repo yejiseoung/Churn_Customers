{
 "cells": [
  {
   "cell_type": "markdown",
   "id": "acfe6398",
   "metadata": {},
   "source": [
    "# Credit Card Customers_Building Model Pipeline"
   ]
  },
  {
   "cell_type": "markdown",
   "id": "bfcc54bd",
   "metadata": {},
   "source": [
    "In the following notebooks, we will go through the implementation of each of the steps in the Machine Learning Pipeline. \n",
    "\n",
    "The steps will: \n",
    "\n",
    "   - 1. Cleaning, EDA, and Visualization\n",
    "   - 2. Feature Engineering and Feature Scaling\n",
    "   - 3. Oversampling \n",
    "   - 4. Hyperparamer Tuning for Gradient Boosting Model\n",
    "   - __5. Building Model Pipeline__\n",
    "   \n",
    "=========================================================================================="
   ]
  },
  {
   "cell_type": "markdown",
   "id": "bd8ff53a",
   "metadata": {},
   "source": [
    "### Overview\n",
    "\n",
    "In the previous notebooks, we explored data analysis, engineered features, scaled features, and used oversampled. \n",
    "\n",
    "In this notebook, I will compare the model performances of 6 different algorithms, and I will choose one of the best model. Also, I will build a machine learning pipeline for the best performance model. "
   ]
  },
  {
   "cell_type": "markdown",
   "id": "26d0dff2",
   "metadata": {},
   "source": [
    "### Import Packages"
   ]
  },
  {
   "cell_type": "code",
   "execution_count": 1,
   "id": "501b06a9",
   "metadata": {},
   "outputs": [
    {
     "data": {
      "text/plain": [
       "'/Users/yejiseoung/Dropbox/My Mac (Yejis-MacBook-Pro.local)/Documents/Projects/CreditCard'"
      ]
     },
     "execution_count": 1,
     "metadata": {},
     "output_type": "execute_result"
    }
   ],
   "source": [
    "import numpy as np\n",
    "import pandas as pd\n",
    "import seaborn as sns\n",
    "import matplotlib.pyplot as plt\n",
    "\n",
    "import warnings\n",
    "warnings.filterwarnings('ignore')\n",
    "\n",
    "from collections import Counter\n",
    "\n",
    "pd.set_option('display.max_columns', 100)\n",
    "pd.set_option('display.max_rows', 100)\n",
    "\n",
    "from pathlib import Path\n",
    "import os\n",
    "os.getcwd()"
   ]
  },
  {
   "cell_type": "code",
   "execution_count": 2,
   "id": "a8cac385",
   "metadata": {},
   "outputs": [],
   "source": [
    "# set up path for data\n",
    "path = Path('/Users/yejiseoung/Dropbox/My Mac (Yejis-MacBook-Pro.local)/Documents/Projects/CreditCard/Data/')"
   ]
  },
  {
   "cell_type": "code",
   "execution_count": 3,
   "id": "bb6bb3f2",
   "metadata": {},
   "outputs": [],
   "source": [
    "# Data pre-processing \n",
    "from sklearn.preprocessing import StandardScaler\n",
    "from sklearn.model_selection import train_test_split, cross_validate\n",
    "\n",
    "# Modelling \n",
    "from sklearn.metrics import (\n",
    "    roc_auc_score,\n",
    "    precision_score, \n",
    "    accuracy_score, \n",
    "    recall_score,\n",
    ")\n",
    "\n",
    "from yellowbrick.classifier import ROCAUC, PrecisionRecallCurve\n",
    "\n",
    "from sklearn.linear_model import LogisticRegression\n",
    "from sklearn import svm\n",
    "from sklearn.svm import SVC\n",
    "from sklearn.neighbors import KNeighborsClassifier\n",
    "from sklearn.tree import DecisionTreeClassifier\n",
    "from sklearn.ensemble import (\n",
    "    RandomForestClassifier, \n",
    "    AdaBoostClassifier, \n",
    "    GradientBoostingClassifier)\n",
    "\n",
    "import xgboost as xgb\n",
    "\n",
    "# for feature engineering\n",
    "from feature_engine import encoding as ce\n",
    "\n",
    "# Evaluation & CV\n",
    "from sklearn.model_selection import RandomizedSearchCV\n",
    "from sklearn.model_selection import (\n",
    "    KFold,\n",
    "    cross_val_score,\n",
    "    RepeatedStratifiedKFold)\n",
    "\n",
    "\n",
    "# pipeline\n",
    "from sklearn.pipeline import Pipeline\n",
    "\n",
    "# for oversampling\n",
    "from imblearn.over_sampling import ADASYN, SMOTE\n",
    "\n",
    "# since sklearn pipeline doesn't work well with oversampling \n",
    "# we need to use imblearn package's pipeline\n",
    "from imblearn.pipeline import make_pipeline\n",
    "from imblearn.pipeline import Pipeline as imbPipeline\n",
    "\n",
    "# for hyperparameter tuning\n",
    "import optuna"
   ]
  },
  {
   "cell_type": "markdown",
   "id": "c9197301",
   "metadata": {},
   "source": [
    "### Load Data"
   ]
  },
  {
   "cell_type": "code",
   "execution_count": 4,
   "id": "1cd95903",
   "metadata": {},
   "outputs": [],
   "source": [
    "df = pd.read_csv(path/'BankChurners.csv')"
   ]
  },
  {
   "cell_type": "code",
   "execution_count": 5,
   "id": "046dc7ea",
   "metadata": {},
   "outputs": [
    {
     "data": {
      "text/plain": [
       "(10127, 20)"
      ]
     },
     "execution_count": 5,
     "metadata": {},
     "output_type": "execute_result"
    }
   ],
   "source": [
    "# drop unuseful columns \n",
    "df.drop(['CLIENTNUM',\n",
    "        'Naive_Bayes_Classifier_Attrition_Flag_Card_Category_Contacts_Count_12_mon_Dependent_count_Education_Level_Months_Inactive_12_mon_1',\n",
    "     'Naive_Bayes_Classifier_Attrition_Flag_Card_Category_Contacts_Count_12_mon_Dependent_count_Education_Level_Months_Inactive_12_mon_2'],\n",
    "        axis=1, inplace=True)\n",
    "\n",
    "df.shape"
   ]
  },
  {
   "cell_type": "code",
   "execution_count": 6,
   "id": "b7fb498d",
   "metadata": {},
   "outputs": [
    {
     "data": {
      "text/html": [
       "<div>\n",
       "<style scoped>\n",
       "    .dataframe tbody tr th:only-of-type {\n",
       "        vertical-align: middle;\n",
       "    }\n",
       "\n",
       "    .dataframe tbody tr th {\n",
       "        vertical-align: top;\n",
       "    }\n",
       "\n",
       "    .dataframe thead th {\n",
       "        text-align: right;\n",
       "    }\n",
       "</style>\n",
       "<table border=\"1\" class=\"dataframe\">\n",
       "  <thead>\n",
       "    <tr style=\"text-align: right;\">\n",
       "      <th></th>\n",
       "      <th>Attrition_Flag</th>\n",
       "      <th>Customer_Age</th>\n",
       "      <th>Gender</th>\n",
       "      <th>Dependent_count</th>\n",
       "      <th>Education_Level</th>\n",
       "      <th>Marital_Status</th>\n",
       "      <th>Income_Category</th>\n",
       "      <th>Card_Category</th>\n",
       "      <th>Months_on_book</th>\n",
       "      <th>Total_Relationship_Count</th>\n",
       "      <th>Months_Inactive_12_mon</th>\n",
       "      <th>Contacts_Count_12_mon</th>\n",
       "      <th>Credit_Limit</th>\n",
       "      <th>Total_Revolving_Bal</th>\n",
       "      <th>Avg_Open_To_Buy</th>\n",
       "      <th>Total_Amt_Chng_Q4_Q1</th>\n",
       "      <th>Total_Trans_Amt</th>\n",
       "      <th>Total_Trans_Ct</th>\n",
       "      <th>Total_Ct_Chng_Q4_Q1</th>\n",
       "      <th>Avg_Utilization_Ratio</th>\n",
       "    </tr>\n",
       "  </thead>\n",
       "  <tbody>\n",
       "    <tr>\n",
       "      <th>0</th>\n",
       "      <td>Existing Customer</td>\n",
       "      <td>45</td>\n",
       "      <td>M</td>\n",
       "      <td>3</td>\n",
       "      <td>High School</td>\n",
       "      <td>Married</td>\n",
       "      <td>$60K - $80K</td>\n",
       "      <td>Blue</td>\n",
       "      <td>39</td>\n",
       "      <td>5</td>\n",
       "      <td>1</td>\n",
       "      <td>3</td>\n",
       "      <td>12691.0</td>\n",
       "      <td>777</td>\n",
       "      <td>11914.0</td>\n",
       "      <td>1.335</td>\n",
       "      <td>1144</td>\n",
       "      <td>42</td>\n",
       "      <td>1.625</td>\n",
       "      <td>0.061</td>\n",
       "    </tr>\n",
       "    <tr>\n",
       "      <th>1</th>\n",
       "      <td>Existing Customer</td>\n",
       "      <td>49</td>\n",
       "      <td>F</td>\n",
       "      <td>5</td>\n",
       "      <td>Graduate</td>\n",
       "      <td>Single</td>\n",
       "      <td>Less than $40K</td>\n",
       "      <td>Blue</td>\n",
       "      <td>44</td>\n",
       "      <td>6</td>\n",
       "      <td>1</td>\n",
       "      <td>2</td>\n",
       "      <td>8256.0</td>\n",
       "      <td>864</td>\n",
       "      <td>7392.0</td>\n",
       "      <td>1.541</td>\n",
       "      <td>1291</td>\n",
       "      <td>33</td>\n",
       "      <td>3.714</td>\n",
       "      <td>0.105</td>\n",
       "    </tr>\n",
       "  </tbody>\n",
       "</table>\n",
       "</div>"
      ],
      "text/plain": [
       "      Attrition_Flag  Customer_Age Gender  Dependent_count Education_Level  \\\n",
       "0  Existing Customer            45      M                3     High School   \n",
       "1  Existing Customer            49      F                5        Graduate   \n",
       "\n",
       "  Marital_Status Income_Category Card_Category  Months_on_book  \\\n",
       "0        Married     $60K - $80K          Blue              39   \n",
       "1         Single  Less than $40K          Blue              44   \n",
       "\n",
       "   Total_Relationship_Count  Months_Inactive_12_mon  Contacts_Count_12_mon  \\\n",
       "0                         5                       1                      3   \n",
       "1                         6                       1                      2   \n",
       "\n",
       "   Credit_Limit  Total_Revolving_Bal  Avg_Open_To_Buy  Total_Amt_Chng_Q4_Q1  \\\n",
       "0       12691.0                  777          11914.0                 1.335   \n",
       "1        8256.0                  864           7392.0                 1.541   \n",
       "\n",
       "   Total_Trans_Amt  Total_Trans_Ct  Total_Ct_Chng_Q4_Q1  Avg_Utilization_Ratio  \n",
       "0             1144              42                1.625                  0.061  \n",
       "1             1291              33                3.714                  0.105  "
      ]
     },
     "execution_count": 6,
     "metadata": {},
     "output_type": "execute_result"
    }
   ],
   "source": [
    "df.head(2)"
   ]
  },
  {
   "cell_type": "code",
   "execution_count": 7,
   "id": "be325f13",
   "metadata": {},
   "outputs": [
    {
     "name": "stdout",
     "output_type": "stream",
     "text": [
      "The number of categorical variables: 5\n",
      "The number of numerical vairables: 14\n"
     ]
    }
   ],
   "source": [
    "# create lists for categorical and numerical variables\n",
    "cat_vars = [var for var in df.columns if df[var].dtype=='O' and var != 'Attrition_Flag']\n",
    "num_vars = [var for var in df.columns if df[var].dtype!='O']\n",
    "\n",
    "print('The number of categorical variables: {}'.format(len(cat_vars)))\n",
    "print('The number of numerical vairables: {}'.format(len(num_vars)))"
   ]
  },
  {
   "cell_type": "markdown",
   "id": "391adf6d",
   "metadata": {
    "heading_collapsed": true
   },
   "source": [
    "## Separate Dataset into train and test\n",
    "\n",
    "It is important to separate the data into training and testing set, because when we engineer features, some techniques learn parameters from data. This is to avoid over-fitting."
   ]
  },
  {
   "cell_type": "code",
   "execution_count": 8,
   "id": "4feb290e",
   "metadata": {
    "hidden": true,
    "scrolled": true
   },
   "outputs": [
    {
     "data": {
      "text/plain": [
       "Existing Customer    8500\n",
       "Attrited Customer    1627\n",
       "Name: Attrition_Flag, dtype: int64"
      ]
     },
     "execution_count": 8,
     "metadata": {},
     "output_type": "execute_result"
    }
   ],
   "source": [
    "df['Attrition_Flag'].value_counts()"
   ]
  },
  {
   "cell_type": "code",
   "execution_count": 9,
   "id": "af063518",
   "metadata": {
    "hidden": true
   },
   "outputs": [],
   "source": [
    "churn_map = {'Existing Customer': 0,\n",
    "            'Attrited Customer': 1}\n",
    "df['Attrition_Flag'] = df['Attrition_Flag'].map(churn_map)"
   ]
  },
  {
   "cell_type": "code",
   "execution_count": 10,
   "id": "56645c5d",
   "metadata": {
    "hidden": true
   },
   "outputs": [
    {
     "data": {
      "text/plain": [
       "((8101, 19), (2026, 19))"
      ]
     },
     "execution_count": 10,
     "metadata": {},
     "output_type": "execute_result"
    }
   ],
   "source": [
    "X_train, X_test, y_train, y_test = train_test_split(\n",
    "    df.drop(['Attrition_Flag'], axis=1),\n",
    "    df['Attrition_Flag'],\n",
    "    test_size=0.2, \n",
    "    random_state=0)\n",
    "\n",
    "X_train.shape, X_test.shape"
   ]
  },
  {
   "cell_type": "markdown",
   "id": "5b5c1f4c",
   "metadata": {
    "heading_collapsed": true
   },
   "source": [
    "## ML Comparison \n",
    "\n",
    "Here, I will compare 6 different machine learning algorithms based on the performances, and I will choose best 3 models later. \n",
    "\n",
    "Let's write machine learning pipeline. "
   ]
  },
  {
   "cell_type": "code",
   "execution_count": 11,
   "id": "abbd54d6",
   "metadata": {
    "hidden": true
   },
   "outputs": [],
   "source": [
    "models = [\n",
    "    ('LR', LogisticRegression(max_iter=1000)),\n",
    "    ('SVC', SVC(kernel='rbf', C=0.025, probability=True)),\n",
    "    ('KNN', KNeighborsClassifier(n_neighbors=2)),\n",
    "    ('RF', RandomForestClassifier()),\n",
    "    ('ADA', AdaBoostClassifier()),\n",
    "    ('GBM', GradientBoostingClassifier())\n",
    "]"
   ]
  },
  {
   "cell_type": "code",
   "execution_count": 12,
   "id": "fc32f1e2",
   "metadata": {
    "hidden": true
   },
   "outputs": [],
   "source": [
    "# create a name list\n",
    "fnames = []\n",
    "\n",
    "for name, model in models:\n",
    "    \n",
    "    pipe = Pipeline([\n",
    "        # Integer Encoding for Categorical Variable\n",
    "        ('encoding', ce.OrdinalEncoder(\n",
    "            encoding_method='arbitrary', variables=cat_vars)),\n",
    "\n",
    "        # Feature Scaling\n",
    "        ('scaler', StandardScaler()),\n",
    "    \n",
    "\n",
    "        # models\n",
    "        ('classifier', model) \n",
    "    ])\n",
    "    \n",
    "    \n",
    "    pipe.fit(X_train, y_train)\n",
    "    \n",
    "    pipe_prediction = pipe.predict(X_test)\n",
    "    ml_data = pd.DataFrame(data=[accuracy_score(y_test, pipe_prediction),\n",
    "                           recall_score(y_test, pipe_prediction),\n",
    "                           precision_score(y_test, pipe_prediction),\n",
    "                           roc_auc_score(y_test, pipe_prediction)],\n",
    "                     columns=[name + 'Score'],\n",
    "                     index = ['Accuracy', 'Recall', 'Precision', 'roc-auc'])\n",
    "    ml_data.to_csv(path/'{}.csv'.format(name))\n",
    "    fnames.append(name)\n"
   ]
  },
  {
   "cell_type": "code",
   "execution_count": 13,
   "id": "40a91127",
   "metadata": {
    "hidden": true
   },
   "outputs": [],
   "source": [
    "#fnames = ['LR', 'SVC', 'KNN', 'RF', 'ADA', 'GBM']\n",
    "table = [pd.read_csv(path/'{}.csv'.format(fname)) for fname in fnames]\n",
    "\n",
    "df_LR, df_SVC, df_KNN, df_RF, df_ADA, df_GBM = table\n",
    "\n",
    "# create models_df that have matrix results\n",
    "models_df = pd.concat(table, axis=1)\n",
    "models_df.index = ['Accuracy', 'Recall', 'Precision', 'ROC AUC score']\n",
    "models_df.drop('Unnamed: 0', axis=1, inplace=True)"
   ]
  },
  {
   "cell_type": "code",
   "execution_count": 14,
   "id": "4b6b734c",
   "metadata": {
    "hidden": true
   },
   "outputs": [
    {
     "data": {
      "image/png": "[encoded data removed]",
      "text/plain": [
       "<Figure size 576x792 with 1 Axes>"
      ]
     },
     "metadata": {},
     "output_type": "display_data"
    }
   ],
   "source": [
    "import matplotlib\n",
    "\n",
    "fig = plt.figure(figsize=(8, 11))\n",
    "gs = fig.add_gridspec(4, 2)\n",
    "gs.update(wspace=0.1, hspace=0.5)\n",
    "ax0 = fig.add_subplot(gs[0, :])\n",
    "\n",
    "colors = ['#DADADA', '#DADADA']\n",
    "colormap = matplotlib.colors.LinearSegmentedColormap.from_list(\"\", colors)\n",
    "\n",
    "# change background color\n",
    "background_color='#fbfbfb'\n",
    "fig.patch.set_facecolor(background_color) # figure background color\n",
    "ax0.set_facecolor(background_color)\n",
    "\n",
    "\n",
    "# overall\n",
    "#df_models = round(pd.concat([svc_df, dtree_df, rfc_df, tu_rfc_df, log_df, knn_df], axis=1), 3)\n",
    "\n",
    "sns.heatmap(models_df, cmap=colormap, annot=True, linewidths=2.5, cbar=False, ax=ax0)\n",
    "\n",
    "ax0.tick_params(axis=u'both', which=u'both', length=0)\n",
    "ax0.text(0, -1.5, 'Comparison six different ML algorithms', fontfamily='serif', fontsize=15, fontweight='bold')\n",
    "ax0.text(0, -0.7, 'Tree-based models show better performances.\\n Overall, GBM model shows the best performance.',\n",
    "        fontfamily='serif', fontsize=10)\n",
    "\n",
    "\n",
    "from matplotlib.patches import Rectangle\n",
    "rect = ax0.add_patch(Rectangle((3, 1), 3, 3, fill=True,color='#51C4D3', edgecolor='white', lw=0,alpha=0.5))\n",
    "rect2 = ax0.add_patch(Rectangle((1, 2), 1, 1, fill=True,color='#51C4D3', edgecolor='white', lw=0,alpha=0.5))\n",
    "\n",
    "plt.show()"
   ]
  },
  {
   "cell_type": "markdown",
   "id": "a2584f54",
   "metadata": {
    "hidden": true
   },
   "source": [
    "As we can see above, tree-based models show better performances. Based on the Recall, Precision, and roc-auc score, I will use gbm model for final pipeline. "
   ]
  },
  {
   "cell_type": "markdown",
   "id": "7992bbaa",
   "metadata": {
    "heading_collapsed": true
   },
   "source": [
    "## Pipeline for GBM model"
   ]
  },
  {
   "cell_type": "markdown",
   "id": "c17379ee",
   "metadata": {
    "hidden": true
   },
   "source": [
    "We found gbm model shows the best performance. Also, I found the best hyperparameters by using Optuna in the [HyperparameterTuningForGBM]. (If you want to see more detail, please take a look at the notebook). \n"
   ]
  },
  {
   "cell_type": "code",
   "execution_count": 15,
   "id": "59e4a3a9",
   "metadata": {
    "hidden": true
   },
   "outputs": [],
   "source": [
    "# let's start to load data again\n",
    "df = pd.read_csv(path/'BankChurners.csv')"
   ]
  },
  {
   "cell_type": "code",
   "execution_count": 16,
   "id": "9fc092d3",
   "metadata": {
    "hidden": true
   },
   "outputs": [
    {
     "data": {
      "text/plain": [
       "(10127, 20)"
      ]
     },
     "execution_count": 16,
     "metadata": {},
     "output_type": "execute_result"
    }
   ],
   "source": [
    "# drop unuseful columns \n",
    "df.drop(['CLIENTNUM',\n",
    "        'Naive_Bayes_Classifier_Attrition_Flag_Card_Category_Contacts_Count_12_mon_Dependent_count_Education_Level_Months_Inactive_12_mon_1',\n",
    "     'Naive_Bayes_Classifier_Attrition_Flag_Card_Category_Contacts_Count_12_mon_Dependent_count_Education_Level_Months_Inactive_12_mon_2'],\n",
    "        axis=1, inplace=True)\n",
    "\n",
    "df.shape"
   ]
  },
  {
   "cell_type": "code",
   "execution_count": 17,
   "id": "749f0b30",
   "metadata": {
    "hidden": true
   },
   "outputs": [
    {
     "data": {
      "text/plain": [
       "((8101, 19), (2026, 19))"
      ]
     },
     "execution_count": 17,
     "metadata": {},
     "output_type": "execute_result"
    }
   ],
   "source": [
    "# change y value (0,1)\n",
    "churn_map = {'Existing Customer': 0,\n",
    "            'Attrited Customer': 1}\n",
    "df['Attrition_Flag'] = df['Attrition_Flag'].map(churn_map)\n",
    "\n",
    "# separate into train and test set\n",
    "X_train, X_test, y_train, y_test = train_test_split(\n",
    "    df.drop(['Attrition_Flag'], axis=1),\n",
    "    df['Attrition_Flag'],\n",
    "    test_size=0.2,\n",
    "    random_state=0\n",
    ")\n",
    "\n",
    "X_train.shape, X_test.shape"
   ]
  },
  {
   "cell_type": "code",
   "execution_count": 18,
   "id": "3fbe8c35",
   "metadata": {
    "hidden": true
   },
   "outputs": [],
   "source": [
    "# this is the best paramter we found \n",
    "# in hyperparater tuning notebook\n",
    "\n",
    "# set the paramters\n",
    "best_param = {\n",
    "    'n_estimators': 658,\n",
    "    'criterion': 'friedman_mse',\n",
    "    'max_depth': 5,\n",
    "    'min_samples_split': 0.017209668061883378,\n",
    "    'max_features': 'sqrt',\n",
    "    'learning_rate': 0.050497537295197764\n",
    "}"
   ]
  },
  {
   "cell_type": "code",
   "execution_count": 19,
   "id": "143cc0e6",
   "metadata": {
    "hidden": true
   },
   "outputs": [],
   "source": [
    "model_pipe = imbPipeline([\n",
    "    \n",
    "    # categorical encoding \n",
    "    (\"cat_encoding\", ce.OrdinalEncoder(\n",
    "        encoding_method='arbitrary', variables=cat_vars)),\n",
    "    \n",
    "    # feature scaling\n",
    "    (\"scale\", StandardScaler()),\n",
    "    \n",
    "    # oversampling with ADASYN\n",
    "    (\"oversampling\", ADASYN(sampling_strategy='auto', random_state=0, n_neighbors=5)),\n",
    "    \n",
    "    # classifier\n",
    "    (\"gbm\", GradientBoostingClassifier(**best_param))\n",
    "])"
   ]
  },
  {
   "cell_type": "code",
   "execution_count": 20,
   "id": "549b19e4",
   "metadata": {
    "hidden": true
   },
   "outputs": [],
   "source": [
    "# set up multiple scoring\n",
    "scoring = {'accuracy': 'accuracy',\n",
    "           'recall': 'recall_macro',\n",
    "           'precision': 'precision_macro',\n",
    "           'roc-auc': 'roc_auc'}"
   ]
  },
  {
   "cell_type": "code",
   "execution_count": 21,
   "id": "243c2841",
   "metadata": {
    "hidden": true
   },
   "outputs": [],
   "source": [
    "cv = RepeatedStratifiedKFold(n_splits=5, n_repeats=3, random_state=0)\n",
    "scores = cross_validate(model_pipe, X_train, y_train, scoring=scoring, \n",
    "                        cv=cv, n_jobs=-1)\n",
    "\n",
    "#print(\"Mean ROC AUC: %.3f\" % np.mean(scores))"
   ]
  },
  {
   "cell_type": "code",
   "execution_count": 22,
   "id": "3f2ea421",
   "metadata": {
    "hidden": true
   },
   "outputs": [
    {
     "name": "stdout",
     "output_type": "stream",
     "text": [
      "dict_keys(['fit_time', 'score_time', 'test_accuracy', 'test_recall', 'test_precision', 'test_roc-auc'])\n"
     ]
    }
   ],
   "source": [
    "print(scores.keys())"
   ]
  },
  {
   "cell_type": "code",
   "execution_count": 23,
   "id": "27d13fa6",
   "metadata": {
    "hidden": true
   },
   "outputs": [
    {
     "data": {
      "text/html": [
       "<div>\n",
       "<style scoped>\n",
       "    .dataframe tbody tr th:only-of-type {\n",
       "        vertical-align: middle;\n",
       "    }\n",
       "\n",
       "    .dataframe tbody tr th {\n",
       "        vertical-align: top;\n",
       "    }\n",
       "\n",
       "    .dataframe thead th {\n",
       "        text-align: right;\n",
       "    }\n",
       "</style>\n",
       "<table border=\"1\" class=\"dataframe\">\n",
       "  <thead>\n",
       "    <tr style=\"text-align: right;\">\n",
       "      <th></th>\n",
       "      <th>GBM_with_best_params</th>\n",
       "    </tr>\n",
       "  </thead>\n",
       "  <tbody>\n",
       "    <tr>\n",
       "      <th>Accuracy</th>\n",
       "      <td>0.971280</td>\n",
       "    </tr>\n",
       "    <tr>\n",
       "      <th>Recall</th>\n",
       "      <td>0.944944</td>\n",
       "    </tr>\n",
       "    <tr>\n",
       "      <th>Precision</th>\n",
       "      <td>0.949378</td>\n",
       "    </tr>\n",
       "    <tr>\n",
       "      <th>ROC AUC score</th>\n",
       "      <td>0.992964</td>\n",
       "    </tr>\n",
       "  </tbody>\n",
       "</table>\n",
       "</div>"
      ],
      "text/plain": [
       "               GBM_with_best_params\n",
       "Accuracy                   0.971280\n",
       "Recall                     0.944944\n",
       "Precision                  0.949378\n",
       "ROC AUC score              0.992964"
      ]
     },
     "execution_count": 23,
     "metadata": {},
     "output_type": "execute_result"
    }
   ],
   "source": [
    "# create scores as dataframe\n",
    "scores_df = pd.DataFrame(pd.Series(scores))\n",
    "\n",
    "# set column name\n",
    "scores_df.columns = ['scores']\n",
    "\n",
    "# create an empty column \n",
    "scores_df['GBM_with_best_params'] = np.NaN\n",
    "\n",
    "# create a column showing the average of scores\n",
    "for i in range(len(scores_df)):\n",
    "    scores_df['GBM_with_best_params'][i] = scores_df['scores'][i].mean()\n",
    "    \n",
    "# drop unuseful columns\n",
    "scores_df.drop(['scores'], axis=1, inplace=True)\n",
    "\n",
    "scores_df = scores_df.T\n",
    "scores_df.drop(['fit_time', 'score_time'], axis=1, inplace=True)\n",
    "\n",
    "# change index names in order to combine this with baseline GBM scores\n",
    "scores_df = scores_df.T\n",
    "scores_df.index = ['Accuracy', 'Recall', 'Precision', 'ROC AUC score']\n",
    "scores_df"
   ]
  },
  {
   "cell_type": "code",
   "execution_count": 24,
   "id": "8043548e",
   "metadata": {
    "hidden": true
   },
   "outputs": [],
   "source": [
    "# Combine baseline's GBMscores and new GBM scores\n",
    "new_df = pd.concat([models_df['GBMScore'], scores_df], axis=1)"
   ]
  },
  {
   "cell_type": "code",
   "execution_count": 25,
   "id": "9e392e77",
   "metadata": {
    "hidden": true
   },
   "outputs": [
    {
     "data": {
      "image/png": "[encoded data removed]",
      "text/plain": [
       "<Figure size 576x792 with 1 Axes>"
      ]
     },
     "metadata": {},
     "output_type": "display_data"
    }
   ],
   "source": [
    "import matplotlib\n",
    "\n",
    "fig = plt.figure(figsize=(8, 11))\n",
    "gs = fig.add_gridspec(4, 2)\n",
    "gs.update(wspace=0.1, hspace=0.5)\n",
    "ax0 = fig.add_subplot(gs[0, :])\n",
    "\n",
    "colors = ['#DADADA', '#DADADA']\n",
    "colormap = matplotlib.colors.LinearSegmentedColormap.from_list(\"\", colors)\n",
    "\n",
    "# change background color\n",
    "background_color='#fbfbfb'\n",
    "fig.patch.set_facecolor(background_color) # figure background color\n",
    "ax0.set_facecolor(background_color)\n",
    "\n",
    "\n",
    "# overall\n",
    "\n",
    "sns.heatmap(new_df, cmap=colormap, annot=True, linewidths=2.5, cbar=False, ax=ax0)\n",
    "\n",
    "ax0.tick_params(axis=u'both', which=u'both', length=0)\n",
    "ax0.text(0, -1.5, 'Comparison between GBM baseline and tuned GBM performances', fontfamily='serif', fontsize=15, fontweight='bold')\n",
    "ax0.text(0, -0.7, 'By tunning hyperparameters, GBM model shows improved performances in recall, precision, and roc-auc scores.',\n",
    "        fontfamily='serif', fontsize=12)\n",
    "\n",
    "\n",
    "from matplotlib.patches import Rectangle\n",
    "rect = ax0.add_patch(Rectangle((1, 1), 3, 3, fill=True,color='#51C4D3', edgecolor='white', lw=0,alpha=0.5))\n",
    "\n",
    "plt.show()"
   ]
  },
  {
   "cell_type": "markdown",
   "id": "66570d65",
   "metadata": {
    "hidden": true
   },
   "source": [
    "By tuning hyperparameters, we got the improved final model's performance (0.993 of ROC-AUC score) increased by 7% compared to the baseline (0.916 of ROC-AUC). "
   ]
  },
  {
   "cell_type": "markdown",
   "id": "a438ea2c",
   "metadata": {},
   "source": [
    "## Conclusion\n",
    "\n",
    "In this notebook, we compared six different algorithms, and we found Gradient Boosting model showed the best performance. Therefore, we tried to find the best hyperparameters by using Optuna in [HyperparamterTuningForGBM.ipynb]. \n",
    "\n",
    "**By using the best hyperparamters, we got an improved GBM model showing 7% increased performance (0.993 of ROC-AUC score) compared to the baseline (0.916 of ROC-AUC).**"
   ]
  }
 ],
 "metadata": {
  "kernelspec": {
   "display_name": "Python 3",
   "language": "python",
   "name": "python3"
  },
  "language_info": {
   "codemirror_mode": {
    "name": "ipython",
    "version": 3
   },
   "file_extension": ".py",
   "mimetype": "text/x-python",
   "name": "python",
   "nbconvert_exporter": "python",
   "pygments_lexer": "ipython3",
   "version": "3.8.8"
  },
  "toc": {
   "base_numbering": 1,
   "nav_menu": {},
   "number_sections": true,
   "sideBar": true,
   "skip_h1_title": true,
   "title_cell": "Table of Contents",
   "title_sidebar": "Contents",
   "toc_cell": false,
   "toc_position": {},
   "toc_section_display": true,
   "toc_window_display": false
  },
  "varInspector": {
   "cols": {
    "lenName": 16,
    "lenType": 16,
    "lenVar": 40
   },
   "kernels_config": {
    "python": {
     "delete_cmd_postfix": "",
     "delete_cmd_prefix": "del ",
     "library": "var_list.py",
     "varRefreshCmd": "print(var_dic_list())"
    },
    "r": {
     "delete_cmd_postfix": ") ",
     "delete_cmd_prefix": "rm(",
     "library": "var_list.r",
     "varRefreshCmd": "cat(var_dic_list()) "
    }
   },
   "types_to_exclude": [
    "module",
    "function",
    "builtin_function_or_method",
    "instance",
    "_Feature"
   ],
   "window_display": false
  }
 },
 "nbformat": 4,
 "nbformat_minor": 5
}
